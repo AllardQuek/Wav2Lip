{
 "cells": [
  {
   "cell_type": "code",
   "execution_count": 1,
   "id": "72a9b7cf",
   "metadata": {},
   "outputs": [
    {
     "name": "stdout",
     "output_type": "stream",
     "text": [
      "hello world\n"
     ]
    }
   ],
   "source": [
    "print(\"hello world\")"
   ]
  },
  {
   "cell_type": "code",
   "execution_count": 2,
   "id": "85f51099",
   "metadata": {
    "scrolled": true
   },
   "outputs": [
    {
     "name": "stdout",
     "output_type": "stream",
     "text": [
      "How did this manage to run\n"
     ]
    }
   ],
   "source": [
    "print(\"How did this manage to run\")"
   ]
  },
  {
   "cell_type": "code",
   "execution_count": 3,
   "id": "0140f77c",
   "metadata": {},
   "outputs": [
    {
     "name": "stdout",
     "output_type": "stream",
     "text": [
      "copy: s3://audio-wav2lip/polly.mp3 to s3://audio-wav2lip/DONE.mp3 \r\n"
     ]
    }
   ],
   "source": [
    "!aws s3 cp s3://audio-wav2lip/polly.mp3 s3://audio-wav2lip/DONE.mp3"
   ]
  },
  {
   "cell_type": "code",
   "execution_count": null,
   "id": "506487eb",
   "metadata": {},
   "outputs": [],
   "source": []
  }
 ],
 "metadata": {
  "kernelspec": {
   "display_name": "conda_tensorflow2_p36",
   "language": "python",
   "name": "conda_tensorflow2_p36"
  },
  "language_info": {
   "codemirror_mode": {
    "name": "ipython",
    "version": 3
   },
   "file_extension": ".py",
   "mimetype": "text/x-python",
   "name": "python",
   "nbconvert_exporter": "python",
   "pygments_lexer": "ipython3",
   "version": "3.6.13"
  }
 },
 "nbformat": 4,
 "nbformat_minor": 5
}
