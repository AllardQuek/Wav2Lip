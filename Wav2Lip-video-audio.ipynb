{
 "cells": [
  {
   "cell_type": "code",
   "execution_count": 1,
   "metadata": {
    "scrolled": true
   },
   "outputs": [
    {
     "name": "stdout",
     "output_type": "stream",
     "text": [
      "Requirement already satisfied: numpy in /home/ec2-user/anaconda3/envs/JupyterSystemEnv/lib/python3.6/site-packages (from -r requirements.txt (line 1)) (1.19.5)\r\n",
      "Requirement already satisfied: opencv-contrib-python in /home/ec2-user/anaconda3/envs/JupyterSystemEnv/lib/python3.6/site-packages (from -r requirements.txt (line 2)) (4.5.3.56)\r\n",
      "Requirement already satisfied: opencv-python-headless in /home/ec2-user/anaconda3/envs/JupyterSystemEnv/lib/python3.6/site-packages (from -r requirements.txt (line 3)) (4.5.3.56)\r\n",
      "Requirement already satisfied: torch in /home/ec2-user/anaconda3/envs/JupyterSystemEnv/lib/python3.6/site-packages (from -r requirements.txt (line 4)) (1.9.0)\r\n",
      "Requirement already satisfied: torchvision in /home/ec2-user/anaconda3/envs/JupyterSystemEnv/lib/python3.6/site-packages (from -r requirements.txt (line 5)) (0.10.0)\r\n",
      "Requirement already satisfied: tqdm in /home/ec2-user/anaconda3/envs/JupyterSystemEnv/lib/python3.6/site-packages (from -r requirements.txt (line 6)) (4.61.2)\r\n",
      "Requirement already satisfied: numba in /home/ec2-user/anaconda3/envs/JupyterSystemEnv/lib/python3.6/site-packages (from -r requirements.txt (line 7)) (0.53.1)\r\n",
      "Requirement already satisfied: scipy in /home/ec2-user/anaconda3/envs/JupyterSystemEnv/lib/python3.6/site-packages (from -r requirements.txt (line 8)) (1.5.4)\r\n",
      "Requirement already satisfied: moviepy in /home/ec2-user/anaconda3/envs/JupyterSystemEnv/lib/python3.6/site-packages (from -r requirements.txt (line 9)) (1.0.3)\r\n",
      "Requirement already satisfied: typing-extensions in /home/ec2-user/anaconda3/envs/JupyterSystemEnv/lib/python3.6/site-packages (from torch->-r requirements.txt (line 4)) (3.10.0.0)\r\n",
      "Requirement already satisfied: dataclasses in /home/ec2-user/anaconda3/envs/JupyterSystemEnv/lib/python3.6/site-packages (from torch->-r requirements.txt (line 4)) (0.8)\r\n",
      "Requirement already satisfied: pillow>=5.3.0 in /home/ec2-user/anaconda3/envs/JupyterSystemEnv/lib/python3.6/site-packages (from torchvision->-r requirements.txt (line 5)) (8.3.1)\r\n",
      "Requirement already satisfied: setuptools in /home/ec2-user/anaconda3/envs/JupyterSystemEnv/lib/python3.6/site-packages (from numba->-r requirements.txt (line 7)) (49.6.0.post20210108)\r\n",
      "Requirement already satisfied: llvmlite<0.37,>=0.36.0rc1 in /home/ec2-user/anaconda3/envs/JupyterSystemEnv/lib/python3.6/site-packages (from numba->-r requirements.txt (line 7)) (0.36.0)\r\n",
      "Requirement already satisfied: proglog<=1.0.0 in /home/ec2-user/anaconda3/envs/JupyterSystemEnv/lib/python3.6/site-packages (from moviepy->-r requirements.txt (line 9)) (0.1.9)\r\n",
      "Requirement already satisfied: imageio<3.0,>=2.5 in /home/ec2-user/anaconda3/envs/JupyterSystemEnv/lib/python3.6/site-packages (from moviepy->-r requirements.txt (line 9)) (2.9.0)\r\n",
      "Requirement already satisfied: decorator<5.0,>=4.0.2 in /home/ec2-user/anaconda3/envs/JupyterSystemEnv/lib/python3.6/site-packages (from moviepy->-r requirements.txt (line 9)) (4.4.2)\r\n",
      "Requirement already satisfied: requests<3.0,>=2.8.1 in /home/ec2-user/anaconda3/envs/JupyterSystemEnv/lib/python3.6/site-packages (from moviepy->-r requirements.txt (line 9)) (2.25.1)\r\n",
      "Requirement already satisfied: imageio-ffmpeg>=0.2.0 in /home/ec2-user/anaconda3/envs/JupyterSystemEnv/lib/python3.6/site-packages (from moviepy->-r requirements.txt (line 9)) (0.4.4)\r\n",
      "Requirement already satisfied: urllib3<1.27,>=1.21.1 in /home/ec2-user/anaconda3/envs/JupyterSystemEnv/lib/python3.6/site-packages (from requests<3.0,>=2.8.1->moviepy->-r requirements.txt (line 9)) (1.26.5)\r\n",
      "Requirement already satisfied: idna<3,>=2.5 in /home/ec2-user/anaconda3/envs/JupyterSystemEnv/lib/python3.6/site-packages (from requests<3.0,>=2.8.1->moviepy->-r requirements.txt (line 9)) (2.10)\r\n",
      "Requirement already satisfied: certifi>=2017.4.17 in /home/ec2-user/anaconda3/envs/JupyterSystemEnv/lib/python3.6/site-packages (from requests<3.0,>=2.8.1->moviepy->-r requirements.txt (line 9)) (2021.5.30)\r\n",
      "Requirement already satisfied: chardet<5,>=3.0.2 in /home/ec2-user/anaconda3/envs/JupyterSystemEnv/lib/python3.6/site-packages (from requests<3.0,>=2.8.1->moviepy->-r requirements.txt (line 9)) (4.0.0)\r\n",
      "Collecting package metadata (current_repodata.json): - \b\b\\ \b\b| \b\b/ \b\b- \b\b\\ \b\b| \b\b/ \b\b- \b\b\\ \b\b| \b\b/ \b\b- \b\b\\ \b\b| \b\b/ \b\b- \b\b\\ \b\b| \b\b/ \b\b- \b\b\\ \b\b| \b\b/ \b\b- \b\b\\ \b\b| \b\bdone\r\n",
      "Solving environment: - \b\b\\ \b\b| \b\b/ \b\b- \b\b\\ \b\b| \b\b/ \b\b- \b\b\\ \b\b| \b\b/ \b\b- \b\b\\ \b\b| \b\b/ \b\b- \b\b\\ \b\b| \b\b/ \b\b- \b\b\\ \b\b| \b\b/ \b\b- \b\b\\ \b\b| \b\b/ \b\b- \b\b\\ \b\b| \b\b/ \b\b- \b\b\\ \b\b| \b\b/ \b\b- \b\b\\ \b\b| \b\b/ \b\b- \b\b\\ \b\b| \b\b/ \b\b- \b\b\\ \b\b| \b\b/ \b\b- \b\b\\ \b\b| \b\b/ \b\b- \b\b\\ \b\b| \b\b/ \b\b- \b\b\\ \b\b| \b\b/ \b\b- \b\b\\ \b\bdone\r\n",
      "\r\n",
      "\r\n",
      "==> WARNING: A newer version of conda exists. <==\r\n",
      "  current version: 4.8.4\r\n",
      "  latest version: 4.10.3\r\n",
      "\r\n",
      "Please update conda by running\r\n",
      "\r\n",
      "    $ conda update -n base -c defaults conda\r\n",
      "\r\n",
      "\r\n",
      "\r\n",
      "# All requested packages already installed.\r\n",
      "\r\n"
     ]
    }
   ],
   "source": [
    "!pip install -r requirements.txt\n",
    "!conda install -c conda-forge librosa -y\n",
    "# !pip install scipy\n",
    "# !pip install opencv-python-headless"
   ]
  },
  {
   "cell_type": "code",
   "execution_count": 2,
   "metadata": {},
   "outputs": [
    {
     "name": "stdout",
     "output_type": "stream",
     "text": [
      "download: s3://video-wav2lip/video.mp4 to sample_data/video.mp4    \r\n",
      "download: s3://audio-wav2lip/audio.mp3 to sample_data/audio.mp3   \r\n",
      "audio.mp3  image.jpeg\t    lessonVid.mp4  polly.wav\r\n",
      "elon.mp4   lessonAudio.mp3  polly.mp3\t   video.mp4\r\n"
     ]
    }
   ],
   "source": [
    "# Copy files over from S3\n",
    "!aws s3 cp s3://video-wav2lip/video.mp4 sample_data/\n",
    "!aws s3 cp s3://audio-wav2lip/audio.mp3 sample_data/\n",
    "!ls sample_data"
   ]
  },
  {
   "cell_type": "code",
   "execution_count": 3,
   "metadata": {
    "colab": {
     "base_uri": "https://localhost:8080/"
    },
    "executionInfo": {
     "elapsed": 125111,
     "status": "ok",
     "timestamp": 1619963464070,
     "user": {
      "displayName": "Allard Quek",
      "photoUrl": "https://lh3.googleusercontent.com/a-/AOh14Gj8BW3h-H8WiFe0e70qq-7PHga9DZsw6PW34FcvQg=s64",
      "userId": "11989963074264449998"
     },
     "user_tz": -480
    },
    "id": "xw0xFtZ2bsx8",
    "outputId": "a025954c-8651-475c-cb19-b1f67179420d",
    "scrolled": false
   },
   "outputs": [
    {
     "name": "stdout",
     "output_type": "stream",
     "text": [
      "Using cpu for inference.\r\n",
      "Reading video frames...\r\n",
      "Number of frames available for inference: 449\r\n",
      "Extracting raw audio...\r\n",
      "ffmpeg version 4.3.1 Copyright (c) 2000-2020 the FFmpeg developers\r\n",
      "  built with gcc 9.3.0 (crosstool-NG 1.24.0.133_b0863d8_dirty)\r\n",
      "  configuration: --prefix=/home/ec2-user/anaconda3/envs/JupyterSystemEnv --cc=/home/conda/feedstock_root/build_artifacts/ffmpeg_1609680890771/_build_env/bin/x86_64-conda-linux-gnu-cc --disable-doc --disable-openssl --enable-avresample --enable-gnutls --enable-gpl --enable-hardcoded-tables --enable-libfreetype --enable-libopenh264 --enable-libx264 --enable-pic --enable-pthreads --enable-shared --enable-static --enable-version3 --enable-zlib --enable-libmp3lame --pkg-config=/home/conda/feedstock_root/build_artifacts/ffmpeg_1609680890771/_build_env/bin/pkg-config\r\n",
      "  libavutil      56. 51.100 / 56. 51.100\r\n",
      "  libavcodec     58. 91.100 / 58. 91.100\r\n",
      "  libavformat    58. 45.100 / 58. 45.100\r\n",
      "  libavdevice    58. 10.100 / 58. 10.100\r\n",
      "  libavfilter     7. 85.100 /  7. 85.100\r\n",
      "  libavresample   4.  0.  0 /  4.  0.  0\r\n",
      "  libswscale      5.  7.100 /  5.  7.100\r\n",
      "  libswresample   3.  7.100 /  3.  7.100\r\n",
      "  libpostproc    55.  7.100 / 55.  7.100\r\n",
      "\u001b[0;35m[mp3 @ 0x555a2a66fdc0] \u001b[0m\u001b[0;33mEstimating duration from bitrate, this may be inaccurate\r\n",
      "\u001b[0mInput #0, mp3, from 'sample_data/audio.mp3':\r\n",
      "  Metadata:\r\n",
      "    encoder         : Lavf58.45.100\r\n",
      "  Duration: 00:00:05.15, start: 0.000000, bitrate: 48 kb/s\r\n",
      "    Stream #0:0: Audio: mp3, 22050 Hz, mono, fltp, 48 kb/s\r\n",
      "Stream mapping:\r\n",
      "  Stream #0:0 -> #0:0 (mp3 (mp3float) -> pcm_s16le (native))\r\n",
      "Press [q] to stop, [?] for help\r\n",
      "Output #0, wav, to 'temp/temp.wav':\r\n",
      "  Metadata:\r\n",
      "    ISFT            : Lavf58.45.100\r\n",
      "    Stream #0:0: Audio: pcm_s16le ([1][0][0][0] / 0x0001), 22050 Hz, mono, s16, 352 kb/s\r\n",
      "    Metadata:\r\n",
      "      encoder         : Lavc58.91.100 pcm_s16le\r\n",
      "size=     222kB time=00:00:05.14 bitrate= 352.9kbits/s speed=1.06e+03x    \r\n",
      "video:0kB audio:222kB subtitle:0kB other streams:0kB global headers:0kB muxing overhead: 0.034370%\r\n",
      "(80, 412)\r\n",
      "Length of mel chunks: 125\r\n",
      "  0%|                                                     | 0/4 [00:00<?, ?it/s]\r\n",
      "  0%|                                                     | 0/8 [00:00<?, ?it/s]\u001b[A/home/ec2-user/anaconda3/envs/JupyterSystemEnv/lib/python3.6/site-packages/torch/nn/functional.py:718: UserWarning: Named tensors and all their associated APIs are an experimental feature and subject to change. Please do not use them for anything important until they are released as stable. (Triggered internally at  /pytorch/c10/core/TensorImpl.h:1156.)\r\n",
      "  return torch.max_pool2d(input, kernel_size, stride, padding, dilation, ceil_mode)\r\n",
      "\r\n",
      " 12%|█████▋                                       | 1/8 [00:05<00:39,  5.65s/it]\u001b[A\r\n",
      " 25%|███████████▎                                 | 2/8 [00:11<00:33,  5.63s/it]\u001b[A\r\n",
      " 38%|████████████████▉                            | 3/8 [00:16<00:28,  5.63s/it]\u001b[A\r\n",
      " 50%|██████████████████████▌                      | 4/8 [00:22<00:22,  5.63s/it]\u001b[A\r\n",
      " 62%|████████████████████████████▏                | 5/8 [00:28<00:16,  5.62s/it]\u001b[A\r\n",
      " 75%|█████████████████████████████████▊           | 6/8 [00:33<00:11,  5.63s/it]\u001b[A\r\n",
      " 88%|███████████████████████████████████████▍     | 7/8 [00:39<00:05,  5.62s/it]\u001b[A\r\n",
      "100%|█████████████████████████████████████████████| 8/8 [00:43<00:00,  5.49s/it]\r\n",
      "Load checkpoint from: checkpoints/wav2lip.pth\r\n",
      "Model loaded\r\n",
      "100%|█████████████████████████████████████████████| 4/4 [00:51<00:00, 12.82s/it]\r\n",
      "ffmpeg version 4.3.1 Copyright (c) 2000-2020 the FFmpeg developers\r\n",
      "  built with gcc 9.3.0 (crosstool-NG 1.24.0.133_b0863d8_dirty)\r\n",
      "  configuration: --prefix=/home/ec2-user/anaconda3/envs/JupyterSystemEnv --cc=/home/conda/feedstock_root/build_artifacts/ffmpeg_1609680890771/_build_env/bin/x86_64-conda-linux-gnu-cc --disable-doc --disable-openssl --enable-avresample --enable-gnutls --enable-gpl --enable-hardcoded-tables --enable-libfreetype --enable-libopenh264 --enable-libx264 --enable-pic --enable-pthreads --enable-shared --enable-static --enable-version3 --enable-zlib --enable-libmp3lame --pkg-config=/home/conda/feedstock_root/build_artifacts/ffmpeg_1609680890771/_build_env/bin/pkg-config\r\n",
      "  libavutil      56. 51.100 / 56. 51.100\r\n",
      "  libavcodec     58. 91.100 / 58. 91.100\r\n",
      "  libavformat    58. 45.100 / 58. 45.100\r\n",
      "  libavdevice    58. 10.100 / 58. 10.100\r\n",
      "  libavfilter     7. 85.100 /  7. 85.100\r\n",
      "  libavresample   4.  0.  0 /  4.  0.  0\r\n",
      "  libswscale      5.  7.100 /  5.  7.100\r\n",
      "  libswresample   3.  7.100 /  3.  7.100\r\n",
      "  libpostproc    55.  7.100 / 55.  7.100\r\n",
      "\u001b[0;33mGuessed Channel Layout for Input Stream #0.0 : mono\r\n",
      "\u001b[0mInput #0, wav, from 'temp/temp.wav':\r\n",
      "  Metadata:\r\n",
      "    encoder         : Lavf58.45.100\r\n",
      "  Duration: 00:00:05.15, bitrate: 352 kb/s\r\n",
      "    Stream #0:0: Audio: pcm_s16le ([1][0][0][0] / 0x0001), 22050 Hz, mono, s16, 352 kb/s\r\n",
      "Input #1, avi, from 'temp/result.avi':\r\n",
      "  Metadata:\r\n",
      "    encoder         : Lavf58.61.100\r\n",
      "  Duration: 00:00:05.01, start: 0.000000, bitrate: 294 kb/s\r\n",
      "    Stream #1:0: Video: mpeg4 (Simple Profile) (DIVX / 0x58564944), yuv420p, 426x240 [SAR 1:1 DAR 71:40], 283 kb/s, 24.97 fps, 25 tbr, 24.97 tbn, 12483 tbc\r\n",
      "Stream mapping:\r\n",
      "  Stream #1:0 -> #0:0 (mpeg4 (native) -> h264 (libx264))\r\n",
      "  Stream #0:0 -> #0:1 (pcm_s16le (native) -> aac (native))\r\n",
      "Press [q] to stop, [?] for help\r\n",
      "\u001b[1;36m[libx264 @ 0x559a75089140] \u001b[0m\u001b[0;33m-qscale is ignored, -crf is recommended.\r\n",
      "\u001b[0m\u001b[1;36m[libx264 @ 0x559a75089140] \u001b[0musing SAR=1/1\r\n",
      "\u001b[1;36m[libx264 @ 0x559a75089140] \u001b[0musing cpu capabilities: MMX2 SSE2Fast SSSE3 SSE4.2 AVX FMA3 BMI2 AVX2\r\n",
      "\u001b[1;36m[libx264 @ 0x559a75089140] \u001b[0mprofile High, level 2.1, 4:2:0, 8-bit\r\n",
      "\u001b[1;36m[libx264 @ 0x559a75089140] \u001b[0m264 - core 161 r3030M 8bd6d28 - H.264/MPEG-4 AVC codec - Copyleft 2003-2020 - http://www.videolan.org/x264.html - options: cabac=1 ref=3 deblock=1:0:0 analyse=0x3:0x113 me=hex subme=7 psy=1 psy_rd=1.00:0.00 mixed_ref=1 me_range=16 chroma_me=1 trellis=1 8x8dct=1 cqm=0 deadzone=21,11 fast_pskip=1 chroma_qp_offset=-2 threads=6 lookahead_threads=1 sliced_threads=0 nr=0 decimate=1 interlaced=0 bluray_compat=0 constrained_intra=0 bframes=3 b_pyramid=2 b_adapt=1 b_bias=0 direct=1 weightb=1 open_gop=0 weightp=2 keyint=250 keyint_min=25 scenecut=40 intra_refresh=0 rc_lookahead=40 rc=crf mbtree=1 crf=23.0 qcomp=0.60 qpmin=0 qpmax=69 qpstep=4 ip_ratio=1.40 aq=1:1.00\r\n",
      "Output #0, mp4, to 'results/result_voice.mp4':\r\n",
      "  Metadata:\r\n",
      "    encoder         : Lavf58.45.100\r\n",
      "    Stream #0:0: Video: h264 (libx264) (avc1 / 0x31637661), yuv420p(progressive), 426x240 [SAR 1:1 DAR 71:40], q=-1--1, 25 fps, 12800 tbn, 25 tbc\r\n",
      "    Metadata:\r\n",
      "      encoder         : Lavc58.91.100 libx264\r\n",
      "    Side data:\r\n",
      "      cpb: bitrate max/min/avg: 0/0/0 buffer size: 0 vbv_delay: N/A\r\n",
      "    Stream #0:1: Audio: aac (LC) (mp4a / 0x6134706D), 22050 Hz, mono, fltp, 69 kb/s\r\n",
      "    Metadata:\r\n",
      "      encoder         : Lavc58.91.100 aac\r\n",
      "frame=  125 fps=0.0 q=-1.0 Lsize=     120kB time=00:00:05.15 bitrate= 191.1kbits/s speed=20.4x    \r\n",
      "video:69kB audio:47kB subtitle:0kB other streams:0kB global headers:0kB muxing overhead: 3.599556%\r\n",
      "\u001b[1;36m[libx264 @ 0x559a75089140] \u001b[0mframe I:1     Avg QP:19.92  size:  5985\r\n",
      "\u001b[1;36m[libx264 @ 0x559a75089140] \u001b[0mframe P:77    Avg QP:22.17  size:   713\r\n",
      "\u001b[1;36m[libx264 @ 0x559a75089140] \u001b[0mframe B:47    Avg QP:24.39  size:   188\r\n",
      "\u001b[1;36m[libx264 @ 0x559a75089140] \u001b[0mconsecutive B-frames: 42.4% 19.2%  9.6% 28.8%\r\n",
      "\u001b[1;36m[libx264 @ 0x559a75089140] \u001b[0mmb I  I16..4: 17.5% 76.8%  5.7%\r\n",
      "\u001b[1;36m[libx264 @ 0x559a75089140] \u001b[0mmb P  I16..4:  0.6%  2.3%  0.0%  P16..4: 20.9%  7.8%  4.8%  0.0%  0.0%    skip:63.6%\r\n",
      "\u001b[1;36m[libx264 @ 0x559a75089140] \u001b[0mmb B  I16..4:  0.2%  1.2%  0.0%  B16..8: 22.7%  1.3%  0.1%  direct: 0.3%  skip:74.2%  L0:44.1% L1:52.4% BI: 3.6%\r\n",
      "\u001b[1;36m[libx264 @ 0x559a75089140] \u001b[0m8x8 transform intra:78.8% inter:76.3%\r\n",
      "\u001b[1;36m[libx264 @ 0x559a75089140] \u001b[0mcoded y,uvDC,uvAC intra: 38.4% 35.3% 8.8% inter: 5.4% 6.0% 0.2%\r\n",
      "\u001b[1;36m[libx264 @ 0x559a75089140] \u001b[0mi16 v,h,dc,p: 34% 27% 32%  7%\r\n",
      "\u001b[1;36m[libx264 @ 0x559a75089140] \u001b[0mi8 v,h,dc,ddl,ddr,vr,hd,vl,hu: 19% 21% 48%  2%  2%  2%  3%  2%  2%\r\n",
      "\u001b[1;36m[libx264 @ 0x559a75089140] \u001b[0mi4 v,h,dc,ddl,ddr,vr,hd,vl,hu: 38% 23% 14%  5%  3%  7%  2%  4%  3%\r\n",
      "\u001b[1;36m[libx264 @ 0x559a75089140] \u001b[0mi8c dc,h,v,p: 54% 18% 25%  3%\r\n",
      "\u001b[1;36m[libx264 @ 0x559a75089140] \u001b[0mWeighted P-Frames: Y:0.0% UV:0.0%\r\n",
      "\u001b[1;36m[libx264 @ 0x559a75089140] \u001b[0mref P L0: 72.1% 11.0% 12.1%  4.8%\r\n",
      "\u001b[1;36m[libx264 @ 0x559a75089140] \u001b[0mref B L0: 82.6% 13.8%  3.7%\r\n",
      "\u001b[1;36m[libx264 @ 0x559a75089140] \u001b[0mref B L1: 96.7%  3.3%\r\n",
      "\u001b[1;36m[libx264 @ 0x559a75089140] \u001b[0mkb/s:111.63\r\n",
      "\u001b[1;36m[aac @ 0x559a75083500] \u001b[0mQavg: 7560.311\r\n",
      "\u001b[0m"
     ]
    }
   ],
   "source": [
    "!python inference.py --checkpoint_path checkpoints/wav2lip.pth --face \"sample_data/video.mp4\" --audio \"sample_data/audio.mp3\" --resize_factor 2"
   ]
  },
  {
   "cell_type": "markdown",
   "metadata": {},
   "source": [
    "One option is to save the result video to our S3 bucket."
   ]
  },
  {
   "cell_type": "code",
   "execution_count": 4,
   "metadata": {
    "scrolled": true
   },
   "outputs": [],
   "source": [
    "# !aws s3 cp results/result_voice.mp4 s3://wav2lip-results/result.mp4"
   ]
  },
  {
   "cell_type": "markdown",
   "metadata": {},
   "source": [
    "Another is to send an email to the user with the result as a video attachment!"
   ]
  },
  {
   "cell_type": "code",
   "execution_count": 1,
   "metadata": {},
   "outputs": [
    {
     "name": "stdout",
     "output_type": "stream",
     "text": [
      "EMAIL SENT\n"
     ]
    }
   ],
   "source": [
    "import os\n",
    "from email_aws import send_email\n",
    "\n",
    "send_email(is_lesson=False) if os.path.isfile(\"results/result_voice.mp4\") else send_email(error=True)"
   ]
  },
  {
   "cell_type": "markdown",
   "metadata": {},
   "source": [
    "Now, let's clean up our resources"
   ]
  },
  {
   "cell_type": "code",
   "execution_count": 6,
   "metadata": {
    "scrolled": true
   },
   "outputs": [],
   "source": [
    "!rm results/result_voice.mp4"
   ]
  },
  {
   "cell_type": "code",
   "execution_count": 7,
   "metadata": {},
   "outputs": [],
   "source": [
    "!rm sample_data/video.mp4\n",
    "!rm sample_data/audio.mp3"
   ]
  },
  {
   "cell_type": "code",
   "execution_count": 8,
   "metadata": {},
   "outputs": [
    {
     "name": "stdout",
     "output_type": "stream",
     "text": [
      "delete: s3://video-wav2lip/video.mp4\r\n"
     ]
    }
   ],
   "source": [
    "!aws s3 rm s3://video-wav2lip/video.mp4 "
   ]
  },
  {
   "cell_type": "code",
   "execution_count": 9,
   "metadata": {},
   "outputs": [
    {
     "name": "stdout",
     "output_type": "stream",
     "text": [
      "delete: s3://video-wav2lip/audio.mp3\r\n"
     ]
    }
   ],
   "source": [
    "!aws s3 rm s3://video-wav2lip/audio.mp3 "
   ]
  }
 ],
 "metadata": {
  "accelerator": "GPU",
  "colab": {
   "collapsed_sections": [],
   "name": "Wav2Lip.ipynb",
   "provenance": [
    {
     "file_id": "1tZpDWXz49W6wDcTprANRGLo2D_EbD5J8",
     "timestamp": 1619967859029
    },
    {
     "file_id": "1NLUwupCBsB1HrpEmOIHeMgU63sus2LxP",
     "timestamp": 1597735440478
    }
   ],
   "toc_visible": true
  },
  "kernelspec": {
   "display_name": "Python 3",
   "language": "python",
   "name": "python3"
  },
  "language_info": {
   "codemirror_mode": {
    "name": "ipython",
    "version": 3
   },
   "file_extension": ".py",
   "mimetype": "text/x-python",
   "name": "python",
   "nbconvert_exporter": "python",
   "pygments_lexer": "ipython3",
   "version": "3.9.1"
  }
 },
 "nbformat": 4,
 "nbformat_minor": 1
}
