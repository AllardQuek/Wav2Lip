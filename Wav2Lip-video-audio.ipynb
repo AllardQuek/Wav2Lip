{
 "cells": [
  {
   "cell_type": "code",
   "execution_count": 1,
   "metadata": {
    "scrolled": true
   },
   "outputs": [
    {
     "name": "stdout",
     "output_type": "stream",
     "text": [
      "Requirement already satisfied: librosa in /home/ec2-user/anaconda3/envs/JupyterSystemEnv/lib/python3.6/site-packages (from -r requirements.txt (line 1)) (0.8.1)\r\n",
      "Requirement already satisfied: numpy in /home/ec2-user/anaconda3/envs/JupyterSystemEnv/lib/python3.6/site-packages (from -r requirements.txt (line 2)) (1.19.5)\r\n",
      "Requirement already satisfied: opencv-contrib-python in /home/ec2-user/anaconda3/envs/JupyterSystemEnv/lib/python3.6/site-packages (from -r requirements.txt (line 3)) (4.5.2.54)\r\n",
      "Requirement already satisfied: opencv-python-headless in /home/ec2-user/anaconda3/envs/JupyterSystemEnv/lib/python3.6/site-packages (from -r requirements.txt (line 4)) (4.5.2.54)\r\n",
      "Requirement already satisfied: torch in /home/ec2-user/anaconda3/envs/JupyterSystemEnv/lib/python3.6/site-packages (from -r requirements.txt (line 5)) (1.9.0)\r\n",
      "Requirement already satisfied: torchvision in /home/ec2-user/anaconda3/envs/JupyterSystemEnv/lib/python3.6/site-packages (from -r requirements.txt (line 6)) (0.10.0)\r\n",
      "Requirement already satisfied: tqdm in /home/ec2-user/anaconda3/envs/JupyterSystemEnv/lib/python3.6/site-packages (from -r requirements.txt (line 7)) (4.61.1)\r\n",
      "Requirement already satisfied: numba in /home/ec2-user/anaconda3/envs/JupyterSystemEnv/lib/python3.6/site-packages (from -r requirements.txt (line 8)) (0.53.1)\r\n",
      "Requirement already satisfied: scipy in /home/ec2-user/anaconda3/envs/JupyterSystemEnv/lib/python3.6/site-packages (from -r requirements.txt (line 9)) (1.5.4)\r\n",
      "Requirement already satisfied: scikit-learn!=0.19.0,>=0.14.0 in /home/ec2-user/anaconda3/envs/JupyterSystemEnv/lib/python3.6/site-packages (from librosa->-r requirements.txt (line 1)) (0.24.2)\r\n",
      "Requirement already satisfied: joblib>=0.14 in /home/ec2-user/anaconda3/envs/JupyterSystemEnv/lib/python3.6/site-packages (from librosa->-r requirements.txt (line 1)) (1.0.1)\r\n",
      "Requirement already satisfied: audioread>=2.0.0 in /home/ec2-user/anaconda3/envs/JupyterSystemEnv/lib/python3.6/site-packages (from librosa->-r requirements.txt (line 1)) (2.1.9)\r\n",
      "Requirement already satisfied: decorator>=3.0.0 in /home/ec2-user/anaconda3/envs/JupyterSystemEnv/lib/python3.6/site-packages (from librosa->-r requirements.txt (line 1)) (5.0.9)\r\n",
      "Requirement already satisfied: pooch>=1.0 in /home/ec2-user/anaconda3/envs/JupyterSystemEnv/lib/python3.6/site-packages (from librosa->-r requirements.txt (line 1)) (1.4.0)\r\n",
      "Requirement already satisfied: resampy>=0.2.2 in /home/ec2-user/anaconda3/envs/JupyterSystemEnv/lib/python3.6/site-packages (from librosa->-r requirements.txt (line 1)) (0.2.2)\r\n",
      "Requirement already satisfied: soundfile>=0.10.2 in /home/ec2-user/anaconda3/envs/JupyterSystemEnv/lib/python3.6/site-packages (from librosa->-r requirements.txt (line 1)) (0.10.3.post1)\r\n",
      "Requirement already satisfied: packaging>=20.0 in /home/ec2-user/anaconda3/envs/JupyterSystemEnv/lib/python3.6/site-packages (from librosa->-r requirements.txt (line 1)) (20.9)\r\n",
      "Requirement already satisfied: llvmlite<0.37,>=0.36.0rc1 in /home/ec2-user/anaconda3/envs/JupyterSystemEnv/lib/python3.6/site-packages (from numba->-r requirements.txt (line 8)) (0.36.0)\r\n",
      "Requirement already satisfied: setuptools in /home/ec2-user/anaconda3/envs/JupyterSystemEnv/lib/python3.6/site-packages (from numba->-r requirements.txt (line 8)) (49.6.0.post20210108)\r\n",
      "Requirement already satisfied: pyparsing>=2.0.2 in /home/ec2-user/anaconda3/envs/JupyterSystemEnv/lib/python3.6/site-packages (from packaging>=20.0->librosa->-r requirements.txt (line 1)) (2.4.7)\r\n",
      "Requirement already satisfied: requests in /home/ec2-user/anaconda3/envs/JupyterSystemEnv/lib/python3.6/site-packages (from pooch>=1.0->librosa->-r requirements.txt (line 1)) (2.25.1)\r\n",
      "Requirement already satisfied: appdirs in /home/ec2-user/anaconda3/envs/JupyterSystemEnv/lib/python3.6/site-packages (from pooch>=1.0->librosa->-r requirements.txt (line 1)) (1.4.4)\r\n",
      "Requirement already satisfied: six>=1.3 in /home/ec2-user/anaconda3/envs/JupyterSystemEnv/lib/python3.6/site-packages (from resampy>=0.2.2->librosa->-r requirements.txt (line 1)) (1.16.0)\r\n",
      "Requirement already satisfied: threadpoolctl>=2.0.0 in /home/ec2-user/anaconda3/envs/JupyterSystemEnv/lib/python3.6/site-packages (from scikit-learn!=0.19.0,>=0.14.0->librosa->-r requirements.txt (line 1)) (2.1.0)\r\n",
      "Requirement already satisfied: cffi>=1.0 in /home/ec2-user/anaconda3/envs/JupyterSystemEnv/lib/python3.6/site-packages (from soundfile>=0.10.2->librosa->-r requirements.txt (line 1)) (1.14.5)\r\n",
      "Requirement already satisfied: pycparser in /home/ec2-user/anaconda3/envs/JupyterSystemEnv/lib/python3.6/site-packages (from cffi>=1.0->soundfile>=0.10.2->librosa->-r requirements.txt (line 1)) (2.20)\r\n",
      "Requirement already satisfied: dataclasses in /home/ec2-user/anaconda3/envs/JupyterSystemEnv/lib/python3.6/site-packages (from torch->-r requirements.txt (line 5)) (0.8)\r\n",
      "Requirement already satisfied: typing-extensions in /home/ec2-user/anaconda3/envs/JupyterSystemEnv/lib/python3.6/site-packages (from torch->-r requirements.txt (line 5)) (3.7.4.3)\r\n",
      "Requirement already satisfied: pillow>=5.3.0 in /home/ec2-user/anaconda3/envs/JupyterSystemEnv/lib/python3.6/site-packages (from torchvision->-r requirements.txt (line 6)) (8.2.0)\r\n",
      "Requirement already satisfied: chardet<5,>=3.0.2 in /home/ec2-user/anaconda3/envs/JupyterSystemEnv/lib/python3.6/site-packages (from requests->pooch>=1.0->librosa->-r requirements.txt (line 1)) (4.0.0)\r\n",
      "Requirement already satisfied: idna<3,>=2.5 in /home/ec2-user/anaconda3/envs/JupyterSystemEnv/lib/python3.6/site-packages (from requests->pooch>=1.0->librosa->-r requirements.txt (line 1)) (2.10)\r\n",
      "Requirement already satisfied: certifi>=2017.4.17 in /home/ec2-user/anaconda3/envs/JupyterSystemEnv/lib/python3.6/site-packages (from requests->pooch>=1.0->librosa->-r requirements.txt (line 1)) (2021.5.30)\r\n",
      "Requirement already satisfied: urllib3<1.27,>=1.21.1 in /home/ec2-user/anaconda3/envs/JupyterSystemEnv/lib/python3.6/site-packages (from requests->pooch>=1.0->librosa->-r requirements.txt (line 1)) (1.26.4)\r\n",
      "Collecting package metadata (current_repodata.json): - \b\b\\ \b\b| \b\b/ \b\b- \b\b\\ \b\b| \b\b/ \b\b- \b\b\\ \b\b| \b\b/ \b\b- \b\b\\ \b\b| \b\b/ \b\b- \b\b\\ \b\b| \b\b/ \b\b- \b\b\\ \b\b| \b\b/ \b\b- \b\b\\ \b\b| \b\b/ \b\bdone\r\n",
      "Solving environment: \\ \b\b| \b\b/ \b\b- \b\b\\ \b\b| \b\b/ \b\b- \b\b\\ \b\b| \b\b/ \b\b- \b\b\\ \b\b| \b\b/ \b\b- \b\b\\ \b\b| \b\b/ \b\b- \b\b\\ \b\b| \b\b/ \b\b- \b\b\\ \b\b| \b\b/ \b\b- \b\b\\ \b\b| \b\b/ \b\b- \b\b\\ \b\b| \b\b/ \b\b- \b\b\\ \b\b| \b\b/ \b\b- \b\b\\ \b\b| \b\b/ \b\b- \b\b\\ \b\b| \b\b/ \b\b- \b\b\\ \b\b| \b\b/ \b\b- \b\b\\ \b\b| \b\b/ \b\b- \b\b\\ \b\b| \b\b/ \b\b- \b\b\\ \b\b| \b\b/ \b\b- \b\b\\ \b\b| \b\bdone\r\n",
      "\r\n",
      "\r\n",
      "==> WARNING: A newer version of conda exists. <==\r\n",
      "  current version: 4.8.4\r\n",
      "  latest version: 4.10.1\r\n",
      "\r\n",
      "Please update conda by running\r\n",
      "\r\n",
      "    $ conda update -n base -c defaults conda\r\n",
      "\r\n",
      "\r\n",
      "\r\n",
      "# All requested packages already installed.\r\n",
      "\r\n"
     ]
    }
   ],
   "source": [
    "!pip install -r requirements.txt\n",
    "!conda install -c conda-forge librosa -y\n",
    "# !pip install scipy\n",
    "# !pip install opencv-python-headless"
   ]
  },
  {
   "cell_type": "code",
   "execution_count": 2,
   "metadata": {},
   "outputs": [
    {
     "name": "stdout",
     "output_type": "stream",
     "text": [
      "download: s3://video-wav2lip/video.mp4 to sample_data/video.mp4    \r\n",
      "download: s3://audio-wav2lip/audio.mp3 to sample_data/audio.mp3   \r\n",
      "audio.mp3  elon.mp4  polly.mp3\tpolly.wav  video.mp4\r\n"
     ]
    }
   ],
   "source": [
    "# Copy files over from S3\n",
    "!aws s3 cp s3://video-wav2lip/video.mp4 sample_data/\n",
    "!aws s3 cp s3://audio-wav2lip/audio.mp3 sample_data/\n",
    "!ls sample_data"
   ]
  },
  {
   "cell_type": "code",
   "execution_count": 3,
   "metadata": {
    "colab": {
     "base_uri": "https://localhost:8080/"
    },
    "executionInfo": {
     "elapsed": 125111,
     "status": "ok",
     "timestamp": 1619963464070,
     "user": {
      "displayName": "Allard Quek",
      "photoUrl": "https://lh3.googleusercontent.com/a-/AOh14Gj8BW3h-H8WiFe0e70qq-7PHga9DZsw6PW34FcvQg=s64",
      "userId": "11989963074264449998"
     },
     "user_tz": -480
    },
    "id": "xw0xFtZ2bsx8",
    "outputId": "a025954c-8651-475c-cb19-b1f67179420d",
    "scrolled": false
   },
   "outputs": [
    {
     "name": "stdout",
     "output_type": "stream",
     "text": [
      "Using cpu for inference.\r\n",
      "Reading video frames...\r\n",
      "Number of frames available for inference: 449\r\n",
      "Extracting raw audio...\r\n",
      "ffmpeg version 4.3.1 Copyright (c) 2000-2020 the FFmpeg developers\r\n",
      "  built with gcc 9.3.0 (crosstool-NG 1.24.0.133_b0863d8_dirty)\r\n",
      "  configuration: --prefix=/home/ec2-user/anaconda3/envs/JupyterSystemEnv --cc=/home/conda/feedstock_root/build_artifacts/ffmpeg_1609680890771/_build_env/bin/x86_64-conda-linux-gnu-cc --disable-doc --disable-openssl --enable-avresample --enable-gnutls --enable-gpl --enable-hardcoded-tables --enable-libfreetype --enable-libopenh264 --enable-libx264 --enable-pic --enable-pthreads --enable-shared --enable-static --enable-version3 --enable-zlib --enable-libmp3lame --pkg-config=/home/conda/feedstock_root/build_artifacts/ffmpeg_1609680890771/_build_env/bin/pkg-config\r\n",
      "  libavutil      56. 51.100 / 56. 51.100\r\n",
      "  libavcodec     58. 91.100 / 58. 91.100\r\n",
      "  libavformat    58. 45.100 / 58. 45.100\r\n",
      "  libavdevice    58. 10.100 / 58. 10.100\r\n",
      "  libavfilter     7. 85.100 /  7. 85.100\r\n",
      "  libavresample   4.  0.  0 /  4.  0.  0\r\n",
      "  libswscale      5.  7.100 /  5.  7.100\r\n",
      "  libswresample   3.  7.100 /  3.  7.100\r\n",
      "  libpostproc    55.  7.100 / 55.  7.100\r\n",
      "\u001b[0;35m[mp3 @ 0x556066705dc0] \u001b[0m\u001b[0;33mEstimating duration from bitrate, this may be inaccurate\r\n",
      "\u001b[0mInput #0, mp3, from 'sample_data/audio.mp3':\r\n",
      "  Metadata:\r\n",
      "    encoder         : Lavf58.45.100\r\n",
      "  Duration: 00:00:17.40, start: 0.000000, bitrate: 48 kb/s\r\n",
      "    Stream #0:0: Audio: mp3, 24000 Hz, mono, fltp, 48 kb/s\r\n",
      "Stream mapping:\r\n",
      "  Stream #0:0 -> #0:0 (mp3 (mp3float) -> pcm_s16le (native))\r\n",
      "Press [q] to stop, [?] for help\r\n",
      "Output #0, wav, to 'temp/temp.wav':\r\n",
      "  Metadata:\r\n",
      "    ISFT            : Lavf58.45.100\r\n",
      "    Stream #0:0: Audio: pcm_s16le ([1][0][0][0] / 0x0001), 24000 Hz, mono, s16, 384 kb/s\r\n",
      "    Metadata:\r\n",
      "      encoder         : Lavc58.91.100 pcm_s16le\r\n",
      "\u001b[0;36m[mp3float @ 0x556066707bc0] \u001b[0moverread, skip -5 enddists: -3 -3\r\n",
      "size=     816kB time=00:00:17.40 bitrate= 384.0kbits/s speed=1.08e+03x    \r\n",
      "video:0kB audio:816kB subtitle:0kB other streams:0kB global headers:0kB muxing overhead: 0.009339%\r\n",
      "(80, 1393)\r\n",
      "Length of mel chunks: 432\r\n",
      "  0%|                                                    | 0/14 [00:00<?, ?it/s]\r\n",
      "  0%|                                                    | 0/27 [00:00<?, ?it/s]\u001b[A/home/ec2-user/anaconda3/envs/JupyterSystemEnv/lib/python3.6/site-packages/torch/nn/functional.py:718: UserWarning: Named tensors and all their associated APIs are an experimental feature and subject to change. Please do not use them for anything important until they are released as stable. (Triggered internally at  /pytorch/c10/core/TensorImpl.h:1156.)\r\n",
      "  return torch.max_pool2d(input, kernel_size, stride, padding, dilation, ceil_mode)\r\n",
      "\r\n",
      "  4%|█▋                                          | 1/27 [00:05<02:31,  5.81s/it]\u001b[A\r\n",
      "  7%|███▎                                        | 2/27 [00:11<02:25,  5.82s/it]\u001b[A\r\n",
      " 11%|████▉                                       | 3/27 [00:17<02:20,  5.84s/it]\u001b[A\r\n",
      " 15%|██████▌                                     | 4/27 [00:23<02:13,  5.82s/it]\u001b[A\r\n",
      " 19%|████████▏                                   | 5/27 [00:29<02:07,  5.81s/it]\u001b[A\r\n",
      " 22%|█████████▊                                  | 6/27 [00:34<02:01,  5.80s/it]\u001b[A\r\n",
      " 26%|███████████▍                                | 7/27 [00:40<01:55,  5.80s/it]\u001b[A\r\n",
      " 30%|█████████████                               | 8/27 [00:46<01:50,  5.79s/it]\u001b[A\r\n",
      " 33%|██████████████▋                             | 9/27 [00:52<01:44,  5.81s/it]\u001b[A\r\n",
      " 37%|███████████████▉                           | 10/27 [00:58<01:38,  5.80s/it]\u001b[A\r\n",
      " 41%|█████████████████▌                         | 11/27 [01:03<01:32,  5.78s/it]\u001b[A\r\n",
      " 44%|███████████████████                        | 12/27 [01:09<01:26,  5.77s/it]\u001b[A\r\n",
      " 48%|████████████████████▋                      | 13/27 [01:15<01:20,  5.77s/it]\u001b[A\r\n",
      " 52%|██████████████████████▎                    | 14/27 [01:21<01:15,  5.78s/it]\u001b[A\r\n",
      " 56%|███████████████████████▉                   | 15/27 [01:26<01:09,  5.76s/it]\u001b[A\r\n",
      " 59%|█████████████████████████▍                 | 16/27 [01:33<01:06,  6.07s/it]\u001b[A\r\n",
      " 63%|███████████████████████████                | 17/27 [01:39<00:59,  5.99s/it]\u001b[A\r\n",
      " 67%|████████████████████████████▋              | 18/27 [01:45<00:53,  5.91s/it]\u001b[A\r\n",
      " 70%|██████████████████████████████▎            | 19/27 [01:50<00:47,  5.88s/it]\u001b[A\r\n",
      " 74%|███████████████████████████████▊           | 20/27 [01:56<00:40,  5.84s/it]\u001b[A\r\n",
      " 78%|█████████████████████████████████▍         | 21/27 [02:02<00:34,  5.81s/it]\u001b[A\r\n",
      " 81%|███████████████████████████████████        | 22/27 [02:08<00:28,  5.79s/it]\u001b[A\r\n",
      " 85%|████████████████████████████████████▋      | 23/27 [02:13<00:23,  5.77s/it]\u001b[A\r\n",
      " 89%|██████████████████████████████████████▏    | 24/27 [02:19<00:17,  5.77s/it]\u001b[A\r\n",
      " 93%|███████████████████████████████████████▊   | 25/27 [02:25<00:11,  5.77s/it]\u001b[A\r\n",
      " 96%|█████████████████████████████████████████▍ | 26/27 [02:31<00:05,  5.77s/it]\u001b[A\r\n",
      "100%|███████████████████████████████████████████| 27/27 [02:37<00:00,  5.82s/it]\r\n",
      "Load checkpoint from: checkpoints/wav2lip.pth\r\n",
      "Model loaded\r\n",
      "100%|███████████████████████████████████████████| 14/14 [03:00<00:00, 12.88s/it]\r\n",
      "ffmpeg version 4.3.1 Copyright (c) 2000-2020 the FFmpeg developers\r\n",
      "  built with gcc 9.3.0 (crosstool-NG 1.24.0.133_b0863d8_dirty)\r\n",
      "  configuration: --prefix=/home/ec2-user/anaconda3/envs/JupyterSystemEnv --cc=/home/conda/feedstock_root/build_artifacts/ffmpeg_1609680890771/_build_env/bin/x86_64-conda-linux-gnu-cc --disable-doc --disable-openssl --enable-avresample --enable-gnutls --enable-gpl --enable-hardcoded-tables --enable-libfreetype --enable-libopenh264 --enable-libx264 --enable-pic --enable-pthreads --enable-shared --enable-static --enable-version3 --enable-zlib --enable-libmp3lame --pkg-config=/home/conda/feedstock_root/build_artifacts/ffmpeg_1609680890771/_build_env/bin/pkg-config\r\n",
      "  libavutil      56. 51.100 / 56. 51.100\r\n",
      "  libavcodec     58. 91.100 / 58. 91.100\r\n",
      "  libavformat    58. 45.100 / 58. 45.100\r\n",
      "  libavdevice    58. 10.100 / 58. 10.100\r\n",
      "  libavfilter     7. 85.100 /  7. 85.100\r\n",
      "  libavresample   4.  0.  0 /  4.  0.  0\r\n",
      "  libswscale      5.  7.100 /  5.  7.100\r\n",
      "  libswresample   3.  7.100 /  3.  7.100\r\n",
      "  libpostproc    55.  7.100 / 55.  7.100\r\n",
      "\u001b[0;33mGuessed Channel Layout for Input Stream #0.0 : mono\r\n",
      "\u001b[0mInput #0, wav, from 'temp/temp.wav':\r\n",
      "  Metadata:\r\n",
      "    encoder         : Lavf58.45.100\r\n",
      "  Duration: 00:00:17.40, bitrate: 384 kb/s\r\n",
      "    Stream #0:0: Audio: pcm_s16le ([1][0][0][0] / 0x0001), 24000 Hz, mono, s16, 384 kb/s\r\n",
      "Input #1, avi, from 'temp/result.avi':\r\n",
      "  Metadata:\r\n",
      "    encoder         : Lavf58.61.100\r\n",
      "  Duration: 00:00:17.30, start: 0.000000, bitrate: 273 kb/s\r\n",
      "    Stream #1:0: Video: mpeg4 (Simple Profile) (DIVX / 0x58564944), yuv420p, 426x240 [SAR 1:1 DAR 71:40], 266 kb/s, 24.97 fps, 25 tbr, 24.97 tbn, 12483 tbc\r\n",
      "Stream mapping:\r\n",
      "  Stream #1:0 -> #0:0 (mpeg4 (native) -> h264 (libx264))\r\n",
      "  Stream #0:0 -> #0:1 (pcm_s16le (native) -> aac (native))\r\n",
      "Press [q] to stop, [?] for help\r\n",
      "\u001b[1;36m[libx264 @ 0x557b1c24e540] \u001b[0m\u001b[0;33m-qscale is ignored, -crf is recommended.\r\n",
      "\u001b[0m\u001b[1;36m[libx264 @ 0x557b1c24e540] \u001b[0musing SAR=1/1\r\n",
      "\u001b[1;36m[libx264 @ 0x557b1c24e540] \u001b[0musing cpu capabilities: MMX2 SSE2Fast SSSE3 SSE4.2 AVX FMA3 BMI2 AVX2\r\n",
      "\u001b[1;36m[libx264 @ 0x557b1c24e540] \u001b[0mprofile High, level 2.1, 4:2:0, 8-bit\r\n",
      "\u001b[1;36m[libx264 @ 0x557b1c24e540] \u001b[0m264 - core 161 r3030M 8bd6d28 - H.264/MPEG-4 AVC codec - Copyleft 2003-2020 - http://www.videolan.org/x264.html - options: cabac=1 ref=3 deblock=1:0:0 analyse=0x3:0x113 me=hex subme=7 psy=1 psy_rd=1.00:0.00 mixed_ref=1 me_range=16 chroma_me=1 trellis=1 8x8dct=1 cqm=0 deadzone=21,11 fast_pskip=1 chroma_qp_offset=-2 threads=6 lookahead_threads=1 sliced_threads=0 nr=0 decimate=1 interlaced=0 bluray_compat=0 constrained_intra=0 bframes=3 b_pyramid=2 b_adapt=1 b_bias=0 direct=1 weightb=1 open_gop=0 weightp=2 keyint=250 keyint_min=25 scenecut=40 intra_refresh=0 rc_lookahead=40 rc=crf mbtree=1 crf=23.0 qcomp=0.60 qpmin=0 qpmax=69 qpstep=4 ip_ratio=1.40 aq=1:1.00\r\n",
      "Output #0, mp4, to 'results/result_voice.mp4':\r\n",
      "  Metadata:\r\n",
      "    encoder         : Lavf58.45.100\r\n",
      "    Stream #0:0: Video: h264 (libx264) (avc1 / 0x31637661), yuv420p(progressive), 426x240 [SAR 1:1 DAR 71:40], q=-1--1, 25 fps, 12800 tbn, 25 tbc\r\n",
      "    Metadata:\r\n",
      "      encoder         : Lavc58.91.100 libx264\r\n",
      "    Side data:\r\n",
      "      cpb: bitrate max/min/avg: 0/0/0 buffer size: 0 vbv_delay: N/A\r\n",
      "    Stream #0:1: Audio: aac (LC) (mp4a / 0x6134706D), 24000 Hz, mono, fltp, 69 kb/s\r\n",
      "    Metadata:\r\n",
      "      encoder         : Lavc58.91.100 aac\r\n",
      "frame=  433 fps=0.0 q=-1.0 Lsize=     391kB time=00:00:17.40 bitrate= 184.0kbits/s dup=1 drop=0 speed=22.5x    \r\n",
      "video:230kB audio:151kB subtitle:0kB other streams:0kB global headers:0kB muxing overhead: 2.809170%\r\n",
      "\u001b[1;36m[libx264 @ 0x557b1c24e540] \u001b[0mframe I:2     Avg QP:18.57  size:  6782\r\n",
      "\u001b[1;36m[libx264 @ 0x557b1c24e540] \u001b[0mframe P:269   Avg QP:21.69  size:   717\r\n",
      "\u001b[1;36m[libx264 @ 0x557b1c24e540] \u001b[0mframe B:162   Avg QP:24.23  size:   174\r\n",
      "\u001b[1;36m[libx264 @ 0x557b1c24e540] \u001b[0mconsecutive B-frames: 41.3% 22.2% 12.5% 24.0%\r\n",
      "\u001b[1;36m[libx264 @ 0x557b1c24e540] \u001b[0mmb I  I16..4: 12.0% 79.4%  8.6%\r\n",
      "\u001b[1;36m[libx264 @ 0x557b1c24e540] \u001b[0mmb P  I16..4:  0.5%  2.5%  0.0%  P16..4: 19.6%  8.1%  4.6%  0.0%  0.0%    skip:64.6%\r\n",
      "\u001b[1;36m[libx264 @ 0x557b1c24e540] \u001b[0mmb B  I16..4:  0.2%  1.0%  0.0%  B16..8: 21.8%  1.2%  0.1%  direct: 0.2%  skip:75.5%  L0:44.6% L1:51.9% BI: 3.5%\r\n",
      "\u001b[1;36m[libx264 @ 0x557b1c24e540] \u001b[0m8x8 transform intra:81.6% inter:76.2%\r\n",
      "\u001b[1;36m[libx264 @ 0x557b1c24e540] \u001b[0mcoded y,uvDC,uvAC intra: 40.5% 34.0% 7.6% inter: 5.4% 6.0% 0.1%\r\n",
      "\u001b[1;36m[libx264 @ 0x557b1c24e540] \u001b[0mi16 v,h,dc,p: 28% 33% 31%  9%\r\n",
      "\u001b[1;36m[libx264 @ 0x557b1c24e540] \u001b[0mi8 v,h,dc,ddl,ddr,vr,hd,vl,hu: 23% 19% 48%  1%  1%  1%  2%  2%  2%\r\n",
      "\u001b[1;36m[libx264 @ 0x557b1c24e540] \u001b[0mi4 v,h,dc,ddl,ddr,vr,hd,vl,hu: 41% 18% 14%  3%  5%  6%  4%  5%  3%\r\n",
      "\u001b[1;36m[libx264 @ 0x557b1c24e540] \u001b[0mi8c dc,h,v,p: 55% 17% 25%  3%\r\n",
      "\u001b[1;36m[libx264 @ 0x557b1c24e540] \u001b[0mWeighted P-Frames: Y:0.0% UV:0.0%\r\n",
      "\u001b[1;36m[libx264 @ 0x557b1c24e540] \u001b[0mref P L0: 71.4% 11.5% 12.2%  4.9%\r\n",
      "\u001b[1;36m[libx264 @ 0x557b1c24e540] \u001b[0mref B L0: 82.9% 14.3%  2.8%\r\n",
      "\u001b[1;36m[libx264 @ 0x557b1c24e540] \u001b[0mref B L1: 97.0%  3.0%\r\n",
      "\u001b[1;36m[libx264 @ 0x557b1c24e540] \u001b[0mkb/s:108.39\r\n",
      "\u001b[1;36m[aac @ 0x557b1c24f980] \u001b[0mQavg: 5836.925\r\n",
      "\u001b[0m"
     ]
    }
   ],
   "source": [
    "!python inference.py --checkpoint_path checkpoints/wav2lip.pth --face \"sample_data/video.mp4\" --audio \"sample_data/audio.mp3\" --resize_factor 2"
   ]
  },
  {
   "cell_type": "markdown",
   "metadata": {},
   "source": [
    "One option is to save the result video to our S3 bucket."
   ]
  },
  {
   "cell_type": "code",
   "execution_count": 4,
   "metadata": {
    "scrolled": true
   },
   "outputs": [],
   "source": [
    "# !aws s3 cp results/result_voice.mp4 s3://wav2lip-results/result.mp4"
   ]
  },
  {
   "cell_type": "markdown",
   "metadata": {},
   "source": [
    "Another is to send an email to the user with the result as a video attachment!"
   ]
  },
  {
   "cell_type": "code",
   "execution_count": 5,
   "metadata": {},
   "outputs": [
    {
     "name": "stdout",
     "output_type": "stream",
     "text": [
      "cybersecma@gmail.com\r\n",
      "DONE\r\n"
     ]
    }
   ],
   "source": [
    "!python email-aws.py"
   ]
  },
  {
   "cell_type": "markdown",
   "metadata": {},
   "source": [
    "Now, let's clean up our resources"
   ]
  },
  {
   "cell_type": "code",
   "execution_count": 6,
   "metadata": {
    "scrolled": true
   },
   "outputs": [],
   "source": [
    "!rm results/result_voice.mp4"
   ]
  },
  {
   "cell_type": "code",
   "execution_count": 7,
   "metadata": {},
   "outputs": [],
   "source": [
    "!rm sample_data/video.mp4\n",
    "!rm sample_data/audio.mp3"
   ]
  },
  {
   "cell_type": "code",
   "execution_count": 8,
   "metadata": {},
   "outputs": [
    {
     "name": "stdout",
     "output_type": "stream",
     "text": [
      "delete: s3://video-wav2lip/video.mp4\r\n"
     ]
    }
   ],
   "source": [
    "!aws s3 rm s3://video-wav2lip/video.mp4 "
   ]
  },
  {
   "cell_type": "code",
   "execution_count": 9,
   "metadata": {},
   "outputs": [
    {
     "name": "stdout",
     "output_type": "stream",
     "text": [
      "delete: s3://video-wav2lip/audio.mp3\r\n"
     ]
    }
   ],
   "source": [
    "!aws s3 rm s3://video-wav2lip/audio.mp3 "
   ]
  },
  {
   "cell_type": "code",
   "execution_count": null,
   "metadata": {},
   "outputs": [],
   "source": []
  }
 ],
 "metadata": {
  "accelerator": "GPU",
  "colab": {
   "collapsed_sections": [],
   "name": "Wav2Lip.ipynb",
   "provenance": [
    {
     "file_id": "1tZpDWXz49W6wDcTprANRGLo2D_EbD5J8",
     "timestamp": 1619967859029
    },
    {
     "file_id": "1NLUwupCBsB1HrpEmOIHeMgU63sus2LxP",
     "timestamp": 1597735440478
    }
   ],
   "toc_visible": true
  },
  "kernelspec": {
   "display_name": "conda_pytorch_p36",
   "language": "python",
   "name": "conda_pytorch_p36"
  },
  "language_info": {
   "codemirror_mode": {
    "name": "ipython",
    "version": 3
   },
   "file_extension": ".py",
   "mimetype": "text/x-python",
   "name": "python",
   "nbconvert_exporter": "python",
   "pygments_lexer": "ipython3",
   "version": "3.6.13"
  }
 },
 "nbformat": 4,
 "nbformat_minor": 1
}
