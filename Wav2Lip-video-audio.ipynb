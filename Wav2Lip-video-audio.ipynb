{
 "cells": [
  {
   "cell_type": "code",
   "execution_count": null,
   "metadata": {
    "scrolled": true
   },
   "outputs": [],
   "source": [
    "!pip install -r requirements.txt\n",
    "!conda install -c conda-forge librosa -y\n",
    "# !pip install scipy\n",
    "# !pip install opencv-python-headless"
   ]
  },
  {
   "cell_type": "code",
   "execution_count": null,
   "metadata": {},
   "outputs": [],
   "source": [
    "# Copy files over from S3\n",
    "!aws s3 cp s3://video-wav2lip/video.mp4 sample_data/\n",
    "!aws s3 cp s3://audio-wav2lip/audio.mp3 sample_data/\n",
    "!ls sample_data"
   ]
  },
  {
   "cell_type": "code",
   "execution_count": null,
   "metadata": {
    "colab": {
     "base_uri": "https://localhost:8080/"
    },
    "executionInfo": {
     "elapsed": 125111,
     "status": "ok",
     "timestamp": 1619963464070,
     "user": {
      "displayName": "Allard Quek",
      "photoUrl": "https://lh3.googleusercontent.com/a-/AOh14Gj8BW3h-H8WiFe0e70qq-7PHga9DZsw6PW34FcvQg=s64",
      "userId": "11989963074264449998"
     },
     "user_tz": -480
    },
    "id": "xw0xFtZ2bsx8",
    "outputId": "a025954c-8651-475c-cb19-b1f67179420d",
    "scrolled": false
   },
   "outputs": [],
   "source": [
    "!python inference.py --checkpoint_path checkpoints/wav2lip.pth --face \"sample_data/video.mp4\" --audio \"sample_data/audio.mp3\" --resize_factor 2"
   ]
  },
  {
   "cell_type": "markdown",
   "metadata": {},
   "source": [
    "One option is to save the result video to our S3 bucket."
   ]
  },
  {
   "cell_type": "code",
   "execution_count": null,
   "metadata": {
    "scrolled": true
   },
   "outputs": [],
   "source": [
    "# !aws s3 cp results/result_voice.mp4 s3://wav2lip-results/result.mp4"
   ]
  },
  {
   "cell_type": "markdown",
   "metadata": {},
   "source": [
    "Another is to send an email to the user with the result as a video attachment!"
   ]
  },
  {
   "cell_type": "code",
   "execution_count": null,
   "metadata": {},
   "outputs": [],
   "source": [
    "import os\n",
    "from helpers.email_aws import send_email\n",
    "\n",
    "send_email(is_lesson=False) if os.path.isfile(\"results/result_voice.mp4\") else send_email(error=True)"
   ]
  },
  {
   "cell_type": "markdown",
   "metadata": {},
   "source": [
    "### Clean Up\n",
    "\n",
    "1. Remove Wav2Lip generated video\n",
    "2. Remove video and audio files\n",
    "3. Remove email file\n",
    "4. Remove user-uploaded face video from Amazon S3\n",
    "5. Remove user-uploaded lesson video from Amazon S3"
   ]
  },
  {
   "cell_type": "code",
   "execution_count": null,
   "metadata": {
    "scrolled": true
   },
   "outputs": [],
   "source": [
    "!rm results/result_voice.mp4"
   ]
  },
  {
   "cell_type": "code",
   "execution_count": null,
   "metadata": {},
   "outputs": [],
   "source": [
    "!rm sample_data/video.mp4\n",
    "!rm sample_data/audio.mp3"
   ]
  },
  {
   "cell_type": "code",
   "execution_count": null,
   "metadata": {},
   "outputs": [],
   "source": [
    "!rm email.txt"
   ]
  },
  {
   "cell_type": "code",
   "execution_count": null,
   "metadata": {},
   "outputs": [],
   "source": [
    "!aws s3 rm s3://video-wav2lip/video.mp4 "
   ]
  },
  {
   "cell_type": "code",
   "execution_count": null,
   "metadata": {},
   "outputs": [],
   "source": [
    "!aws s3 rm s3://video-wav2lip/audio.mp3 "
   ]
  }
 ],
 "metadata": {
  "accelerator": "GPU",
  "colab": {
   "collapsed_sections": [],
   "name": "Wav2Lip.ipynb",
   "provenance": [
    {
     "file_id": "1tZpDWXz49W6wDcTprANRGLo2D_EbD5J8",
     "timestamp": 1619967859029
    },
    {
     "file_id": "1NLUwupCBsB1HrpEmOIHeMgU63sus2LxP",
     "timestamp": 1597735440478
    }
   ],
   "toc_visible": true
  },
  "kernelspec": {
   "display_name": "Python 3",
   "language": "python",
   "name": "python3"
  },
  "language_info": {
   "codemirror_mode": {
    "name": "ipython",
    "version": 3
   },
   "file_extension": ".py",
   "mimetype": "text/x-python",
   "name": "python",
   "nbconvert_exporter": "python",
   "pygments_lexer": "ipython3",
   "version": "3.9.1"
  }
 },
 "nbformat": 4,
 "nbformat_minor": 1
}
