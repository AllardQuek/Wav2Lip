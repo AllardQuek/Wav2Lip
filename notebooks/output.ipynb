{
 "cells": [
  {
   "cell_type": "code",
   "execution_count": 1,
   "id": "d7454a44",
   "metadata": {
    "execution": {
     "iopub.execute_input": "2021-05-27T06:02:52.759940Z",
     "iopub.status.busy": "2021-05-27T06:02:52.757500Z",
     "iopub.status.idle": "2021-05-27T06:02:52.760914Z",
     "shell.execute_reply": "2021-05-27T06:02:52.761507Z"
    },
    "papermill": {
     "duration": 0.029452,
     "end_time": "2021-05-27T06:02:52.761873",
     "exception": false,
     "start_time": "2021-05-27T06:02:52.732421",
     "status": "completed"
    },
    "tags": [
     "parameters"
    ]
   },
   "outputs": [],
   "source": [
    "# Parameters\n",
    "name = \"World\""
   ]
  },
  {
   "cell_type": "code",
   "execution_count": 2,
   "id": "c045cac1",
   "metadata": {
    "execution": {
     "iopub.execute_input": "2021-05-27T06:02:52.775023Z",
     "iopub.status.busy": "2021-05-27T06:02:52.774375Z",
     "iopub.status.idle": "2021-05-27T06:02:52.776107Z",
     "shell.execute_reply": "2021-05-27T06:02:52.776566Z"
    },
    "papermill": {
     "duration": 0.009352,
     "end_time": "2021-05-27T06:02:52.776739",
     "exception": false,
     "start_time": "2021-05-27T06:02:52.767387",
     "status": "completed"
    },
    "tags": [
     "injected-parameters"
    ]
   },
   "outputs": [],
   "source": [
    "# Parameters\n",
    "name = \"allard\"\n"
   ]
  },
  {
   "cell_type": "code",
   "execution_count": 3,
   "id": "33ae0550",
   "metadata": {
    "execution": {
     "iopub.execute_input": "2021-05-27T06:02:52.787361Z",
     "iopub.status.busy": "2021-05-27T06:02:52.786775Z",
     "iopub.status.idle": "2021-05-27T06:02:54.961874Z",
     "shell.execute_reply": "2021-05-27T06:02:54.962260Z"
    },
    "papermill": {
     "duration": 2.182257,
     "end_time": "2021-05-27T06:02:54.962405",
     "exception": false,
     "start_time": "2021-05-27T06:02:52.780148",
     "status": "completed"
    },
    "tags": []
   },
   "outputs": [
    {
     "name": "stdout",
     "output_type": "stream",
     "text": [
      "Hello allard\n"
     ]
    }
   ],
   "source": [
    "import numpy as np\n",
    "import papermill as pm\n",
    "\n",
    "print(f\"Hello {name}\")"
   ]
  },
  {
   "cell_type": "code",
   "execution_count": null,
   "id": "efaf1086",
   "metadata": {
    "papermill": {
     "duration": 0.002159,
     "end_time": "2021-05-27T06:02:54.968025",
     "exception": false,
     "start_time": "2021-05-27T06:02:54.965866",
     "status": "completed"
    },
    "tags": []
   },
   "outputs": [],
   "source": []
  }
 ],
 "metadata": {
  "celltoolbar": "Tags",
  "kernelspec": {
   "display_name": "Python 3",
   "language": "python",
   "name": "python3"
  },
  "language_info": {
   "codemirror_mode": {
    "name": "ipython",
    "version": 3
   },
   "file_extension": ".py",
   "mimetype": "text/x-python",
   "name": "python",
   "nbconvert_exporter": "python",
   "pygments_lexer": "ipython3",
   "version": "3.9.1"
  },
  "papermill": {
   "default_parameters": {},
   "duration": 3.354292,
   "end_time": "2021-05-27T06:02:55.183678",
   "environment_variables": {},
   "exception": null,
   "input_path": "local-test.ipynb",
   "output_path": "output.ipynb",
   "parameters": {
    "name": "allard"
   },
   "start_time": "2021-05-27T06:02:51.829386",
   "version": "2.3.3"
  }
 },
 "nbformat": 4,
 "nbformat_minor": 5
}