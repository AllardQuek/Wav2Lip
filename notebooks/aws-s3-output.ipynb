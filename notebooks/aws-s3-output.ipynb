{
 "cells": [
  {
   "cell_type": "code",
   "execution_count": 1,
   "id": "f446546a",
   "metadata": {
    "execution": {
     "iopub.execute_input": "2021-05-27T06:11:30.713898Z",
     "iopub.status.busy": "2021-05-27T06:11:30.712963Z",
     "iopub.status.idle": "2021-05-27T06:11:30.715158Z",
     "shell.execute_reply": "2021-05-27T06:11:30.715758Z"
    },
    "papermill": {
     "duration": 0.102326,
     "end_time": "2021-05-27T06:11:30.716121",
     "exception": false,
     "start_time": "2021-05-27T06:11:30.613795",
     "status": "completed"
    },
    "tags": [
     "parameters"
    ]
   },
   "outputs": [],
   "source": [
    "# Parameters\n",
    "name = \"World\""
   ]
  },
  {
   "cell_type": "code",
   "execution_count": 2,
   "id": "f58c8545",
   "metadata": {
    "execution": {
     "iopub.execute_input": "2021-05-27T06:11:30.914365Z",
     "iopub.status.busy": "2021-05-27T06:11:30.913229Z",
     "iopub.status.idle": "2021-05-27T06:11:30.915641Z",
     "shell.execute_reply": "2021-05-27T06:11:30.916494Z"
    },
    "papermill": {
     "duration": 0.063683,
     "end_time": "2021-05-27T06:11:30.916764",
     "exception": false,
     "start_time": "2021-05-27T06:11:30.853081",
     "status": "completed"
    },
    "tags": [
     "injected-parameters"
    ]
   },
   "outputs": [],
   "source": [
    "# Parameters\n",
    "name = \"allard\"\n"
   ]
  },
  {
   "cell_type": "code",
   "execution_count": 3,
   "id": "5f555adc",
   "metadata": {
    "execution": {
     "iopub.execute_input": "2021-05-27T06:11:31.045552Z",
     "iopub.status.busy": "2021-05-27T06:11:31.044820Z",
     "iopub.status.idle": "2021-05-27T06:11:31.310314Z",
     "shell.execute_reply": "2021-05-27T06:11:31.310688Z"
    },
    "papermill": {
     "duration": 0.313119,
     "end_time": "2021-05-27T06:11:31.310833",
     "exception": false,
     "start_time": "2021-05-27T06:11:30.997714",
     "status": "completed"
    },
    "tags": []
   },
   "outputs": [
    {
     "name": "stdout",
     "output_type": "stream",
     "text": [
      "Hello allard\n"
     ]
    }
   ],
   "source": [
    "import numpy as np\n",
    "import papermill as pm\n",
    "\n",
    "print(f\"Hello {name}\")"
   ]
  },
  {
   "cell_type": "code",
   "execution_count": null,
   "id": "9ed944e4",
   "metadata": {
    "papermill": {
     "duration": 0.065105,
     "end_time": "2021-05-27T06:11:31.418365",
     "exception": false,
     "start_time": "2021-05-27T06:11:31.353260",
     "status": "completed"
    },
    "tags": []
   },
   "outputs": [],
   "source": []
  }
 ],
 "metadata": {
  "celltoolbar": "Tags",
  "kernelspec": {
   "display_name": "Python 3",
   "language": "python",
   "name": "python3"
  },
  "language_info": {
   "codemirror_mode": {
    "name": "ipython",
    "version": 3
   },
   "file_extension": ".py",
   "mimetype": "text/x-python",
   "name": "python",
   "nbconvert_exporter": "python",
   "pygments_lexer": "ipython3",
   "version": "3.9.1"
  },
  "papermill": {
   "default_parameters": {},
   "duration": 2.139504,
   "end_time": "2021-05-27T06:11:31.671144",
   "environment_variables": {},
   "exception": null,
   "input_path": "s3://notebook-in/aws-test.ipynb",
   "output_path": "s3://notebook-out/aws-output.ipynb",
   "parameters": {
    "name": "allard"
   },
   "start_time": "2021-05-27T06:11:29.531640",
   "version": "2.3.3"
  }
 },
 "nbformat": 4,
 "nbformat_minor": 5
}