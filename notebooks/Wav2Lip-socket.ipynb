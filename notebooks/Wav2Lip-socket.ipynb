{
 "cells": [
  {
   "cell_type": "markdown",
   "metadata": {},
   "source": [
    "## This notebook does the following:\n",
    "1. Copies specific audio and video files from S3 to SageMaker\n",
    "2. Runs model inference script on those inputs\n",
    "3. Saves the result video to the results/ folder and saves it to S3"
   ]
  },
  {
   "cell_type": "code",
   "execution_count": 2,
   "metadata": {},
   "outputs": [
    {
     "name": "stdout",
     "output_type": "stream",
     "text": [
      "download: s3://video-wav2lip/video.mp4 to sample_data/video.mp4   \r\n",
      "download: s3://audio-wav2lip/audio.mp3 to sample_data/audio.mp3   \r\n",
      "audio.mp3  elon.mp4  polly.mp3\tpolly.wav  video.mp4\r\n"
     ]
    }
   ],
   "source": [
    "# Copy files over from S3\n",
    "!aws s3 cp s3://video-wav2lip/video.mp4 sample_data/\n",
    "!aws s3 cp s3://audio-wav2lip/audio.mp3 sample_data/\n",
    "!ls sample_data"
   ]
  },
  {
   "cell_type": "code",
   "execution_count": 3,
   "metadata": {},
   "outputs": [],
   "source": [
    "# !pip install scipy\n",
    "# !conda install -c conda-forge librosa -y"
   ]
  },
  {
   "cell_type": "code",
   "execution_count": 4,
   "metadata": {
    "colab": {
     "base_uri": "https://localhost:8080/"
    },
    "executionInfo": {
     "elapsed": 125111,
     "status": "ok",
     "timestamp": 1619963464070,
     "user": {
      "displayName": "Allard Quek",
      "photoUrl": "https://lh3.googleusercontent.com/a-/AOh14Gj8BW3h-H8WiFe0e70qq-7PHga9DZsw6PW34FcvQg=s64",
      "userId": "11989963074264449998"
     },
     "user_tz": -480
    },
    "id": "xw0xFtZ2bsx8",
    "outputId": "a025954c-8651-475c-cb19-b1f67179420d",
    "scrolled": false
   },
   "outputs": [
    {
     "name": "stdout",
     "output_type": "stream",
     "text": [
      "Using cpu for inference.\r\n",
      "Reading video frames...\r\n",
      "Number of frames available for inference: 293\r\n",
      "Extracting raw audio...\r\n",
      "ffmpeg version 4.3.1 Copyright (c) 2000-2020 the FFmpeg developers\r\n",
      "  built with gcc 9.3.0 (crosstool-NG 1.24.0.133_b0863d8_dirty)\r\n",
      "  configuration: --prefix=/home/ec2-user/anaconda3/envs/JupyterSystemEnv --cc=/home/conda/feedstock_root/build_artifacts/ffmpeg_1609680890771/_build_env/bin/x86_64-conda-linux-gnu-cc --disable-doc --disable-openssl --enable-avresample --enable-gnutls --enable-gpl --enable-hardcoded-tables --enable-libfreetype --enable-libopenh264 --enable-libx264 --enable-pic --enable-pthreads --enable-shared --enable-static --enable-version3 --enable-zlib --enable-libmp3lame --pkg-config=/home/conda/feedstock_root/build_artifacts/ffmpeg_1609680890771/_build_env/bin/pkg-config\r\n",
      "  libavutil      56. 51.100 / 56. 51.100\r\n",
      "  libavcodec     58. 91.100 / 58. 91.100\r\n",
      "  libavformat    58. 45.100 / 58. 45.100\r\n",
      "  libavdevice    58. 10.100 / 58. 10.100\r\n",
      "  libavfilter     7. 85.100 /  7. 85.100\r\n",
      "  libavresample   4.  0.  0 /  4.  0.  0\r\n",
      "  libswscale      5.  7.100 /  5.  7.100\r\n",
      "  libswresample   3.  7.100 /  3.  7.100\r\n",
      "  libpostproc    55.  7.100 / 55.  7.100\r\n",
      "\u001b[0;35m[mp3 @ 0x555e194a2dc0] \u001b[0m\u001b[0;33mEstimating duration from bitrate, this may be inaccurate\r\n",
      "\u001b[0mInput #0, mp3, from 'sample_data/audio.mp3':\r\n",
      "  Metadata:\r\n",
      "    encoder         : Lavf58.45.100\r\n",
      "  Duration: 00:00:36.14, start: 0.000000, bitrate: 48 kb/s\r\n",
      "    Stream #0:0: Audio: mp3, 24000 Hz, mono, fltp, 48 kb/s\r\n",
      "Stream mapping:\r\n",
      "  Stream #0:0 -> #0:0 (mp3 (mp3float) -> pcm_s16le (native))\r\n",
      "Press [q] to stop, [?] for help\r\n",
      "Output #0, wav, to 'temp/temp.wav':\r\n",
      "  Metadata:\r\n",
      "    ISFT            : Lavf58.45.100\r\n",
      "    Stream #0:0: Audio: pcm_s16le ([1][0][0][0] / 0x0001), 24000 Hz, mono, s16, 384 kb/s\r\n",
      "    Metadata:\r\n",
      "      encoder         : Lavc58.91.100 pcm_s16le\r\n",
      "\u001b[0;36m[mp3float @ 0x555e194a4bc0] \u001b[0moverread, skip -6 enddists: -3 -3\r\n",
      "\u001b[0;36m[mp3float @ 0x555e194a4bc0] \u001b[0moverread, skip -6 enddists: -2 -2\r\n",
      "\u001b[0;36m[mp3float @ 0x555e194a4bc0] \u001b[0moverread, skip -6 enddists: -5 -5\r\n",
      "\u001b[0;36m[mp3float @ 0x555e194a4bc0] \u001b[0moverread, skip -5 enddists: -1 -1\r\n",
      "\u001b[0;36m[mp3float @ 0x555e194a4bc0] \u001b[0moverread, skip -6 enddists: -1 -1\r\n",
      "\u001b[0;36m[mp3float @ 0x555e194a4bc0] \u001b[0moverread, skip -6 enddists: -2 -2\r\n",
      "size=    1694kB time=00:00:36.14 bitrate= 384.0kbits/s speed=1.12e+03x    \r\n",
      "video:0kB audio:1694kB subtitle:0kB other streams:0kB global headers:0kB muxing overhead: 0.004496%\r\n",
      "(80, 2892)\r\n",
      "Length of mel chunks: 1079\r\n",
      "  0%|                                                    | 0/34 [00:00<?, ?it/s]\r\n",
      "  0%|                                                    | 0/19 [00:00<?, ?it/s]\u001b[A\r\n",
      "  5%|██▎                                         | 1/19 [00:06<01:50,  6.13s/it]\u001b[A\r\n",
      " 11%|████▋                                       | 2/19 [00:12<01:43,  6.11s/it]\u001b[A\r\n",
      " 16%|██████▉                                     | 3/19 [00:18<01:38,  6.15s/it]\u001b[A\r\n",
      " 21%|█████████▎                                  | 4/19 [00:24<01:32,  6.18s/it]\u001b[A\r\n",
      " 26%|███████████▌                                | 5/19 [00:31<01:31,  6.54s/it]\u001b[A\r\n",
      " 32%|█████████████▉                              | 6/19 [00:38<01:23,  6.46s/it]\u001b[A\r\n",
      " 37%|████████████████▏                           | 7/19 [00:44<01:16,  6.35s/it]\u001b[A\r\n",
      " 42%|██████████████████▌                         | 8/19 [00:50<01:09,  6.29s/it]\u001b[A\r\n",
      " 47%|████████████████████▊                       | 9/19 [00:56<01:02,  6.23s/it]\u001b[A\r\n",
      " 53%|██████████████████████▋                    | 10/19 [01:02<00:55,  6.19s/it]\u001b[A\r\n",
      " 58%|████████████████████████▉                  | 11/19 [01:08<00:49,  6.16s/it]\u001b[A\r\n",
      " 63%|███████████████████████████▏               | 12/19 [01:14<00:42,  6.13s/it]\u001b[A\r\n",
      " 68%|█████████████████████████████▍             | 13/19 [01:20<00:36,  6.14s/it]\u001b[A\r\n",
      " 74%|███████████████████████████████▋           | 14/19 [01:27<00:30,  6.14s/it]\u001b[A\r\n",
      " 79%|█████████████████████████████████▉         | 15/19 [01:33<00:24,  6.13s/it]\u001b[A\r\n",
      " 84%|████████████████████████████████████▏      | 16/19 [01:39<00:18,  6.12s/it]\u001b[A\r\n",
      " 89%|██████████████████████████████████████▍    | 17/19 [01:45<00:12,  6.11s/it]\u001b[A\r\n",
      " 95%|████████████████████████████████████████▋  | 18/19 [01:51<00:06,  6.11s/it]\u001b[A\r\n",
      "100%|███████████████████████████████████████████| 19/19 [01:53<00:00,  5.97s/it]\r\n",
      "Load checkpoint from: checkpoints/wav2lip.pth\r\n",
      "Model loaded\r\n",
      "100%|███████████████████████████████████████████| 34/34 [03:04<00:00,  5.41s/it]\r\n",
      "ffmpeg version 4.3.1 Copyright (c) 2000-2020 the FFmpeg developers\r\n",
      "  built with gcc 9.3.0 (crosstool-NG 1.24.0.133_b0863d8_dirty)\r\n",
      "  configuration: --prefix=/home/ec2-user/anaconda3/envs/JupyterSystemEnv --cc=/home/conda/feedstock_root/build_artifacts/ffmpeg_1609680890771/_build_env/bin/x86_64-conda-linux-gnu-cc --disable-doc --disable-openssl --enable-avresample --enable-gnutls --enable-gpl --enable-hardcoded-tables --enable-libfreetype --enable-libopenh264 --enable-libx264 --enable-pic --enable-pthreads --enable-shared --enable-static --enable-version3 --enable-zlib --enable-libmp3lame --pkg-config=/home/conda/feedstock_root/build_artifacts/ffmpeg_1609680890771/_build_env/bin/pkg-config\r\n",
      "  libavutil      56. 51.100 / 56. 51.100\r\n",
      "  libavcodec     58. 91.100 / 58. 91.100\r\n",
      "  libavformat    58. 45.100 / 58. 45.100\r\n",
      "  libavdevice    58. 10.100 / 58. 10.100\r\n",
      "  libavfilter     7. 85.100 /  7. 85.100\r\n",
      "  libavresample   4.  0.  0 /  4.  0.  0\r\n",
      "  libswscale      5.  7.100 /  5.  7.100\r\n",
      "  libswresample   3.  7.100 /  3.  7.100\r\n",
      "  libpostproc    55.  7.100 / 55.  7.100\r\n",
      "\u001b[0;33mGuessed Channel Layout for Input Stream #0.0 : mono\r\n",
      "\u001b[0mInput #0, wav, from 'temp/temp.wav':\r\n",
      "  Metadata:\r\n",
      "    encoder         : Lavf58.45.100\r\n",
      "  Duration: 00:00:36.14, bitrate: 384 kb/s\r\n",
      "    Stream #0:0: Audio: pcm_s16le ([1][0][0][0] / 0x0001), 24000 Hz, mono, s16, 384 kb/s\r\n",
      "Input #1, avi, from 'temp/result.avi':\r\n",
      "  Metadata:\r\n",
      "    encoder         : Lavf58.61.100\r\n",
      "  Duration: 00:00:36.00, start: 0.000000, bitrate: 602 kb/s\r\n",
      "    Stream #1:0: Video: mpeg4 (Simple Profile) (DIVX / 0x58564944), yuv420p, 426x240 [SAR 1:1 DAR 71:40], 595 kb/s, 29.97 fps, 29.97 tbr, 29.97 tbn, 2997 tbc\r\n",
      "Stream mapping:\r\n",
      "  Stream #1:0 -> #0:0 (mpeg4 (native) -> h264 (libx264))\r\n",
      "  Stream #0:0 -> #0:1 (pcm_s16le (native) -> aac (native))\r\n",
      "Press [q] to stop, [?] for help\r\n",
      "\u001b[1;36m[libx264 @ 0x55bc27c61240] \u001b[0m\u001b[0;33m-qscale is ignored, -crf is recommended.\r\n",
      "\u001b[0m\u001b[1;36m[libx264 @ 0x55bc27c61240] \u001b[0musing SAR=1/1\r\n",
      "\u001b[1;36m[libx264 @ 0x55bc27c61240] \u001b[0musing cpu capabilities: MMX2 SSE2Fast SSSE3 SSE4.2 AVX FMA3 BMI2 AVX2\r\n",
      "\u001b[1;36m[libx264 @ 0x55bc27c61240] \u001b[0mprofile High, level 2.1, 4:2:0, 8-bit\r\n",
      "\u001b[1;36m[libx264 @ 0x55bc27c61240] \u001b[0m264 - core 161 r3030M 8bd6d28 - H.264/MPEG-4 AVC codec - Copyleft 2003-2020 - http://www.videolan.org/x264.html - options: cabac=1 ref=3 deblock=1:0:0 analyse=0x3:0x113 me=hex subme=7 psy=1 psy_rd=1.00:0.00 mixed_ref=1 me_range=16 chroma_me=1 trellis=1 8x8dct=1 cqm=0 deadzone=21,11 fast_pskip=1 chroma_qp_offset=-2 threads=6 lookahead_threads=1 sliced_threads=0 nr=0 decimate=1 interlaced=0 bluray_compat=0 constrained_intra=0 bframes=3 b_pyramid=2 b_adapt=1 b_bias=0 direct=1 weightb=1 open_gop=0 weightp=2 keyint=250 keyint_min=25 scenecut=40 intra_refresh=0 rc_lookahead=40 rc=crf mbtree=1 crf=23.0 qcomp=0.60 qpmin=0 qpmax=69 qpstep=4 ip_ratio=1.40 aq=1:1.00\r\n",
      "Output #0, mp4, to 'results/result_voice.mp4':\r\n",
      "  Metadata:\r\n",
      "    encoder         : Lavf58.45.100\r\n",
      "    Stream #0:0: Video: h264 (libx264) (avc1 / 0x31637661), yuv420p(progressive), 426x240 [SAR 1:1 DAR 71:40], q=-1--1, 29.97 fps, 30k tbn, 29.97 tbc\r\n",
      "    Metadata:\r\n",
      "      encoder         : Lavc58.91.100 libx264\r\n",
      "    Side data:\r\n",
      "      cpb: bitrate max/min/avg: 0/0/0 buffer size: 0 vbv_delay: N/A\r\n",
      "    Stream #0:1: Audio: aac (LC) (mp4a / 0x6134706D), 24000 Hz, mono, fltp, 69 kb/s\r\n",
      "    Metadata:\r\n",
      "      encoder         : Lavc58.91.100 aac\r\n",
      "frame= 1079 fps=417 q=-1.0 Lsize=    1348kB time=00:00:36.18 bitrate= 305.1kbits/s speed=  14x    \r\n",
      "video:1013kB audio:310kB subtitle:0kB other streams:0kB global headers:0kB muxing overhead: 1.831230%\r\n",
      "\u001b[1;36m[libx264 @ 0x55bc27c61240] \u001b[0mframe I:5     Avg QP:20.77  size: 10759\r\n",
      "\u001b[1;36m[libx264 @ 0x55bc27c61240] \u001b[0mframe P:861   Avg QP:24.04  size:  1092\r\n",
      "\u001b[1;36m[libx264 @ 0x55bc27c61240] \u001b[0mframe B:213   Avg QP:30.43  size:   200\r\n",
      "\u001b[1;36m[libx264 @ 0x55bc27c61240] \u001b[0mconsecutive B-frames: 67.8% 13.9% 10.8%  7.4%\r\n",
      "\u001b[1;36m[libx264 @ 0x55bc27c61240] \u001b[0mmb I  I16..4:  0.9% 90.2%  8.8%\r\n",
      "\u001b[1;36m[libx264 @ 0x55bc27c61240] \u001b[0mmb P  I16..4:  0.1%  0.9%  0.0%  P16..4: 32.4% 13.4%  7.6%  0.0%  0.0%    skip:45.5%\r\n",
      "\u001b[1;36m[libx264 @ 0x55bc27c61240] \u001b[0mmb B  I16..4:  0.0%  0.1%  0.0%  B16..8: 28.3%  1.2%  0.2%  direct: 0.3%  skip:69.9%  L0:39.1% L1:56.9% BI: 4.1%\r\n",
      "\u001b[1;36m[libx264 @ 0x55bc27c61240] \u001b[0m8x8 transform intra:88.7% inter:78.9%\r\n",
      "\u001b[1;36m[libx264 @ 0x55bc27c61240] \u001b[0mcoded y,uvDC,uvAC intra: 82.0% 84.7% 41.7% inter: 13.1% 16.4% 0.7%\r\n",
      "\u001b[1;36m[libx264 @ 0x55bc27c61240] \u001b[0mi16 v,h,dc,p: 42% 13% 22% 22%\r\n",
      "\u001b[1;36m[libx264 @ 0x55bc27c61240] \u001b[0mi8 v,h,dc,ddl,ddr,vr,hd,vl,hu: 33% 17% 17%  3%  5%  7%  5%  7%  5%\r\n",
      "\u001b[1;36m[libx264 @ 0x55bc27c61240] \u001b[0mi4 v,h,dc,ddl,ddr,vr,hd,vl,hu: 38% 16%  9%  5%  6%  8%  6%  8%  4%\r\n",
      "\u001b[1;36m[libx264 @ 0x55bc27c61240] \u001b[0mi8c dc,h,v,p: 37% 19% 35% 10%\r\n",
      "\u001b[1;36m[libx264 @ 0x55bc27c61240] \u001b[0mWeighted P-Frames: Y:0.0% UV:0.0%\r\n",
      "\u001b[1;36m[libx264 @ 0x55bc27c61240] \u001b[0mref P L0: 70.6% 17.1%  9.1%  3.2%\r\n",
      "\u001b[1;36m[libx264 @ 0x55bc27c61240] \u001b[0mref B L0: 91.4%  7.1%  1.5%\r\n",
      "\u001b[1;36m[libx264 @ 0x55bc27c61240] \u001b[0mref B L1: 99.4%  0.6%\r\n",
      "\u001b[1;36m[libx264 @ 0x55bc27c61240] \u001b[0mkb/s:230.41\r\n",
      "\u001b[1;36m[aac @ 0x55bc27c83480] \u001b[0mQavg: 4575.139\r\n",
      "\u001b[0m"
     ]
    }
   ],
   "source": [
    "!python inference.py --checkpoint_path checkpoints/wav2lip.pth --face \"sample_data/video.mp4\" --audio \"sample_data/audio.mp3\" --resize_factor 2"
   ]
  },
  {
   "cell_type": "markdown",
   "metadata": {},
   "source": [
    "One option is to save the result video to our S3 bucket."
   ]
  },
  {
   "cell_type": "code",
   "execution_count": 5,
   "metadata": {
    "scrolled": false
   },
   "outputs": [
    {
     "name": "stdout",
     "output_type": "stream",
     "text": [
      "upload: results/result_voice.mp4 to s3://wav2lip-results/result.mp4\r\n"
     ]
    }
   ],
   "source": [
    "!aws s3 cp results/result_voice.mp4 s3://wav2lip-results/result.mp4"
   ]
  },
  {
   "cell_type": "markdown",
   "metadata": {},
   "source": [
    "Another is to send an email to the user with the result as a video attachment!"
   ]
  },
  {
   "cell_type": "code",
   "execution_count": null,
   "metadata": {},
   "outputs": [],
   "source": []
  }
 ],
 "metadata": {
  "accelerator": "GPU",
  "colab": {
   "collapsed_sections": [],
   "name": "Wav2Lip.ipynb",
   "provenance": [
    {
     "file_id": "1tZpDWXz49W6wDcTprANRGLo2D_EbD5J8",
     "timestamp": 1619967859029
    },
    {
     "file_id": "1NLUwupCBsB1HrpEmOIHeMgU63sus2LxP",
     "timestamp": 1597735440478
    }
   ],
   "toc_visible": true
  },
  "kernelspec": {
   "display_name": "conda_pytorch_p36",
   "language": "python",
   "name": "conda_pytorch_p36"
  },
  "language_info": {
   "codemirror_mode": {
    "name": "ipython",
    "version": 3
   },
   "file_extension": ".py",
   "mimetype": "text/x-python",
   "name": "python",
   "nbconvert_exporter": "python",
   "pygments_lexer": "ipython3",
   "version": "3.6.13"
  }
 },
 "nbformat": 4,
 "nbformat_minor": 1
}
