{
 "cells": [
  {
   "cell_type": "markdown",
   "id": "d673542c",
   "metadata": {
    "scrolled": true
   },
   "source": [
    "## TLDR\n",
    "\n",
    "Does the <b>same thing</b> as Wav2Lip-socket but using the `conda_python3` environment instead of `conda_pytorch_p36`.\n",
    "\n",
    "=> Run inference script on audio and video files and saves result to S3."
   ]
  },
  {
   "cell_type": "code",
   "execution_count": 2,
   "id": "f5c35e99",
   "metadata": {
    "scrolled": true
   },
   "outputs": [
    {
     "name": "stdout",
     "output_type": "stream",
     "text": [
      "download: s3://video-wav2lip/video.mp4 to sample_data/video.mp4   \r\n",
      "download: s3://audio-wav2lip/audio.mp3 to sample_data/audio.mp3   \r\n",
      "audio.mp3  elon.mp4  polly.mp3\tseth.jpeg  video.mp4\r\n"
     ]
    }
   ],
   "source": [
    "# Copy files over from S3\n",
    "!aws s3 cp s3://video-wav2lip/video.mp4 sample_data/\n",
    "!aws s3 cp s3://audio-wav2lip/audio.mp3 sample_data/\n",
    "!ls sample_data"
   ]
  },
  {
   "cell_type": "code",
   "execution_count": 3,
   "id": "4e5716b4",
   "metadata": {
    "scrolled": true
   },
   "outputs": [],
   "source": [
    "# !pip install -r requirements.txt\n",
    "# !pip install scipy\n",
    "# !conda install -c conda-forge librosa -y"
   ]
  },
  {
   "cell_type": "code",
   "execution_count": 4,
   "id": "0ee912fc",
   "metadata": {
    "colab": {
     "base_uri": "https://localhost:8080/"
    },
    "executionInfo": {
     "elapsed": 125111,
     "status": "ok",
     "timestamp": 1619963464070,
     "user": {
      "displayName": "Allard Quek",
      "photoUrl": "https://lh3.googleusercontent.com/a-/AOh14Gj8BW3h-H8WiFe0e70qq-7PHga9DZsw6PW34FcvQg=s64",
      "userId": "11989963074264449998"
     },
     "user_tz": -480
    },
    "id": "xw0xFtZ2bsx8",
    "outputId": "a025954c-8651-475c-cb19-b1f67179420d",
    "scrolled": true
   },
   "outputs": [
    {
     "name": "stdout",
     "output_type": "stream",
     "text": [
      "Traceback (most recent call last):\r\n",
      "  File \"inference.py\", line 7, in <module>\r\n",
      "    import torch, face_detection\r\n",
      "ModuleNotFoundError: No module named 'torch'\r\n",
      "\u001b[0m"
     ]
    }
   ],
   "source": [
    "!python inference.py --checkpoint_path checkpoints/wav2lip.pth --face \"sample_data/video.mp4\" --audio \"sample_data/audio.mp3\" --resize_factor 2"
   ]
  },
  {
   "cell_type": "markdown",
   "id": "9ec358a3",
   "metadata": {},
   "source": [
    "One option is to save the result video to our S3 bucket."
   ]
  },
  {
   "cell_type": "code",
   "execution_count": 5,
   "id": "b1d7cbe4",
   "metadata": {
    "scrolled": true
   },
   "outputs": [
    {
     "name": "stdout",
     "output_type": "stream",
     "text": [
      "\r\n",
      "The user-provided path results/result_voice.mp4 does not exist.\r\n"
     ]
    }
   ],
   "source": [
    "!aws s3 cp results/result_voice.mp4 s3://wav2lip-results/result.mp4"
   ]
  },
  {
   "cell_type": "code",
   "execution_count": null,
   "id": "da3c910c",
   "metadata": {},
   "outputs": [],
   "source": []
  }
 ],
 "metadata": {
  "kernelspec": {
   "display_name": "conda_python3",
   "language": "python",
   "name": "conda_python3"
  },
  "language_info": {
   "codemirror_mode": {
    "name": "ipython",
    "version": 3
   },
   "file_extension": ".py",
   "mimetype": "text/x-python",
   "name": "python",
   "nbconvert_exporter": "python",
   "pygments_lexer": "ipython3",
   "version": "3.6.13"
  }
 },
 "nbformat": 4,
 "nbformat_minor": 5
}
