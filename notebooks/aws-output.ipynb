{
 "cells": [
  {
   "cell_type": "code",
   "execution_count": 1,
   "id": "1774695d",
   "metadata": {
    "execution": {
     "iopub.execute_input": "2021-05-27T06:09:15.072961Z",
     "iopub.status.busy": "2021-05-27T06:09:15.072009Z",
     "iopub.status.idle": "2021-05-27T06:09:15.074228Z",
     "shell.execute_reply": "2021-05-27T06:09:15.075030Z"
    },
    "papermill": {
     "duration": 0.028478,
     "end_time": "2021-05-27T06:09:15.075405",
     "exception": false,
     "start_time": "2021-05-27T06:09:15.046927",
     "status": "completed"
    },
    "tags": [
     "parameters"
    ]
   },
   "outputs": [],
   "source": [
    "# Parameters\n",
    "name = \"World\""
   ]
  },
  {
   "cell_type": "code",
   "execution_count": 2,
   "id": "ce2ae7ef",
   "metadata": {
    "execution": {
     "iopub.execute_input": "2021-05-27T06:09:15.089628Z",
     "iopub.status.busy": "2021-05-27T06:09:15.088856Z",
     "iopub.status.idle": "2021-05-27T06:09:15.090457Z",
     "shell.execute_reply": "2021-05-27T06:09:15.090975Z"
    },
    "papermill": {
     "duration": 0.009718,
     "end_time": "2021-05-27T06:09:15.091166",
     "exception": false,
     "start_time": "2021-05-27T06:09:15.081448",
     "status": "completed"
    },
    "tags": [
     "injected-parameters"
    ]
   },
   "outputs": [],
   "source": [
    "# Parameters\n",
    "name = \"allard\"\n"
   ]
  },
  {
   "cell_type": "code",
   "execution_count": 3,
   "id": "38128f10",
   "metadata": {
    "execution": {
     "iopub.execute_input": "2021-05-27T06:09:15.102298Z",
     "iopub.status.busy": "2021-05-27T06:09:15.101679Z",
     "iopub.status.idle": "2021-05-27T06:09:15.420851Z",
     "shell.execute_reply": "2021-05-27T06:09:15.421199Z"
    },
    "papermill": {
     "duration": 0.326615,
     "end_time": "2021-05-27T06:09:15.421334",
     "exception": false,
     "start_time": "2021-05-27T06:09:15.094719",
     "status": "completed"
    },
    "tags": []
   },
   "outputs": [
    {
     "name": "stdout",
     "output_type": "stream",
     "text": [
      "Hello allard\n"
     ]
    }
   ],
   "source": [
    "import numpy as np\n",
    "import papermill as pm\n",
    "\n",
    "print(f\"Hello {name}\")"
   ]
  },
  {
   "cell_type": "code",
   "execution_count": null,
   "id": "2512c278",
   "metadata": {
    "papermill": {
     "duration": 0.002034,
     "end_time": "2021-05-27T06:09:15.425851",
     "exception": false,
     "start_time": "2021-05-27T06:09:15.423817",
     "status": "completed"
    },
    "tags": []
   },
   "outputs": [],
   "source": []
  }
 ],
 "metadata": {
  "celltoolbar": "Tags",
  "kernelspec": {
   "display_name": "Python 3",
   "language": "python",
   "name": "python3"
  },
  "language_info": {
   "codemirror_mode": {
    "name": "ipython",
    "version": 3
   },
   "file_extension": ".py",
   "mimetype": "text/x-python",
   "name": "python",
   "nbconvert_exporter": "python",
   "pygments_lexer": "ipython3",
   "version": "3.9.1"
  },
  "papermill": {
   "default_parameters": {},
   "duration": 1.516493,
   "end_time": "2021-05-27T06:09:15.642120",
   "environment_variables": {},
   "exception": null,
   "input_path": "s3://notebook-in/aws-test.ipynb",
   "output_path": "aws-output.ipynb",
   "parameters": {
    "name": "allard"
   },
   "start_time": "2021-05-27T06:09:14.125627",
   "version": "2.3.3"
  }
 },
 "nbformat": 4,
 "nbformat_minor": 5
}