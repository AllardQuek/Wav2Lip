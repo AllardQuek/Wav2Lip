{
 "cells": [
  {
   "cell_type": "markdown",
   "metadata": {
    "id": "vSQFs_G8caeE"
   },
   "source": [
    "# Collab preliminaries"
   ]
  },
  {
   "cell_type": "code",
   "execution_count": 1,
   "metadata": {
    "colab": {
     "base_uri": "https://localhost:8080/"
    },
    "executionInfo": {
     "elapsed": 3378,
     "status": "ok",
     "timestamp": 1621057650923,
     "user": {
      "displayName": "Samay Sagar",
      "photoUrl": "https://lh3.googleusercontent.com/a-/AOh14GiZKioxynrOi-4kU98Xuem3n0F4Q0Bn8a2kX1Iunvs=s64",
      "userId": "02539553994120176286"
     },
     "user_tz": -480
    },
    "id": "XIVB0Xn1g6ih",
    "outputId": "01896082-9be0-4228-a47b-2a9205b00a78",
    "scrolled": true
   },
   "outputs": [
    {
     "name": "stdout",
     "output_type": "stream",
     "text": [
      "nvcc: NVIDIA (R) Cuda compiler driver\r\n",
      "Copyright (c) 2005-2019 NVIDIA Corporation\r\n",
      "Built on Sun_Jul_28_19:07:16_PDT_2019\r\n",
      "Cuda compilation tools, release 10.1, V10.1.243\r\n"
     ]
    }
   ],
   "source": [
    "!nvcc --version"
   ]
  },
  {
   "cell_type": "code",
   "execution_count": 2,
   "metadata": {
    "colab": {
     "base_uri": "https://localhost:8080/"
    },
    "executionInfo": {
     "elapsed": 742,
     "status": "ok",
     "timestamp": 1621058836191,
     "user": {
      "displayName": "Samay Sagar",
      "photoUrl": "https://lh3.googleusercontent.com/a-/AOh14GiZKioxynrOi-4kU98Xuem3n0F4Q0Bn8a2kX1Iunvs=s64",
      "userId": "02539553994120176286"
     },
     "user_tz": -480
    },
    "id": "dQIBlR4LPMSj",
    "outputId": "3eb0326f-b3ae-43ce-cb2d-1ae79e37a56a"
   },
   "outputs": [
    {
     "name": "stdout",
     "output_type": "stream",
     "text": [
      "NVIDIA-SMI has failed because it couldn't communicate with the NVIDIA driver. Make sure that the latest NVIDIA driver is installed and running.\r\n",
      "\r\n"
     ]
    }
   ],
   "source": [
    "!nvidia-smi"
   ]
  },
  {
   "cell_type": "code",
   "execution_count": 9,
   "metadata": {
    "executionInfo": {
     "elapsed": 7753,
     "status": "ok",
     "timestamp": 1621059275368,
     "user": {
      "displayName": "Samay Sagar",
      "photoUrl": "https://lh3.googleusercontent.com/a-/AOh14GiZKioxynrOi-4kU98Xuem3n0F4Q0Bn8a2kX1Iunvs=s64",
      "userId": "02539553994120176286"
     },
     "user_tz": -480
    },
    "id": "YjzMPy_Sb0AI"
   },
   "outputs": [
    {
     "name": "stdout",
     "output_type": "stream",
     "text": [
      "download: s3://wavlip-model/wav2lip.pth to checkpoints/wav2lip.pth \n"
     ]
    }
   ],
   "source": [
    "!aws s3 cp s3://wavlip-model/wav2lip.pth checkpoints/"
   ]
  },
  {
   "cell_type": "code",
   "execution_count": 10,
   "metadata": {},
   "outputs": [
    {
     "name": "stdout",
     "output_type": "stream",
     "text": [
      "README.md  wav2lip.pth\r\n"
     ]
    }
   ],
   "source": [
    "!ls checkpoints"
   ]
  },
  {
   "cell_type": "markdown",
   "metadata": {
    "id": "aWTaOS3ncFt6"
   },
   "source": [
    "# Get the pre-requisites"
   ]
  },
  {
   "cell_type": "code",
   "execution_count": 3,
   "metadata": {
    "colab": {
     "base_uri": "https://localhost:8080/"
    },
    "executionInfo": {
     "elapsed": 1854,
     "status": "ok",
     "timestamp": 1621059294892,
     "user": {
      "displayName": "Samay Sagar",
      "photoUrl": "https://lh3.googleusercontent.com/a-/AOh14GiZKioxynrOi-4kU98Xuem3n0F4Q0Bn8a2kX1Iunvs=s64",
      "userId": "02539553994120176286"
     },
     "user_tz": -480
    },
    "id": "Ooh28vw-Uvd3",
    "outputId": "06be4140-d411-4bc7-c0f4-71ace1c75864"
   },
   "outputs": [
    {
     "name": "stdout",
     "output_type": "stream",
     "text": [
      "\u001b[33mWARNING: Skipping tensorflow as it is not installed.\u001b[0m\n",
      "\u001b[33mWARNING: Skipping tensorflow-gpu as it is not installed.\u001b[0m\n"
     ]
    }
   ],
   "source": [
    "!pip uninstall tensorflow tensorflow-gpu"
   ]
  },
  {
   "cell_type": "code",
   "execution_count": 25,
   "metadata": {
    "colab": {
     "base_uri": "https://localhost:8080/"
    },
    "executionInfo": {
     "elapsed": 3546,
     "status": "ok",
     "timestamp": 1621059302214,
     "user": {
      "displayName": "Samay Sagar",
      "photoUrl": "https://lh3.googleusercontent.com/a-/AOh14GiZKioxynrOi-4kU98Xuem3n0F4Q0Bn8a2kX1Iunvs=s64",
      "userId": "02539553994120176286"
     },
     "user_tz": -480
    },
    "id": "49dCYlLdcK2D",
    "outputId": "c84871a0-1125-4462-cd5e-464e6d10c7ed"
   },
   "outputs": [
    {
     "name": "stdout",
     "output_type": "stream",
     "text": [
      "Requirement already satisfied: librosa==0.7.0 in /usr/local/lib/python3.7/dist-packages (from -r requirements.txt (line 1)) (0.7.0)\n",
      "Requirement already satisfied: numpy==1.17.1 in /usr/local/lib/python3.7/dist-packages (from -r requirements.txt (line 2)) (1.17.1)\n",
      "Requirement already satisfied: opencv-contrib-python>=4.2.0.34 in /usr/local/lib/python3.7/dist-packages (from -r requirements.txt (line 3)) (4.5.2.52)\n",
      "Requirement already satisfied: opencv-python==4.1.0.25 in /usr/local/lib/python3.7/dist-packages (from -r requirements.txt (line 4)) (4.1.0.25)\n",
      "Requirement already satisfied: torch==1.1.0 in /usr/local/lib/python3.7/dist-packages (from -r requirements.txt (line 5)) (1.1.0)\n",
      "Requirement already satisfied: torchvision==0.3.0 in /usr/local/lib/python3.7/dist-packages (from -r requirements.txt (line 6)) (0.3.0)\n",
      "Requirement already satisfied: tqdm==4.45.0 in /usr/local/lib/python3.7/dist-packages (from -r requirements.txt (line 7)) (4.45.0)\n",
      "Requirement already satisfied: numba==0.48 in /usr/local/lib/python3.7/dist-packages (from -r requirements.txt (line 8)) (0.48.0)\n",
      "Requirement already satisfied: decorator>=3.0.0 in /usr/local/lib/python3.7/dist-packages (from librosa==0.7.0->-r requirements.txt (line 1)) (4.4.2)\n",
      "Requirement already satisfied: six>=1.3 in /usr/local/lib/python3.7/dist-packages (from librosa==0.7.0->-r requirements.txt (line 1)) (1.15.0)\n",
      "Requirement already satisfied: resampy>=0.2.0 in /usr/local/lib/python3.7/dist-packages (from librosa==0.7.0->-r requirements.txt (line 1)) (0.2.2)\n",
      "Requirement already satisfied: scikit-learn!=0.19.0,>=0.14.0 in /usr/local/lib/python3.7/dist-packages (from librosa==0.7.0->-r requirements.txt (line 1)) (0.22.2.post1)\n",
      "Requirement already satisfied: soundfile>=0.9.0 in /usr/local/lib/python3.7/dist-packages (from librosa==0.7.0->-r requirements.txt (line 1)) (0.10.3.post1)\n",
      "Requirement already satisfied: audioread>=2.0.0 in /usr/local/lib/python3.7/dist-packages (from librosa==0.7.0->-r requirements.txt (line 1)) (2.1.9)\n",
      "Requirement already satisfied: joblib>=0.12 in /usr/local/lib/python3.7/dist-packages (from librosa==0.7.0->-r requirements.txt (line 1)) (1.0.1)\n",
      "Requirement already satisfied: scipy>=1.0.0 in /usr/local/lib/python3.7/dist-packages (from librosa==0.7.0->-r requirements.txt (line 1)) (1.4.1)\n",
      "Requirement already satisfied: pillow>=4.1.1 in /usr/local/lib/python3.7/dist-packages (from torchvision==0.3.0->-r requirements.txt (line 6)) (7.1.2)\n",
      "Requirement already satisfied: setuptools in /usr/local/lib/python3.7/dist-packages (from numba==0.48->-r requirements.txt (line 8)) (56.1.0)\n",
      "Requirement already satisfied: llvmlite<0.32.0,>=0.31.0dev0 in /usr/local/lib/python3.7/dist-packages (from numba==0.48->-r requirements.txt (line 8)) (0.31.0)\n",
      "Requirement already satisfied: cffi>=1.0 in /usr/local/lib/python3.7/dist-packages (from soundfile>=0.9.0->librosa==0.7.0->-r requirements.txt (line 1)) (1.14.5)\n",
      "Requirement already satisfied: pycparser in /usr/local/lib/python3.7/dist-packages (from cffi>=1.0->soundfile>=0.9.0->librosa==0.7.0->-r requirements.txt (line 1)) (2.20)\n"
     ]
    }
   ],
   "source": [
    "!pip install -r requirements.txt"
   ]
  },
  {
   "cell_type": "code",
   "execution_count": 20,
   "metadata": {},
   "outputs": [
    {
     "name": "stdout",
     "output_type": "stream",
     "text": [
      "Collecting librosa\n",
      "  Downloading librosa-0.8.0.tar.gz (183 kB)\n",
      "\u001b[K     |████████████████████████████████| 183 kB 17.5 MB/s eta 0:00:01\n",
      "\u001b[?25hCollecting audioread>=2.0.0\n",
      "  Downloading audioread-2.1.9.tar.gz (377 kB)\n",
      "\u001b[K     |████████████████████████████████| 377 kB 43.5 MB/s eta 0:00:01\n",
      "\u001b[?25hRequirement already satisfied: numpy>=1.15.0 in /home/ec2-user/anaconda3/envs/pytorch_p36/lib/python3.6/site-packages (from librosa) (1.19.5)\n",
      "Requirement already satisfied: scipy>=1.0.0 in /home/ec2-user/anaconda3/envs/pytorch_p36/lib/python3.6/site-packages (from librosa) (1.5.3)\n",
      "Requirement already satisfied: scikit-learn!=0.19.0,>=0.14.0 in /home/ec2-user/anaconda3/envs/pytorch_p36/lib/python3.6/site-packages (from librosa) (0.24.1)\n",
      "Requirement already satisfied: joblib>=0.14 in /home/ec2-user/anaconda3/envs/pytorch_p36/lib/python3.6/site-packages (from librosa) (1.0.1)\n",
      "Requirement already satisfied: decorator>=3.0.0 in /home/ec2-user/anaconda3/envs/pytorch_p36/lib/python3.6/site-packages (from librosa) (4.4.2)\n",
      "Collecting resampy>=0.2.2\n",
      "  Downloading resampy-0.2.2.tar.gz (323 kB)\n",
      "\u001b[K     |████████████████████████████████| 323 kB 56.1 MB/s eta 0:00:01\n",
      "\u001b[?25hRequirement already satisfied: numba>=0.43.0 in /home/ec2-user/anaconda3/envs/pytorch_p36/lib/python3.6/site-packages (from librosa) (0.52.0)\n",
      "Collecting soundfile>=0.9.0\n",
      "  Downloading SoundFile-0.10.3.post1-py2.py3-none-any.whl (21 kB)\n",
      "Collecting pooch>=1.0\n",
      "  Downloading pooch-1.3.0-py3-none-any.whl (51 kB)\n",
      "\u001b[K     |████████████████████████████████| 51 kB 728 kB/s  eta 0:00:01\n",
      "\u001b[?25hRequirement already satisfied: llvmlite<0.36,>=0.35.0 in /home/ec2-user/anaconda3/envs/pytorch_p36/lib/python3.6/site-packages (from numba>=0.43.0->librosa) (0.35.0)\n",
      "Requirement already satisfied: setuptools in /home/ec2-user/anaconda3/envs/pytorch_p36/lib/python3.6/site-packages (from numba>=0.43.0->librosa) (49.6.0.post20210108)\n",
      "Requirement already satisfied: packaging in /home/ec2-user/anaconda3/envs/pytorch_p36/lib/python3.6/site-packages (from pooch>=1.0->librosa) (20.9)\n",
      "Requirement already satisfied: requests in /home/ec2-user/anaconda3/envs/pytorch_p36/lib/python3.6/site-packages (from pooch>=1.0->librosa) (2.25.1)\n",
      "Requirement already satisfied: appdirs in /home/ec2-user/anaconda3/envs/pytorch_p36/lib/python3.6/site-packages (from pooch>=1.0->librosa) (1.4.4)\n",
      "Requirement already satisfied: six>=1.3 in /home/ec2-user/anaconda3/envs/pytorch_p36/lib/python3.6/site-packages (from resampy>=0.2.2->librosa) (1.15.0)\n",
      "Requirement already satisfied: threadpoolctl>=2.0.0 in /home/ec2-user/anaconda3/envs/pytorch_p36/lib/python3.6/site-packages (from scikit-learn!=0.19.0,>=0.14.0->librosa) (2.1.0)\n",
      "Requirement already satisfied: cffi>=1.0 in /home/ec2-user/anaconda3/envs/pytorch_p36/lib/python3.6/site-packages (from soundfile>=0.9.0->librosa) (1.14.5)\n",
      "Requirement already satisfied: pycparser in /home/ec2-user/anaconda3/envs/pytorch_p36/lib/python3.6/site-packages (from cffi>=1.0->soundfile>=0.9.0->librosa) (2.20)\n",
      "Requirement already satisfied: pyparsing>=2.0.2 in /home/ec2-user/anaconda3/envs/pytorch_p36/lib/python3.6/site-packages (from packaging->pooch>=1.0->librosa) (2.4.7)\n",
      "Requirement already satisfied: urllib3<1.27,>=1.21.1 in /home/ec2-user/anaconda3/envs/pytorch_p36/lib/python3.6/site-packages (from requests->pooch>=1.0->librosa) (1.26.4)\n",
      "Requirement already satisfied: idna<3,>=2.5 in /home/ec2-user/anaconda3/envs/pytorch_p36/lib/python3.6/site-packages (from requests->pooch>=1.0->librosa) (2.10)\n",
      "Requirement already satisfied: certifi>=2017.4.17 in /home/ec2-user/anaconda3/envs/pytorch_p36/lib/python3.6/site-packages (from requests->pooch>=1.0->librosa) (2020.12.5)\n",
      "Requirement already satisfied: chardet<5,>=3.0.2 in /home/ec2-user/anaconda3/envs/pytorch_p36/lib/python3.6/site-packages (from requests->pooch>=1.0->librosa) (3.0.4)\n",
      "Building wheels for collected packages: librosa, audioread, resampy\n",
      "  Building wheel for librosa (setup.py) ... \u001b[?25ldone\n",
      "\u001b[?25h  Created wheel for librosa: filename=librosa-0.8.0-py3-none-any.whl size=201375 sha256=93847b848af2cdcf14098890e92a11ef4f0f8053683e4ea37605783f29e62cbc\n",
      "  Stored in directory: /home/ec2-user/.cache/pip/wheels/32/2c/ce/86e49d4769aceba728421c24c0d726054bf4ca01175ff42bdd\n",
      "  Building wheel for audioread (setup.py) ... \u001b[?25ldone\n",
      "\u001b[?25h  Created wheel for audioread: filename=audioread-2.1.9-py3-none-any.whl size=23141 sha256=c89b37b074f6f851b0fcb05fab003a3045032cc16d6797137681fedb24d2ae1a\n",
      "  Stored in directory: /home/ec2-user/.cache/pip/wheels/de/14/0a/863e4ed680b3204444cf486733e609d7ff7abe8fceafab67dc\n",
      "  Building wheel for resampy (setup.py) ... \u001b[?25ldone\n",
      "\u001b[?25h  Created wheel for resampy: filename=resampy-0.2.2-py3-none-any.whl size=320718 sha256=1af5f0be3711a3e9942d2438e6e0f33cf42177b589350f2f5119fcd74e902cb5\n",
      "  Stored in directory: /home/ec2-user/.cache/pip/wheels/cf/d4/04/49d8824a42bd9f9b11d502727965b9997f0d41d2b22ae4f645\n",
      "Successfully built librosa audioread resampy\n",
      "Installing collected packages: soundfile, resampy, pooch, audioread, librosa\n",
      "Successfully installed audioread-2.1.9 librosa-0.8.0 pooch-1.3.0 resampy-0.2.2 soundfile-0.10.3.post1\n"
     ]
    }
   ],
   "source": [
    "!pip install librosa"
   ]
  },
  {
   "cell_type": "code",
   "execution_count": 1,
   "metadata": {},
   "outputs": [
    {
     "name": "stdout",
     "output_type": "stream",
     "text": [
      "Collecting package metadata (current_repodata.json): done\n",
      "Solving environment: | \n",
      "The environment is inconsistent, please check the package plan carefully\n",
      "The following packages are causing the inconsistency:\n",
      "\n",
      "  - conda-forge/noarch::nbclassic==0.2.6=pyhd8ed1ab_0\n",
      "  - conda-forge/noarch::smart_open==2.2.1=pyh9f0ad1d_0\n",
      "  - conda-forge/linux-64::blaze==0.11.3=py36_0\n",
      "  - defaults/linux-64::_anaconda_depends==5.1.0=py36_2\n",
      "  - conda-forge/noarch::requests==2.25.1=pyhd3deb0d_0\n",
      "  - conda-forge/noarch::jupyterlab==3.0.9=pyhd8ed1ab_0\n",
      "  - conda-forge/noarch::python-language-server==0.36.2=pyhd8ed1ab_0\n",
      "  - conda-forge/noarch::jupyterlab_server==2.3.0=pyhd8ed1ab_0\n",
      "  - conda-forge/noarch::google-api-core==1.25.1=pyh44b312d_0\n",
      "  - conda-forge/noarch::pyls-black==0.4.6=pyh9f0ad1d_0\n",
      "  - fastai/noarch::fastai==1.0.61=1\n",
      "  - conda-forge/noarch::pathy==0.4.0=pyhd8ed1ab_0\n",
      "  - conda-forge/noarch::black==20.8b1=py_1\n",
      "  - conda-forge/linux-64::spacy==3.0.3=py36h355b2fd_0\n",
      "  - conda-forge/linux-64::anyio==2.1.0=py36h5fab9bb_0\n",
      "  - conda-forge/linux-64::jupyter_server==1.4.1=py36h5fab9bb_0\n",
      "  - conda-forge/noarch::google-auth==1.24.0=pyhd3deb0d_0\n",
      "  - conda-forge/linux-64::thinc==8.0.1=py36h355b2fd_1\n",
      "  - conda-forge/noarch::numpydoc==1.1.0=py_1\n",
      "  - conda-forge/linux-64::spyder==4.2.0=py36h5fab9bb_0\n",
      "  - conda-forge/linux-64::pydantic==1.7.3=py36h8f6f2f9_0\n",
      "  - conda-forge/noarch::pyls-spyder==0.3.2=pyhd8ed1ab_0\n",
      "  - conda-forge/noarch::typer==0.3.2=pyhd8ed1ab_0\n",
      "  - conda-forge/noarch::google-cloud-storage==1.19.0=py_0\n",
      "  - conda-forge/noarch::sphinx==3.5.1=pyhd8ed1ab_0\n",
      "  - conda-forge/linux-64::jupyter==1.0.0=py36h5fab9bb_6\n",
      "  - conda-forge/noarch::google-cloud-core==1.5.0=pyhd3deb0d_0\n",
      "  - conda-forge/noarch::s3fs==0.5.2=pyhd8ed1ab_0\n",
      "  - conda-forge/noarch::anaconda-client==1.7.2=py_0\n",
      "  - conda-forge/noarch::anaconda-project==0.9.1=pyhd8ed1ab_0\n",
      "done\n",
      "\n",
      "\n",
      "==> WARNING: A newer version of conda exists. <==\n",
      "  current version: 4.8.4\n",
      "  latest version: 4.10.1\n",
      "\n",
      "Please update conda by running\n",
      "\n",
      "    $ conda update -n base -c defaults conda\n",
      "\n",
      "\n",
      "\n",
      "## Package Plan ##\n",
      "\n",
      "  environment location: /home/ec2-user/anaconda3/envs/pytorch_p36\n",
      "\n",
      "  added / updated specs:\n",
      "    - librosa\n",
      "\n",
      "\n",
      "The following packages will be downloaded:\n",
      "\n",
      "    package                    |            build\n",
      "    ---------------------------|-----------------\n",
      "    astroid-2.5.6              |   py36h5fab9bb_0         300 KB  conda-forge\n",
      "    audioread-2.1.9            |   py36h5fab9bb_0          32 KB  conda-forge\n",
      "    boto3-1.17.80              |     pyhd8ed1ab_0          70 KB  conda-forge\n",
      "    botocore-1.20.80           |     pyhd8ed1ab_0         4.6 MB  conda-forge\n",
      "    dataclasses-0.8            |     pyh787bdff_0          22 KB  conda-forge\n",
      "    docutils-0.17.1            |   py36h5fab9bb_0         762 KB  conda-forge\n",
      "    ffmpeg-4.3.1               |       hca11adc_2        91.9 MB  conda-forge\n",
      "    flask-cors-3.0.8           |             py_0          14 KB  conda-forge\n",
      "    gnutls-3.6.13              |       h85f3911_1         2.0 MB  conda-forge\n",
      "    jupyter_console-5.2.0      |           py36_1          34 KB  conda-forge\n",
      "    lame-3.100                 |    h7f98852_1001         496 KB  conda-forge\n",
      "    libflac-1.3.3              |       h9c3ff4c_1         486 KB  conda-forge\n",
      "    librosa-0.8.0              |     pyh9f0ad1d_0         145 KB  conda-forge\n",
      "    libsndfile-1.0.31          |       h9c3ff4c_1         602 KB  conda-forge\n",
      "    lxml-4.6.3                 |   py36h04a5ba7_0         1.5 MB  conda-forge\n",
      "    nettle-3.6                 |       he412f7d_0         6.5 MB  conda-forge\n",
      "    openh264-2.1.1             |       h780b84a_0         1.5 MB  conda-forge\n",
      "    pylint-2.7.2               |   py36h5fab9bb_0         466 KB  conda-forge\n",
      "    pysoundfile-0.10.3.post1   |     pyhd3deb0d_0          23 KB  conda-forge\n",
      "    resampy-0.2.2              |             py_0         332 KB  conda-forge\n",
      "    x264-1!161.3030            |       h7f98852_0         2.4 MB  conda-forge\n",
      "    ------------------------------------------------------------\n",
      "                                           Total:       114.2 MB\n",
      "\n",
      "The following NEW packages will be INSTALLED:\n",
      "\n",
      "  aiobotocore        pkgs/main/noarch::aiobotocore-1.2.2-pyhd3eb1b0_0\n",
      "  aiohttp            conda-forge/linux-64::aiohttp-3.7.4-py36h8f6f2f9_0\n",
      "  astroid            conda-forge/linux-64::astroid-2.5.6-py36h5fab9bb_0\n",
      "  audioread          conda-forge/linux-64::audioread-2.1.9-py36h5fab9bb_0\n",
      "  boto3              conda-forge/noarch::boto3-1.17.80-pyhd8ed1ab_0\n",
      "  botocore           conda-forge/noarch::botocore-1.20.80-pyhd8ed1ab_0\n",
      "  colorama           conda-forge/noarch::colorama-0.4.4-pyh9f0ad1d_0\n",
      "  dataclasses        conda-forge/noarch::dataclasses-0.8-pyh787bdff_0\n",
      "  docutils           conda-forge/linux-64::docutils-0.17.1-py36h5fab9bb_0\n",
      "  ffmpeg             conda-forge/linux-64::ffmpeg-4.3.1-hca11adc_2\n",
      "  flask-cors         conda-forge/noarch::flask-cors-3.0.8-py_0\n",
      "  gnutls             conda-forge/linux-64::gnutls-3.6.13-h85f3911_1\n",
      "  jupyter_console    conda-forge/linux-64::jupyter_console-5.2.0-py36_1\n",
      "  lame               conda-forge/linux-64::lame-3.100-h7f98852_1001\n",
      "  libflac            conda-forge/linux-64::libflac-1.3.3-h9c3ff4c_1\n",
      "  libogg             conda-forge/linux-64::libogg-1.3.4-h7f98852_1\n",
      "  libopus            conda-forge/linux-64::libopus-1.3.1-h7f98852_1\n",
      "  librosa            conda-forge/noarch::librosa-0.8.0-pyh9f0ad1d_0\n",
      "  libsndfile         conda-forge/linux-64::libsndfile-1.0.31-h9c3ff4c_1\n",
      "  libvorbis          conda-forge/linux-64::libvorbis-1.3.7-h9c3ff4c_0\n",
      "  lxml               conda-forge/linux-64::lxml-4.6.3-py36h04a5ba7_0\n",
      "  nettle             conda-forge/linux-64::nettle-3.6-he412f7d_0\n",
      "  openh264           conda-forge/linux-64::openh264-2.1.1-h780b84a_0\n",
      "  pooch              conda-forge/noarch::pooch-1.3.0-pyhd8ed1ab_0\n",
      "  pylint             conda-forge/linux-64::pylint-2.7.2-py36h5fab9bb_0\n",
      "  pysoundfile        conda-forge/noarch::pysoundfile-0.10.3.post1-pyhd3deb0d_0\n",
      "  resampy            conda-forge/noarch::resampy-0.2.2-py_0\n",
      "  s3transfer         conda-forge/noarch::s3transfer-0.4.2-pyhd8ed1ab_0\n",
      "  urllib3            conda-forge/noarch::urllib3-1.26.4-pyhd8ed1ab_0\n",
      "  x264               conda-forge/linux-64::x264-1!161.3030-h7f98852_0\n",
      "\n",
      "\n",
      "\n",
      "Downloading and Extracting Packages\n",
      "docutils-0.17.1      | 762 KB    | ##################################### | 100% \n",
      "flask-cors-3.0.8     | 14 KB     | ##################################### | 100% \n",
      "lame-3.100           | 496 KB    | ##################################### | 100% \n",
      "lxml-4.6.3           | 1.5 MB    | ##################################### | 100% \n",
      "nettle-3.6           | 6.5 MB    | ##################################### | 100% \n",
      "librosa-0.8.0        | 145 KB    | ##################################### | 100% \n",
      "pysoundfile-0.10.3.p | 23 KB     | ##################################### | 100% \n",
      "boto3-1.17.80        | 70 KB     | ##################################### | 100% \n",
      "jupyter_console-5.2. | 34 KB     | ##################################### | 100% \n",
      "gnutls-3.6.13        | 2.0 MB    | ##################################### | 100% \n",
      "x264-1!161.3030      | 2.4 MB    | ##################################### | 100% \n",
      "botocore-1.20.80     | 4.6 MB    | ##################################### | 100% \n",
      "resampy-0.2.2        | 332 KB    | ##################################### | 100% \n",
      "libsndfile-1.0.31    | 602 KB    | ##################################### | 100% \n",
      "audioread-2.1.9      | 32 KB     | ##################################### | 100% \n",
      "astroid-2.5.6        | 300 KB    | ##################################### | 100% \n",
      "pylint-2.7.2         | 466 KB    | ##################################### | 100% \n",
      "dataclasses-0.8      | 22 KB     | ##################################### | 100% \n",
      "openh264-2.1.1       | 1.5 MB    | ##################################### | 100% \n",
      "ffmpeg-4.3.1         | 91.9 MB   | ##################################### | 100% \n",
      "libflac-1.3.3        | 486 KB    | ##################################### | 100% \n",
      "Preparing transaction: done\n",
      "Verifying transaction: done\n",
      "Executing transaction: done\n"
     ]
    }
   ],
   "source": [
    "!conda install -c conda-forge librosa -y"
   ]
  },
  {
   "cell_type": "code",
   "execution_count": 12,
   "metadata": {
    "colab": {
     "base_uri": "https://localhost:8080/"
    },
    "executionInfo": {
     "elapsed": 4389,
     "status": "ok",
     "timestamp": 1621059310090,
     "user": {
      "displayName": "Samay Sagar",
      "photoUrl": "https://lh3.googleusercontent.com/a-/AOh14GiZKioxynrOi-4kU98Xuem3n0F4Q0Bn8a2kX1Iunvs=s64",
      "userId": "02539553994120176286"
     },
     "user_tz": -480
    },
    "id": "ey_bN4M6X_95",
    "outputId": "e51cefcc-c268-446d-a628-81d7afb4a37a",
    "scrolled": false
   },
   "outputs": [
    {
     "name": "stdout",
     "output_type": "stream",
     "text": [
      "--2021-05-26 08:23:49--  https://www.adrianbulat.com/downloads/python-fan/s3fd-619a316812.pth\n",
      "Resolving www.adrianbulat.com (www.adrianbulat.com)... 45.136.29.207\n",
      "Connecting to www.adrianbulat.com (www.adrianbulat.com)|45.136.29.207|:443... connected.\n",
      "HTTP request sent, awaiting response... 200 OK\n",
      "Length: 89843225 (86M) [application/octet-stream]\n",
      "Saving to: ‘face_detection/detection/sfd/s3fd.pth’\n",
      "\n",
      "face_detection/dete 100%[===================>]  85.68M  3.83MB/s    in 23s     \n",
      "\n",
      "2021-05-26 08:24:13 (3.71 MB/s) - ‘face_detection/detection/sfd/s3fd.pth’ saved [89843225/89843225]\n",
      "\n"
     ]
    }
   ],
   "source": [
    "!wget \"https://www.adrianbulat.com/downloads/python-fan/s3fd-619a316812.pth\" -O \"face_detection/detection/sfd/s3fd.pth\""
   ]
  },
  {
   "cell_type": "markdown",
   "metadata": {
    "id": "qdIQfY2Kswcb"
   },
   "source": [
    "# Now lets try!"
   ]
  },
  {
   "cell_type": "code",
   "execution_count": 17,
   "metadata": {
    "colab": {
     "base_uri": "https://localhost:8080/"
    },
    "executionInfo": {
     "elapsed": 865,
     "status": "ok",
     "timestamp": 1621061373382,
     "user": {
      "displayName": "Samay Sagar",
      "photoUrl": "https://lh3.googleusercontent.com/a-/AOh14GiZKioxynrOi-4kU98Xuem3n0F4Q0Bn8a2kX1Iunvs=s64",
      "userId": "02539553994120176286"
     },
     "user_tz": -480
    },
    "id": "KoVGMtjRZfeR",
    "outputId": "2840b2bf-62de-49b7-cdb1-a8fe6a553b20"
   },
   "outputs": [
    {
     "name": "stdout",
     "output_type": "stream",
     "text": [
      "download: s3://video-wav2lip/elon.mp4 to sample_data/elon.mp4     \n",
      "elon.mp4\n"
     ]
    }
   ],
   "source": [
    "# !cp \"/content/gdrive/My Drive/Wav2Lip/speech.mp4\" \"/content/gdrive/My Drive/Wav2Lip/polly.wav\" sample_data/\n",
    "!aws s3 cp s3://video-wav2lip/elon.mp4 sample_data/\n",
    "\n",
    "!ls sample_data/"
   ]
  },
  {
   "cell_type": "code",
   "execution_count": 18,
   "metadata": {},
   "outputs": [
    {
     "name": "stdout",
     "output_type": "stream",
     "text": [
      "download: s3://audio-wav2lip/polly.mp3 to sample_data/polly.mp3   \n",
      "elon.mp4  polly.mp3\n"
     ]
    }
   ],
   "source": [
    "!aws s3 cp s3://audio-wav2lip/polly.mp3 sample_data/\n",
    "!ls sample_data"
   ]
  },
  {
   "cell_type": "markdown",
   "metadata": {},
   "source": [
    "Previously we faced a batch size issue (too large) for running on GPU. \n",
    "Now we get \"RuntimeError: Image too big to run face detection on GPU. Please use the --resize_factor argument\""
   ]
  },
  {
   "cell_type": "code",
   "execution_count": 3,
   "metadata": {
    "colab": {
     "base_uri": "https://localhost:8080/"
    },
    "executionInfo": {
     "elapsed": 76885,
     "status": "ok",
     "timestamp": 1621061454241,
     "user": {
      "displayName": "Samay Sagar",
      "photoUrl": "https://lh3.googleusercontent.com/a-/AOh14GiZKioxynrOi-4kU98Xuem3n0F4Q0Bn8a2kX1Iunvs=s64",
      "userId": "02539553994120176286"
     },
     "user_tz": -480
    },
    "id": "jR5utmDMcSZY",
    "outputId": "0d22c202-1ba1-4347-b9b7-fbe050fd3a0e"
   },
   "outputs": [
    {
     "name": "stdout",
     "output_type": "stream",
     "text": [
      "Using cpu for inference.\n",
      "Reading video frames...\n",
      "Number of frames available for inference: 449\n",
      "Extracting raw audio...\n",
      "ffmpeg version 4.3.1 Copyright (c) 2000-2020 the FFmpeg developers\n",
      "  built with gcc 9.3.0 (crosstool-NG 1.24.0.133_b0863d8_dirty)\n",
      "  configuration: --prefix=/home/ec2-user/anaconda3/envs/pytorch_p36 --cc=/home/conda/feedstock_root/build_artifacts/ffmpeg_1609680890771/_build_env/bin/x86_64-conda-linux-gnu-cc --disable-doc --disable-openssl --enable-avresample --enable-gnutls --enable-gpl --enable-hardcoded-tables --enable-libfreetype --enable-libopenh264 --enable-libx264 --enable-pic --enable-pthreads --enable-shared --enable-static --enable-version3 --enable-zlib --enable-libmp3lame --pkg-config=/home/conda/feedstock_root/build_artifacts/ffmpeg_1609680890771/_build_env/bin/pkg-config\n",
      "  libavutil      56. 51.100 / 56. 51.100\n",
      "  libavcodec     58. 91.100 / 58. 91.100\n",
      "  libavformat    58. 45.100 / 58. 45.100\n",
      "  libavdevice    58. 10.100 / 58. 10.100\n",
      "  libavfilter     7. 85.100 /  7. 85.100\n",
      "  libavresample   4.  0.  0 /  4.  0.  0\n",
      "  libswscale      5.  7.100 /  5.  7.100\n",
      "  libswresample   3.  7.100 /  3.  7.100\n",
      "  libpostproc    55.  7.100 / 55.  7.100\n",
      "\u001b[0;35m[mp3 @ 0x559f4ae19e00] \u001b[0m\u001b[0;33mEstimating duration from bitrate, this may be inaccurate\n",
      "\u001b[0mInput #0, mp3, from 'sample_data/polly.mp3':\n",
      "  Metadata:\n",
      "    encoder         : Lavf58.45.100\n",
      "  Duration: 00:00:36.14, start: 0.000000, bitrate: 48 kb/s\n",
      "    Stream #0:0: Audio: mp3, 24000 Hz, mono, fltp, 48 kb/s\n",
      "Stream mapping:\n",
      "  Stream #0:0 -> #0:0 (mp3 (mp3float) -> pcm_s16le (native))\n",
      "Press [q] to stop, [?] for help\n",
      "Output #0, wav, to 'temp/temp.wav':\n",
      "  Metadata:\n",
      "    ISFT            : Lavf58.45.100\n",
      "    Stream #0:0: Audio: pcm_s16le ([1][0][0][0] / 0x0001), 24000 Hz, mono, s16, 384 kb/s\n",
      "    Metadata:\n",
      "      encoder         : Lavc58.91.100 pcm_s16le\n",
      "\u001b[0;36m[mp3float @ 0x559f4ae1bc00] \u001b[0moverread, skip -6 enddists: -3 -3\n",
      "\u001b[0;36m[mp3float @ 0x559f4ae1bc00] \u001b[0moverread, skip -6 enddists: -2 -2\n",
      "\u001b[0;36m[mp3float @ 0x559f4ae1bc00] \u001b[0moverread, skip -6 enddists: -5 -5\n",
      "\u001b[0;36m[mp3float @ 0x559f4ae1bc00] \u001b[0moverread, skip -5 enddists: -1 -1\n",
      "\u001b[0;36m[mp3float @ 0x559f4ae1bc00] \u001b[0moverread, skip -6 enddists: -1 -1\n",
      "\u001b[0;36m[mp3float @ 0x559f4ae1bc00] \u001b[0moverread, skip -6 enddists: -2 -2\n",
      "size=    1694kB time=00:00:36.14 bitrate= 384.0kbits/s speed= 874x    \n",
      "video:0kB audio:1694kB subtitle:0kB other streams:0kB global headers:0kB muxing overhead: 0.004496%\n",
      "(80, 2892)\n",
      "Length of mel chunks: 899\n",
      "  0%|                                                    | 0/29 [00:00<?, ?it/s]\n",
      "  0%|                                                    | 0/29 [00:00<?, ?it/s]\u001b[A\n",
      "Recovering from OOM error; New batch size: 8\n",
      "\n",
      "  0%|                                                    | 0/57 [00:01<?, ?it/s]\u001b[A\n",
      "Recovering from OOM error; New batch size: 4\n",
      "\n",
      "  0%|                                                   | 0/113 [00:00<?, ?it/s]\u001b[A\n",
      "  1%|▍                                          | 1/113 [00:11<21:58, 11.77s/it]\u001b[A\n",
      "Recovering from OOM error; New batch size: 2\n",
      "\n",
      "  0%|                                                   | 0/225 [00:00<?, ?it/s]\u001b[A\n",
      "Recovering from OOM error; New batch size: 1\n",
      "\n",
      "  0%|                                                   | 0/449 [00:00<?, ?it/s]\u001b[A\n",
      "  0%|                                                    | 0/29 [00:15<?, ?it/s]\n",
      "Traceback (most recent call last):\n",
      "  File \"inference.py\", line 78, in face_detect\n",
      "    predictions.extend(detector.get_detections_for_batch(np.array(images[i:i + batch_size])))\n",
      "  File \"/home/ec2-user/SageMaker/Wav2Lip/face_detection/api.py\", line 66, in get_detections_for_batch\n",
      "    detected_faces = self.face_detector.detect_from_batch(images.copy())\n",
      "  File \"/home/ec2-user/SageMaker/Wav2Lip/face_detection/detection/sfd/sfd_detector.py\", line 42, in detect_from_batch\n",
      "    bboxlists = batch_detect(self.face_detector, images, device=self.device)\n",
      "  File \"/home/ec2-user/SageMaker/Wav2Lip/face_detection/detection/sfd/detect.py\", line 68, in batch_detect\n",
      "    olist = net(imgs)\n",
      "  File \"/home/ec2-user/anaconda3/envs/pytorch_p36/lib/python3.6/site-packages/torch/nn/modules/module.py\", line 532, in __call__\n",
      "    result = self.forward(*input, **kwargs)\n",
      "  File \"/home/ec2-user/SageMaker/Wav2Lip/face_detection/detection/sfd/net_s3fd.py\", line 72, in forward\n",
      "    h = F.relu(self.conv1_2(h))\n",
      "  File \"/home/ec2-user/anaconda3/envs/pytorch_p36/lib/python3.6/site-packages/torch/nn/modules/module.py\", line 532, in __call__\n",
      "    result = self.forward(*input, **kwargs)\n",
      "  File \"/home/ec2-user/anaconda3/envs/pytorch_p36/lib/python3.6/site-packages/torch/nn/modules/conv.py\", line 345, in forward\n",
      "    return self.conv2d_forward(input, self.weight)\n",
      "  File \"/home/ec2-user/anaconda3/envs/pytorch_p36/lib/python3.6/site-packages/torch/nn/modules/conv.py\", line 342, in conv2d_forward\n",
      "    self.padding, self.dilation, self.groups)\n",
      "RuntimeError: [enforce fail at CPUAllocator.cpp:64] . DefaultCPUAllocator: can't allocate memory: you tried to allocate 104939520 bytes. Error code 12 (Cannot allocate memory)\n",
      "\n",
      "\n",
      "During handling of the above exception, another exception occurred:\n",
      "\n",
      "Traceback (most recent call last):\n",
      "  File \"inference.py\", line 280, in <module>\n",
      "    main()\n",
      "  File \"inference.py\", line 250, in main\n",
      "    total=int(np.ceil(float(len(mel_chunks))/batch_size)))):\n",
      "  File \"/home/ec2-user/anaconda3/envs/pytorch_p36/lib/python3.6/site-packages/tqdm/std.py\", line 1170, in __iter__\n",
      "    for obj in iterable:\n",
      "  File \"inference.py\", line 113, in datagen\n",
      "    face_det_results = face_detect(frames) # BGR2RGB for CNN face detection\n",
      "  File \"inference.py\", line 81, in face_detect\n",
      "    raise RuntimeError('Image too big to run face detection on GPU. Please use the --resize_factor argument')\n",
      "RuntimeError: Image too big to run face detection on GPU. Please use the --resize_factor argument\n",
      "\u001b[0m"
     ]
    }
   ],
   "source": [
    "!python inference.py --checkpoint_path checkpoints/wav2lip.pth --face \"sample_data/elon.mp4\" --audio \"sample_data/polly.mp3\""
   ]
  },
  {
   "cell_type": "code",
   "execution_count": null,
   "metadata": {
    "id": "uNOAZvkszEOw"
   },
   "outputs": [],
   "source": [
    "# use the \"files\" button on the left to download the result in the Wav2Lip/results/ folder."
   ]
  },
  {
   "cell_type": "markdown",
   "metadata": {
    "id": "d7zgfrQqbKom"
   },
   "source": [
    "## **Variations to try**\n"
   ]
  },
  {
   "cell_type": "markdown",
   "metadata": {
    "id": "0f9A9VDVbZAG"
   },
   "source": [
    "1.   Use more padding to include the chin region"
   ]
  },
  {
   "cell_type": "code",
   "execution_count": null,
   "metadata": {
    "colab": {
     "base_uri": "https://localhost:8080/"
    },
    "executionInfo": {
     "elapsed": 7,
     "status": "ok",
     "timestamp": 1620916018077,
     "user": {
      "displayName": "Allard Quek",
      "photoUrl": "https://lh3.googleusercontent.com/a-/AOh14Gj8BW3h-H8WiFe0e70qq-7PHga9DZsw6PW34FcvQg=s64",
      "userId": "11989963074264449998"
     },
     "user_tz": -480
    },
    "id": "45XW4SZAzIz5",
    "outputId": "2aa8d3a2-f4b0-4a0d-d576-0ea817e134b1"
   },
   "outputs": [
    {
     "name": "stdout",
     "output_type": "stream",
     "text": [
      "Traceback (most recent call last):\n",
      "  File \"inference.py\", line 2, in <module>\n",
      "    import numpy as np\n",
      "  File \"/usr/local/lib/python3.7/dist-packages/numpy/__init__.py\", line 142, in <module>\n",
      "    from . import core\n",
      "  File \"/usr/local/lib/python3.7/dist-packages/numpy/core/__init__.py\", line 76, in <module>\n",
      "    from . import records as rec\n",
      "  File \"<frozen importlib._bootstrap>\", line 983, in _find_and_load\n",
      "  File \"<frozen importlib._bootstrap>\", line 967, in _find_and_load_unlocked\n",
      "  File \"<frozen importlib._bootstrap>\", line 677, in _load_unlocked\n",
      "  File \"<frozen importlib._bootstrap_external>\", line 724, in exec_module\n",
      "  File \"<frozen importlib._bootstrap_external>\", line 812, in get_code\n",
      "  File \"<frozen importlib._bootstrap_external>\", line 953, in path_stats\n",
      "  File \"<frozen importlib._bootstrap_external>\", line 81, in _path_stat\n",
      "KeyboardInterrupt\n"
     ]
    }
   ],
   "source": [
    "!cd Wav2Lip && python inference.py --checkpoint_path checkpoints/wav2lip.pth --face \"../sample_data/elon.mp4\" --audio \"../sample_data/Intoxicated.wav\" --pads 0 20 0 0"
   ]
  },
  {
   "cell_type": "markdown",
   "metadata": {
    "id": "uo-WnsxfbwTG"
   },
   "source": [
    "2.   Use resize_factor to reduce the video resolution, as there is a change you might get better results for lower resolution videos. Why? Because the model was trained on low resolution faces."
   ]
  },
  {
   "cell_type": "markdown",
   "metadata": {},
   "source": [
    "5min - Read audio\n",
    "\n",
    "2min - Load checkpoints & prediction"
   ]
  },
  {
   "cell_type": "code",
   "execution_count": 8,
   "metadata": {
    "colab": {
     "base_uri": "https://localhost:8080/"
    },
    "executionInfo": {
     "elapsed": 125111,
     "status": "ok",
     "timestamp": 1619963464070,
     "user": {
      "displayName": "Allard Quek",
      "photoUrl": "https://lh3.googleusercontent.com/a-/AOh14Gj8BW3h-H8WiFe0e70qq-7PHga9DZsw6PW34FcvQg=s64",
      "userId": "11989963074264449998"
     },
     "user_tz": -480
    },
    "id": "xw0xFtZ2bsx8",
    "outputId": "a025954c-8651-475c-cb19-b1f67179420d"
   },
   "outputs": [
    {
     "name": "stdout",
     "output_type": "stream",
     "text": [
      "Using cpu for inference.\n",
      "Reading video frames...\n",
      "Number of frames available for inference: 449\n",
      "Extracting raw audio...\n",
      "ffmpeg version 4.3.1 Copyright (c) 2000-2020 the FFmpeg developers\n",
      "  built with gcc 9.3.0 (crosstool-NG 1.24.0.133_b0863d8_dirty)\n",
      "  configuration: --prefix=/home/ec2-user/anaconda3/envs/pytorch_p36 --cc=/home/conda/feedstock_root/build_artifacts/ffmpeg_1609680890771/_build_env/bin/x86_64-conda-linux-gnu-cc --disable-doc --disable-openssl --enable-avresample --enable-gnutls --enable-gpl --enable-hardcoded-tables --enable-libfreetype --enable-libopenh264 --enable-libx264 --enable-pic --enable-pthreads --enable-shared --enable-static --enable-version3 --enable-zlib --enable-libmp3lame --pkg-config=/home/conda/feedstock_root/build_artifacts/ffmpeg_1609680890771/_build_env/bin/pkg-config\n",
      "  libavutil      56. 51.100 / 56. 51.100\n",
      "  libavcodec     58. 91.100 / 58. 91.100\n",
      "  libavformat    58. 45.100 / 58. 45.100\n",
      "  libavdevice    58. 10.100 / 58. 10.100\n",
      "  libavfilter     7. 85.100 /  7. 85.100\n",
      "  libavresample   4.  0.  0 /  4.  0.  0\n",
      "  libswscale      5.  7.100 /  5.  7.100\n",
      "  libswresample   3.  7.100 /  3.  7.100\n",
      "  libpostproc    55.  7.100 / 55.  7.100\n",
      "\u001b[0;35m[mp3 @ 0x564127993e00] \u001b[0m\u001b[0;33mEstimating duration from bitrate, this may be inaccurate\n",
      "\u001b[0mInput #0, mp3, from 'sample_data/polly.mp3':\n",
      "  Metadata:\n",
      "    encoder         : Lavf58.45.100\n",
      "  Duration: 00:00:36.14, start: 0.000000, bitrate: 48 kb/s\n",
      "    Stream #0:0: Audio: mp3, 24000 Hz, mono, fltp, 48 kb/s\n",
      "Stream mapping:\n",
      "  Stream #0:0 -> #0:0 (mp3 (mp3float) -> pcm_s16le (native))\n",
      "Press [q] to stop, [?] for help\n",
      "Output #0, wav, to 'temp/temp.wav':\n",
      "  Metadata:\n",
      "    ISFT            : Lavf58.45.100\n",
      "    Stream #0:0: Audio: pcm_s16le ([1][0][0][0] / 0x0001), 24000 Hz, mono, s16, 384 kb/s\n",
      "    Metadata:\n",
      "      encoder         : Lavc58.91.100 pcm_s16le\n",
      "\u001b[0;36m[mp3float @ 0x564127995c00] \u001b[0moverread, skip -6 enddists: -3 -3\n",
      "\u001b[0;36m[mp3float @ 0x564127995c00] \u001b[0moverread, skip -6 enddists: -2 -2\n",
      "\u001b[0;36m[mp3float @ 0x564127995c00] \u001b[0moverread, skip -6 enddists: -5 -5\n",
      "\u001b[0;36m[mp3float @ 0x564127995c00] \u001b[0moverread, skip -5 enddists: -1 -1\n",
      "\u001b[0;36m[mp3float @ 0x564127995c00] \u001b[0moverread, skip -6 enddists: -1 -1\n",
      "\u001b[0;36m[mp3float @ 0x564127995c00] \u001b[0moverread, skip -6 enddists: -2 -2\n",
      "size=    1694kB time=00:00:36.14 bitrate= 384.0kbits/s speed=1.1e+03x    \n",
      "video:0kB audio:1694kB subtitle:0kB other streams:0kB global headers:0kB muxing overhead: 0.004496%\n",
      "(80, 2892)\n",
      "Length of mel chunks: 899\n",
      "  0%|                                                    | 0/29 [00:00<?, ?it/s]\n",
      "  0%|                                                    | 0/29 [00:00<?, ?it/s]\u001b[A\n",
      "  3%|█▌                                          | 1/29 [00:10<05:06, 10.96s/it]\u001b[A\n",
      "  7%|███                                         | 2/29 [00:21<04:54, 10.91s/it]\u001b[A\n",
      " 10%|████▌                                       | 3/29 [00:32<04:41, 10.84s/it]\u001b[A\n",
      " 14%|██████                                      | 4/29 [00:43<04:29, 10.79s/it]\u001b[A\n",
      " 17%|███████▌                                    | 5/29 [00:54<04:18, 10.78s/it]\u001b[A\n",
      " 21%|█████████                                   | 6/29 [01:04<04:08, 10.81s/it]\u001b[A\n",
      " 24%|██████████▌                                 | 7/29 [01:15<03:57, 10.80s/it]\u001b[A\n",
      " 28%|████████████▏                               | 8/29 [01:26<03:47, 10.82s/it]\u001b[A\n",
      " 31%|█████████████▋                              | 9/29 [01:37<03:35, 10.77s/it]\u001b[A\n",
      " 34%|██████████████▊                            | 10/29 [01:47<03:24, 10.76s/it]\u001b[A\n",
      " 38%|████████████████▎                          | 11/29 [01:58<03:13, 10.76s/it]\u001b[A\n",
      " 41%|█████████████████▊                         | 12/29 [02:09<03:04, 10.86s/it]\u001b[A\n",
      " 45%|███████████████████▎                       | 13/29 [02:22<03:01, 11.32s/it]\u001b[A\n",
      " 48%|████████████████████▊                      | 14/29 [02:32<02:47, 11.14s/it]\u001b[A\n",
      " 52%|██████████████████████▏                    | 15/29 [02:43<02:34, 11.03s/it]\u001b[A\n",
      " 55%|███████████████████████▋                   | 16/29 [02:54<02:23, 11.06s/it]\u001b[A\n",
      " 59%|█████████████████████████▏                 | 17/29 [03:05<02:11, 10.98s/it]\u001b[A\n",
      " 62%|██████████████████████████▋                | 18/29 [03:16<02:00, 10.92s/it]\u001b[A\n",
      " 66%|████████████████████████████▏              | 19/29 [03:27<01:48, 10.89s/it]\u001b[A\n",
      " 69%|█████████████████████████████▋             | 20/29 [03:38<01:37, 10.87s/it]\u001b[A\n",
      " 72%|███████████████████████████████▏           | 21/29 [03:48<01:26, 10.83s/it]\u001b[A\n",
      " 76%|████████████████████████████████▌          | 22/29 [03:59<01:15, 10.82s/it]\u001b[A\n",
      " 79%|██████████████████████████████████         | 23/29 [04:10<01:04, 10.80s/it]\u001b[A\n",
      " 83%|███████████████████████████████████▌       | 24/29 [04:21<00:53, 10.78s/it]\u001b[A\n",
      " 86%|█████████████████████████████████████      | 25/29 [04:31<00:43, 10.77s/it]\u001b[A\n",
      " 90%|██████████████████████████████████████▌    | 26/29 [04:42<00:32, 10.74s/it]\u001b[A\n",
      " 93%|████████████████████████████████████████   | 27/29 [04:53<00:21, 10.76s/it]\u001b[A\n",
      " 97%|█████████████████████████████████████████▌ | 28/29 [05:04<00:10, 10.77s/it]\u001b[A\n",
      "100%|███████████████████████████████████████████| 29/29 [05:04<00:00, 10.51s/it]\u001b[A\n",
      "Load checkpoint from: checkpoints/wav2lip.pth\n",
      "Model loaded\n",
      "100%|███████████████████████████████████████████| 29/29 [06:48<00:00, 14.10s/it]\n",
      "ffmpeg version 4.3.1 Copyright (c) 2000-2020 the FFmpeg developers\n",
      "  built with gcc 9.3.0 (crosstool-NG 1.24.0.133_b0863d8_dirty)\n",
      "  configuration: --prefix=/home/ec2-user/anaconda3/envs/pytorch_p36 --cc=/home/conda/feedstock_root/build_artifacts/ffmpeg_1609680890771/_build_env/bin/x86_64-conda-linux-gnu-cc --disable-doc --disable-openssl --enable-avresample --enable-gnutls --enable-gpl --enable-hardcoded-tables --enable-libfreetype --enable-libopenh264 --enable-libx264 --enable-pic --enable-pthreads --enable-shared --enable-static --enable-version3 --enable-zlib --enable-libmp3lame --pkg-config=/home/conda/feedstock_root/build_artifacts/ffmpeg_1609680890771/_build_env/bin/pkg-config\n",
      "  libavutil      56. 51.100 / 56. 51.100\n",
      "  libavcodec     58. 91.100 / 58. 91.100\n",
      "  libavformat    58. 45.100 / 58. 45.100\n",
      "  libavdevice    58. 10.100 / 58. 10.100\n",
      "  libavfilter     7. 85.100 /  7. 85.100\n",
      "  libavresample   4.  0.  0 /  4.  0.  0\n",
      "  libswscale      5.  7.100 /  5.  7.100\n",
      "  libswresample   3.  7.100 /  3.  7.100\n",
      "  libpostproc    55.  7.100 / 55.  7.100\n",
      "\u001b[0;33mGuessed Channel Layout for Input Stream #0.0 : mono\n",
      "\u001b[0mInput #0, wav, from 'temp/temp.wav':\n",
      "  Metadata:\n",
      "    encoder         : Lavf58.45.100\n",
      "  Duration: 00:00:36.14, bitrate: 384 kb/s\n",
      "    Stream #0:0: Audio: pcm_s16le ([1][0][0][0] / 0x0001), 24000 Hz, mono, s16, 384 kb/s\n",
      "Input #1, avi, from 'temp/result.avi':\n",
      "  Metadata:\n",
      "    encoder         : Lavf58.61.100\n",
      "  Duration: 00:00:36.01, start: 0.000000, bitrate: 273 kb/s\n",
      "    Stream #1:0: Video: mpeg4 (Simple Profile) (DIVX / 0x58564944), yuv420p, 426x240 [SAR 1:1 DAR 71:40], 267 kb/s, 24.97 fps, 25 tbr, 24.97 tbn, 12483 tbc\n",
      "Stream mapping:\n",
      "  Stream #1:0 -> #0:0 (mpeg4 (native) -> h264 (libx264))\n",
      "  Stream #0:0 -> #0:1 (pcm_s16le (native) -> aac (native))\n",
      "Press [q] to stop, [?] for help\n",
      "\u001b[1;36m[libx264 @ 0x55faa9cf6600] \u001b[0m\u001b[0;33m-qscale is ignored, -crf is recommended.\n",
      "\u001b[0m\u001b[1;36m[libx264 @ 0x55faa9cf6600] \u001b[0musing SAR=1/1\n",
      "\u001b[1;36m[libx264 @ 0x55faa9cf6600] \u001b[0musing cpu capabilities: MMX2 SSE2Fast SSSE3 SSE4.2 AVX FMA3 BMI2 AVX2\n",
      "\u001b[1;36m[libx264 @ 0x55faa9cf6600] \u001b[0mprofile High, level 2.1, 4:2:0, 8-bit\n",
      "\u001b[1;36m[libx264 @ 0x55faa9cf6600] \u001b[0m264 - core 161 r3030M 8bd6d28 - H.264/MPEG-4 AVC codec - Copyleft 2003-2020 - http://www.videolan.org/x264.html - options: cabac=1 ref=3 deblock=1:0:0 analyse=0x3:0x113 me=hex subme=7 psy=1 psy_rd=1.00:0.00 mixed_ref=1 me_range=16 chroma_me=1 trellis=1 8x8dct=1 cqm=0 deadzone=21,11 fast_pskip=1 chroma_qp_offset=-2 threads=3 lookahead_threads=1 sliced_threads=0 nr=0 decimate=1 interlaced=0 bluray_compat=0 constrained_intra=0 bframes=3 b_pyramid=2 b_adapt=1 b_bias=0 direct=1 weightb=1 open_gop=0 weightp=2 keyint=250 keyint_min=25 scenecut=40 intra_refresh=0 rc_lookahead=40 rc=crf mbtree=1 crf=23.0 qcomp=0.60 qpmin=0 qpmax=69 qpstep=4 ip_ratio=1.40 aq=1:1.00\n",
      "Output #0, mp4, to 'results/result_voice.mp4':\n",
      "  Metadata:\n",
      "    encoder         : Lavf58.45.100\n",
      "    Stream #0:0: Video: h264 (libx264) (avc1 / 0x31637661), yuv420p(progressive), 426x240 [SAR 1:1 DAR 71:40], q=-1--1, 25 fps, 12800 tbn, 25 tbc\n",
      "    Metadata:\n",
      "      encoder         : Lavc58.91.100 libx264\n",
      "    Side data:\n",
      "      cpb: bitrate max/min/avg: 0/0/0 buffer size: 0 vbv_delay: N/A\n",
      "    Stream #0:1: Audio: aac (LC) (mp4a / 0x6134706D), 24000 Hz, mono, fltp, 69 kb/s\n",
      "    Metadata:\n",
      "      encoder         : Lavc58.91.100 aac\n",
      "frame=  900 fps=327 q=-1.0 Lsize=     816kB time=00:00:36.18 bitrate= 184.7kbits/s dup=1 drop=0 speed=13.2x    \n",
      "video:485kB audio:310kB subtitle:0kB other streams:0kB global headers:0kB muxing overhead: 2.613116%\n",
      "\u001b[1;36m[libx264 @ 0x55faa9cf6600] \u001b[0mframe I:4     Avg QP:17.49  size:  7440\n",
      "\u001b[1;36m[libx264 @ 0x55faa9cf6600] \u001b[0mframe P:555   Avg QP:21.65  size:   733\n",
      "\u001b[1;36m[libx264 @ 0x55faa9cf6600] \u001b[0mframe B:341   Avg QP:24.38  size:   173\n",
      "\u001b[1;36m[libx264 @ 0x55faa9cf6600] \u001b[0mconsecutive B-frames: 41.2% 20.4% 13.0% 25.3%\n",
      "\u001b[1;36m[libx264 @ 0x55faa9cf6600] \u001b[0mmb I  I16..4: 10.9% 78.5% 10.6%\n",
      "\u001b[1;36m[libx264 @ 0x55faa9cf6600] \u001b[0mmb P  I16..4:  0.6%  2.7%  0.0%  P16..4: 19.6%  8.1%  4.8%  0.0%  0.0%    skip:64.3%\n",
      "\u001b[1;36m[libx264 @ 0x55faa9cf6600] \u001b[0mmb B  I16..4:  0.2%  0.9%  0.0%  B16..8: 21.8%  1.3%  0.1%  direct: 0.2%  skip:75.5%  L0:45.7% L1:50.8% BI: 3.4%\n",
      "\u001b[1;36m[libx264 @ 0x55faa9cf6600] \u001b[0m8x8 transform intra:81.4% inter:75.8%\n",
      "\u001b[1;36m[libx264 @ 0x55faa9cf6600] \u001b[0mcoded y,uvDC,uvAC intra: 41.4% 35.2% 8.7% inter: 5.4% 5.9% 0.1%\n",
      "\u001b[1;36m[libx264 @ 0x55faa9cf6600] \u001b[0mi16 v,h,dc,p: 29% 27% 35%  9%\n",
      "\u001b[1;36m[libx264 @ 0x55faa9cf6600] \u001b[0mi8 v,h,dc,ddl,ddr,vr,hd,vl,hu: 23% 19% 47%  2%  1%  2%  2%  2%  2%\n",
      "\u001b[1;36m[libx264 @ 0x55faa9cf6600] \u001b[0mi4 v,h,dc,ddl,ddr,vr,hd,vl,hu: 37% 18% 15%  4%  6%  6%  7%  5%  3%\n",
      "\u001b[1;36m[libx264 @ 0x55faa9cf6600] \u001b[0mi8c dc,h,v,p: 53% 18% 26%  3%\n",
      "\u001b[1;36m[libx264 @ 0x55faa9cf6600] \u001b[0mWeighted P-Frames: Y:0.0% UV:0.0%\n",
      "\u001b[1;36m[libx264 @ 0x55faa9cf6600] \u001b[0mref P L0: 71.3% 11.5% 12.1%  5.0%\n",
      "\u001b[1;36m[libx264 @ 0x55faa9cf6600] \u001b[0mref B L0: 82.6% 14.2%  3.2%\n",
      "\u001b[1;36m[libx264 @ 0x55faa9cf6600] \u001b[0mref B L1: 97.4%  2.6%\n",
      "\u001b[1;36m[libx264 @ 0x55faa9cf6600] \u001b[0mkb/s:110.20\n",
      "\u001b[1;36m[aac @ 0x55faa9cf84c0] \u001b[0mQavg: 4575.139\n",
      "\u001b[0m"
     ]
    }
   ],
   "source": [
    "!python inference.py --checkpoint_path checkpoints/wav2lip.pth --face \"sample_data/elon.mp4\" --audio \"sample_data/polly.mp3\" --resize_factor 2"
   ]
  },
  {
   "cell_type": "code",
   "execution_count": 9,
   "metadata": {},
   "outputs": [
    {
     "name": "stdout",
     "output_type": "stream",
     "text": [
      "README.md  result_voice.mp4\r\n"
     ]
    }
   ],
   "source": [
    "!ls results"
   ]
  },
  {
   "cell_type": "code",
   "execution_count": 7,
   "metadata": {
    "id": "XaRhR-wjVuCD"
   },
   "outputs": [
    {
     "name": "stdout",
     "output_type": "stream",
     "text": [
      "README.md  result_voice.mp4\n",
      "README.md\n"
     ]
    }
   ],
   "source": [
    "!rm results/result_voice.mp4\n",
    "!ls results"
   ]
  },
  {
   "cell_type": "code",
   "execution_count": null,
   "metadata": {},
   "outputs": [],
   "source": []
  }
 ],
 "metadata": {
  "accelerator": "GPU",
  "colab": {
   "collapsed_sections": [],
   "name": "Wav2Lip.ipynb",
   "provenance": [
    {
     "file_id": "1tZpDWXz49W6wDcTprANRGLo2D_EbD5J8",
     "timestamp": 1619967859029
    },
    {
     "file_id": "1NLUwupCBsB1HrpEmOIHeMgU63sus2LxP",
     "timestamp": 1597735440478
    }
   ],
   "toc_visible": true
  },
  "kernelspec": {
   "display_name": "conda_pytorch_p36",
   "language": "python",
   "name": "conda_pytorch_p36"
  },
  "language_info": {
   "codemirror_mode": {
    "name": "ipython",
    "version": 3
   },
   "file_extension": ".py",
   "mimetype": "text/x-python",
   "name": "python",
   "nbconvert_exporter": "python",
   "pygments_lexer": "ipython3",
   "version": "3.6.13"
  }
 },
 "nbformat": 4,
 "nbformat_minor": 1
}
