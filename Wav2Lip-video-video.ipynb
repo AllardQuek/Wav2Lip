{
 "cells": [
  {
   "cell_type": "code",
   "execution_count": 4,
   "metadata": {
    "scrolled": true
   },
   "outputs": [
    {
     "name": "stdout",
     "output_type": "stream",
     "text": [
      "Requirement already satisfied: numpy in /home/ec2-user/anaconda3/envs/pytorch_p36/lib/python3.6/site-packages (from -r requirements.txt (line 1)) (1.19.5)\n",
      "Collecting opencv-contrib-python\n",
      "  Using cached opencv_contrib_python-4.5.3.56-cp36-cp36m-manylinux2014_x86_64.whl (56.1 MB)\n",
      "Collecting opencv-python-headless\n",
      "  Using cached opencv_python_headless-4.5.3.56-cp36-cp36m-manylinux2014_x86_64.whl (37.1 MB)\n",
      "Requirement already satisfied: torch in /home/ec2-user/anaconda3/envs/pytorch_p36/lib/python3.6/site-packages (from -r requirements.txt (line 4)) (1.4.0)\n",
      "Requirement already satisfied: torchvision in /home/ec2-user/anaconda3/envs/pytorch_p36/lib/python3.6/site-packages (from -r requirements.txt (line 5)) (0.5.0)\n",
      "Requirement already satisfied: tqdm in /home/ec2-user/anaconda3/envs/pytorch_p36/lib/python3.6/site-packages (from -r requirements.txt (line 6)) (4.57.0)\n",
      "Requirement already satisfied: numba in /home/ec2-user/anaconda3/envs/pytorch_p36/lib/python3.6/site-packages (from -r requirements.txt (line 7)) (0.52.0)\n",
      "Requirement already satisfied: scipy in /home/ec2-user/anaconda3/envs/pytorch_p36/lib/python3.6/site-packages (from -r requirements.txt (line 8)) (1.5.3)\n",
      "Collecting moviepy\n",
      "  Using cached moviepy-1.0.3-py3-none-any.whl\n",
      "Requirement already satisfied: six in /home/ec2-user/anaconda3/envs/pytorch_p36/lib/python3.6/site-packages (from torchvision->-r requirements.txt (line 5)) (1.15.0)\n",
      "Requirement already satisfied: pillow>=4.1.1 in /home/ec2-user/anaconda3/envs/pytorch_p36/lib/python3.6/site-packages (from torchvision->-r requirements.txt (line 5)) (8.2.0)\n",
      "Requirement already satisfied: setuptools in /home/ec2-user/anaconda3/envs/pytorch_p36/lib/python3.6/site-packages (from numba->-r requirements.txt (line 7)) (49.6.0.post20210108)\n",
      "Requirement already satisfied: llvmlite<0.36,>=0.35.0 in /home/ec2-user/anaconda3/envs/pytorch_p36/lib/python3.6/site-packages (from numba->-r requirements.txt (line 7)) (0.35.0)\n",
      "Requirement already satisfied: decorator<5.0,>=4.0.2 in /home/ec2-user/anaconda3/envs/pytorch_p36/lib/python3.6/site-packages (from moviepy->-r requirements.txt (line 9)) (4.4.2)\n",
      "Collecting proglog<=1.0.0\n",
      "  Using cached proglog-0.1.9-py3-none-any.whl\n",
      "Requirement already satisfied: imageio<3.0,>=2.5 in /home/ec2-user/anaconda3/envs/pytorch_p36/lib/python3.6/site-packages (from moviepy->-r requirements.txt (line 9)) (2.9.0)\n",
      "Collecting imageio-ffmpeg>=0.2.0\n",
      "  Using cached imageio_ffmpeg-0.4.4-py3-none-manylinux2010_x86_64.whl (26.9 MB)\n",
      "Requirement already satisfied: requests<3.0,>=2.8.1 in /home/ec2-user/anaconda3/envs/pytorch_p36/lib/python3.6/site-packages (from moviepy->-r requirements.txt (line 9)) (2.25.1)\n",
      "Requirement already satisfied: urllib3<1.27,>=1.21.1 in /home/ec2-user/anaconda3/envs/pytorch_p36/lib/python3.6/site-packages (from requests<3.0,>=2.8.1->moviepy->-r requirements.txt (line 9)) (1.26.5)\n",
      "Requirement already satisfied: idna<3,>=2.5 in /home/ec2-user/anaconda3/envs/pytorch_p36/lib/python3.6/site-packages (from requests<3.0,>=2.8.1->moviepy->-r requirements.txt (line 9)) (2.10)\n",
      "Requirement already satisfied: certifi>=2017.4.17 in /home/ec2-user/anaconda3/envs/pytorch_p36/lib/python3.6/site-packages (from requests<3.0,>=2.8.1->moviepy->-r requirements.txt (line 9)) (2021.5.30)\n",
      "Requirement already satisfied: chardet<5,>=3.0.2 in /home/ec2-user/anaconda3/envs/pytorch_p36/lib/python3.6/site-packages (from requests<3.0,>=2.8.1->moviepy->-r requirements.txt (line 9)) (3.0.4)\n",
      "Installing collected packages: proglog, imageio-ffmpeg, opencv-python-headless, opencv-contrib-python, moviepy\n",
      "Successfully installed imageio-ffmpeg-0.4.4 moviepy-1.0.3 opencv-contrib-python-4.5.3.56 opencv-python-headless-4.5.3.56 proglog-0.1.9\n",
      "\u001b[33mWARNING: You are using pip version 21.1.2; however, version 21.1.3 is available.\n",
      "You should consider upgrading via the '/home/ec2-user/anaconda3/envs/pytorch_p36/bin/python -m pip install --upgrade pip' command.\u001b[0m\n"
     ]
    }
   ],
   "source": [
    "!pip install -r requirements.txt"
   ]
  },
  {
   "cell_type": "code",
   "execution_count": 5,
   "metadata": {
    "scrolled": false
   },
   "outputs": [
    {
     "name": "stdout",
     "output_type": "stream",
     "text": [
      "Collecting package metadata (current_repodata.json): done\n",
      "Solving environment: / \n",
      "The environment is inconsistent, please check the package plan carefully\n",
      "The following packages are causing the inconsistency:\n",
      "\n",
      "  - conda-forge/noarch::seaborn-base==0.11.1=pyhd8ed1ab_1\n",
      "  - conda-forge/noarch::nbclassic==0.2.6=pyhd8ed1ab_0\n",
      "  - conda-forge/noarch::smart_open==2.2.1=pyh9f0ad1d_0\n",
      "  - conda-forge/linux-64::blaze==0.11.3=py36_0\n",
      "  - conda-forge/linux-64::matplotlib==3.3.4=py36h5fab9bb_0\n",
      "  - defaults/linux-64::_anaconda_depends==5.1.0=py36_2\n",
      "  - conda-forge/noarch::requests==2.25.1=pyhd3deb0d_0\n",
      "  - conda-forge/noarch::jupyterlab==3.0.9=pyhd8ed1ab_0\n",
      "  - conda-forge/noarch::python-language-server==0.36.2=pyhd8ed1ab_0\n",
      "  - conda-forge/noarch::jupyterlab_server==2.3.0=pyhd8ed1ab_0\n",
      "  - conda-forge/noarch::google-api-core==1.25.1=pyh44b312d_0\n",
      "  - conda-forge/noarch::pyls-black==0.4.6=pyh9f0ad1d_0\n",
      "  - conda-forge/linux-64::scikit-image==0.16.2=py36hb3f55d8_0\n",
      "  - fastai/noarch::fastprogress==1.0.0=pyh39e3cac_0\n",
      "  - fastai/noarch::fastai==1.0.61=1\n",
      "  - conda-forge/noarch::pathy==0.4.0=pyhd8ed1ab_0\n",
      "  - conda-forge/noarch::black==20.8b1=py_1\n",
      "  - conda-forge/linux-64::spacy==3.0.3=py36h355b2fd_0\n",
      "  - conda-forge/linux-64::anyio==2.1.0=py36h5fab9bb_0\n",
      "  - conda-forge/linux-64::jupyter_server==1.4.1=py36h5fab9bb_0\n",
      "  - conda-forge/noarch::google-auth==1.24.0=pyhd3deb0d_0\n",
      "  - conda-forge/linux-64::bokeh==2.2.3=py36h5fab9bb_0\n",
      "  - conda-forge/linux-64::thinc==8.0.1=py36h355b2fd_1\n",
      "  - pytorch/linux-64::torchvision==0.5.0=py36_cu101\n",
      "  - conda-forge/noarch::numpydoc==1.1.0=py_1\n",
      "  - conda-forge/linux-64::spyder==4.2.0=py36h5fab9bb_0\n",
      "  - conda-forge/noarch::pyls-spyder==0.3.2=pyhd8ed1ab_0\n",
      "  - conda-forge/noarch::odo==0.5.1=py_1\n",
      "  - conda-forge/noarch::imageio==2.9.0=py_0\n",
      "  - conda-forge/noarch::typer==0.3.2=pyhd8ed1ab_0\n",
      "  - conda-forge/noarch::google-cloud-storage==1.19.0=py_0\n",
      "  - conda-forge/noarch::sphinx==3.5.1=pyhd8ed1ab_0\n",
      "  - conda-forge/noarch::seaborn==0.11.1=hd8ed1ab_1\n",
      "  - conda-forge/linux-64::jupyter==1.0.0=py36h5fab9bb_6\n",
      "  - conda-forge/noarch::google-cloud-core==1.5.0=pyhd3deb0d_0\n",
      "  - conda-forge/noarch::dask==2021.2.0=pyhd8ed1ab_0\n",
      "  - conda-forge/linux-64::matplotlib-base==3.3.4=py36hd391965_0\n",
      "  - conda-forge/noarch::anaconda-client==1.7.2=py_0\n",
      "  - conda-forge/noarch::anaconda-project==0.9.1=pyhd8ed1ab_0\n",
      "done\n",
      "\n",
      "\n",
      "==> WARNING: A newer version of conda exists. <==\n",
      "  current version: 4.8.4\n",
      "  latest version: 4.10.3\n",
      "\n",
      "Please update conda by running\n",
      "\n",
      "    $ conda update -n base -c defaults conda\n",
      "\n",
      "\n",
      "\n",
      "## Package Plan ##\n",
      "\n",
      "  environment location: /home/ec2-user/anaconda3/envs/pytorch_p36\n",
      "\n",
      "  added / updated specs:\n",
      "    - librosa\n",
      "\n",
      "\n",
      "The following packages will be downloaded:\n",
      "\n",
      "    package                    |            build\n",
      "    ---------------------------|-----------------\n",
      "    astroid-2.6.2              |   py36h5fab9bb_0         318 KB  conda-forge\n",
      "    boto3-1.18.0               |     pyhd8ed1ab_0          70 KB  conda-forge\n",
      "    botocore-1.21.0            |     pyhd8ed1ab_1         4.7 MB  conda-forge\n",
      "    dataclasses-0.8            |     pyh787bdff_0          22 KB  conda-forge\n",
      "    docutils-0.17.1            |   py36h5fab9bb_0         762 KB  conda-forge\n",
      "    flask-cors-3.0.10          |     pyhd8ed1ab_0          15 KB  conda-forge\n",
      "    fsspec-2021.7.0            |     pyhd8ed1ab_0          81 KB  conda-forge\n",
      "    lxml-4.6.3                 |   py36h04a5ba7_0         1.5 MB  conda-forge\n",
      "    pillow-8.2.0               |   py36ha6010c0_1         688 KB  conda-forge\n",
      "    pip-21.1.3                 |     pyhd8ed1ab_0         1.1 MB  conda-forge\n",
      "    pydantic-1.7.3             |   py36h27cfd23_0         1.5 MB\n",
      "    pylint-2.9.3               |     pyhd8ed1ab_0         245 KB  conda-forge\n",
      "    s3transfer-0.5.0           |     pyhd8ed1ab_0          55 KB  conda-forge\n",
      "    urllib3-1.26.6             |     pyhd8ed1ab_0          99 KB  conda-forge\n",
      "    ------------------------------------------------------------\n",
      "                                           Total:        11.1 MB\n",
      "\n",
      "The following NEW packages will be INSTALLED:\n",
      "\n",
      "  aiohttp            conda-forge/linux-64::aiohttp-3.7.4.post0-py36h8f6f2f9_0\n",
      "  astroid            conda-forge/linux-64::astroid-2.6.2-py36h5fab9bb_0\n",
      "  audioread          conda-forge/linux-64::audioread-2.1.9-py36h5fab9bb_0\n",
      "  boto3              conda-forge/noarch::boto3-1.18.0-pyhd8ed1ab_0\n",
      "  botocore           conda-forge/noarch::botocore-1.21.0-pyhd8ed1ab_1\n",
      "  colorama           conda-forge/noarch::colorama-0.4.4-pyh9f0ad1d_0\n",
      "  dataclasses        conda-forge/noarch::dataclasses-0.8-pyh787bdff_0\n",
      "  docutils           conda-forge/linux-64::docutils-0.17.1-py36h5fab9bb_0\n",
      "  ffmpeg             conda-forge/linux-64::ffmpeg-4.3.1-hca11adc_2\n",
      "  flask-cors         conda-forge/noarch::flask-cors-3.0.10-pyhd8ed1ab_0\n",
      "  fsspec             conda-forge/noarch::fsspec-2021.7.0-pyhd8ed1ab_0\n",
      "  gnutls             conda-forge/linux-64::gnutls-3.6.13-h85f3911_1\n",
      "  jupyter_console    conda-forge/linux-64::jupyter_console-5.2.0-py36_1\n",
      "  lame               conda-forge/linux-64::lame-3.100-h7f98852_1001\n",
      "  libflac            conda-forge/linux-64::libflac-1.3.3-h9c3ff4c_1\n",
      "  libogg             conda-forge/linux-64::libogg-1.3.4-h7f98852_1\n",
      "  libopus            conda-forge/linux-64::libopus-1.3.1-h7f98852_1\n",
      "  librosa            conda-forge/noarch::librosa-0.8.1-pyhd8ed1ab_0\n",
      "  libsndfile         conda-forge/linux-64::libsndfile-1.0.31-h9c3ff4c_1\n",
      "  libvorbis          conda-forge/linux-64::libvorbis-1.3.7-h9c3ff4c_0\n",
      "  lxml               conda-forge/linux-64::lxml-4.6.3-py36h04a5ba7_0\n",
      "  nettle             conda-forge/linux-64::nettle-3.6-he412f7d_0\n",
      "  openh264           conda-forge/linux-64::openh264-2.1.1-h780b84a_0\n",
      "  openjpeg           conda-forge/linux-64::openjpeg-2.4.0-hb52868f_1\n",
      "  pillow             conda-forge/linux-64::pillow-8.2.0-py36ha6010c0_1\n",
      "  pip                conda-forge/noarch::pip-21.1.3-pyhd8ed1ab_0\n",
      "  pooch              conda-forge/noarch::pooch-1.4.0-pyhd8ed1ab_0\n",
      "  pydantic           pkgs/main/linux-64::pydantic-1.7.3-py36h27cfd23_0\n",
      "  pylint             conda-forge/noarch::pylint-2.9.3-pyhd8ed1ab_0\n",
      "  pysoundfile        conda-forge/noarch::pysoundfile-0.10.3.post1-pyhd3deb0d_0\n",
      "  resampy            conda-forge/noarch::resampy-0.2.2-py_0\n",
      "  s3transfer         conda-forge/noarch::s3transfer-0.5.0-pyhd8ed1ab_0\n",
      "  urllib3            conda-forge/noarch::urllib3-1.26.6-pyhd8ed1ab_0\n",
      "  x264               conda-forge/linux-64::x264-1!161.3030-h7f98852_1\n",
      "\n",
      "\n",
      "\n",
      "Downloading and Extracting Packages\n",
      "urllib3-1.26.6       | 99 KB     | ##################################### | 100% \n",
      "flask-cors-3.0.10    | 15 KB     | ##################################### | 100% \n",
      "astroid-2.6.2        | 318 KB    | ##################################### | 100% \n",
      "pillow-8.2.0         | 688 KB    | ##################################### | 100% \n",
      "fsspec-2021.7.0      | 81 KB     | ##################################### | 100% \n",
      "lxml-4.6.3           | 1.5 MB    | ##################################### | 100% \n",
      "docutils-0.17.1      | 762 KB    | ##################################### | 100% \n",
      "pip-21.1.3           | 1.1 MB    | ##################################### | 100% \n",
      "dataclasses-0.8      | 22 KB     | ##################################### | 100% \n",
      "pylint-2.9.3         | 245 KB    | ##################################### | 100% \n",
      "boto3-1.18.0         | 70 KB     | ##################################### | 100% \n",
      "botocore-1.21.0      | 4.7 MB    | ##################################### | 100% \n",
      "s3transfer-0.5.0     | 55 KB     | ##################################### | 100% \n",
      "pydantic-1.7.3       | 1.5 MB    | ##################################### | 100% \n",
      "Preparing transaction: done\n",
      "Verifying transaction: done\n",
      "Executing transaction: done\n"
     ]
    }
   ],
   "source": [
    "# Install librosa (seems to come with ffmpeg as well):\n",
    "!conda install -c conda-forge librosa -y"
   ]
  },
  {
   "cell_type": "code",
   "execution_count": 6,
   "metadata": {
    "scrolled": false
   },
   "outputs": [
    {
     "name": "stdout",
     "output_type": "stream",
     "text": [
      "Collecting package metadata (current_repodata.json): done\n",
      "Solving environment: failed with initial frozen solve. Retrying with flexible solve.\n",
      "Collecting package metadata (repodata.json): done\n",
      "Solving environment: done\n",
      "\n",
      "\n",
      "==> WARNING: A newer version of conda exists. <==\n",
      "  current version: 4.8.4\n",
      "  latest version: 4.10.3\n",
      "\n",
      "Please update conda by running\n",
      "\n",
      "    $ conda update -n base -c defaults conda\n",
      "\n",
      "\n",
      "\n",
      "## Package Plan ##\n",
      "\n",
      "  environment location: /home/ec2-user/anaconda3/envs/pytorch_p36\n",
      "\n",
      "  added / updated specs:\n",
      "    - ffmpeg\n",
      "\n",
      "\n",
      "The following packages will be downloaded:\n",
      "\n",
      "    package                    |            build\n",
      "    ---------------------------|-----------------\n",
      "    aiohttp-3.7.3              |   py36h8f6f2f9_2         629 KB  conda-forge\n",
      "    astroid-2.5                |   py36h5fab9bb_1         297 KB  conda-forge\n",
      "    botocore-1.20.15           |     pyhd8ed1ab_0         4.5 MB  conda-forge\n",
      "    flask-cors-3.0.8           |             py_0          14 KB  conda-forge\n",
      "    fsspec-0.8.7               |     pyhd8ed1ab_0          72 KB  conda-forge\n",
      "    lxml-4.6.2                 |   py36h04a5ba7_1         1.5 MB  conda-forge\n",
      "    pillow-8.1.0               |   py36ha6010c0_2         670 KB  conda-forge\n",
      "    pip-21.0.1                 |     pyhd8ed1ab_0         1.1 MB  conda-forge\n",
      "    pydantic-1.7.3             |   py36h8f6f2f9_0         2.0 MB  conda-forge\n",
      "    pylint-2.6.0               |   py36h5fab9bb_1         452 KB  conda-forge\n",
      "    urllib3-1.26.3             |     pyhd8ed1ab_0          99 KB  conda-forge\n",
      "    ------------------------------------------------------------\n",
      "                                           Total:        11.3 MB\n",
      "\n",
      "The following packages will be SUPERSEDED by a higher-priority channel:\n",
      "\n",
      "  pydantic           pkgs/main::pydantic-1.7.3-py36h27cfd2~ --> conda-forge::pydantic-1.7.3-py36h8f6f2f9_0\n",
      "  pylint             conda-forge/noarch::pylint-2.9.3-pyhd~ --> conda-forge/linux-64::pylint-2.6.0-py36h5fab9bb_1\n",
      "\n",
      "The following packages will be DOWNGRADED:\n",
      "\n",
      "  aiohttp                        3.7.4.post0-py36h8f6f2f9_0 --> 3.7.3-py36h8f6f2f9_2\n",
      "  astroid                              2.6.2-py36h5fab9bb_0 --> 2.5-py36h5fab9bb_1\n",
      "  boto3                                 1.18.0-pyhd8ed1ab_0 --> 1.17.15-pyhd8ed1ab_0\n",
      "  botocore                              1.21.0-pyhd8ed1ab_1 --> 1.20.15-pyhd8ed1ab_0\n",
      "  dataclasses                              0.8-pyh787bdff_0 --> 0.7-pyhe4b4509_6\n",
      "  docutils                            0.17.1-py36h5fab9bb_0 --> 0.16-py36h5fab9bb_3\n",
      "  flask-cors                            3.0.10-pyhd8ed1ab_0 --> 3.0.8-py_0\n",
      "  fsspec                              2021.7.0-pyhd8ed1ab_0 --> 0.8.7-pyhd8ed1ab_0\n",
      "  lxml                                 4.6.3-py36h04a5ba7_0 --> 4.6.2-py36h04a5ba7_1\n",
      "  pillow                               8.2.0-py36ha6010c0_1 --> 8.1.0-py36ha6010c0_2\n",
      "  pip                                   21.1.3-pyhd8ed1ab_0 --> 21.0.1-pyhd8ed1ab_0\n",
      "  s3transfer                             0.5.0-pyhd8ed1ab_0 --> 0.3.4-pyhd8ed1ab_0\n",
      "  urllib3                               1.26.6-pyhd8ed1ab_0 --> 1.26.3-pyhd8ed1ab_0\n",
      "\n",
      "\n",
      "\n",
      "Downloading and Extracting Packages\n",
      "astroid-2.5          | 297 KB    | ##################################### | 100% \n",
      "pillow-8.1.0         | 670 KB    | ##################################### | 100% \n",
      "fsspec-0.8.7         | 72 KB     | ##################################### | 100% \n",
      "aiohttp-3.7.3        | 629 KB    | ##################################### | 100% \n",
      "flask-cors-3.0.8     | 14 KB     | ##################################### | 100% \n",
      "pip-21.0.1           | 1.1 MB    | ##################################### | 100% \n",
      "pydantic-1.7.3       | 2.0 MB    | ##################################### | 100% \n",
      "urllib3-1.26.3       | 99 KB     | ##################################### | 100% \n",
      "botocore-1.20.15     | 4.5 MB    | ##################################### | 100% \n",
      "lxml-4.6.2           | 1.5 MB    | ##################################### | 100% \n",
      "pylint-2.6.0         | 452 KB    | ##################################### | 100% \n",
      "Preparing transaction: done\n",
      "Verifying transaction: done\n",
      "Executing transaction: done\n"
     ]
    }
   ],
   "source": [
    "# Install ffmpeg:\n",
    "!conda install -c conda-forge ffmpeg -y"
   ]
  },
  {
   "cell_type": "code",
   "execution_count": 16,
   "metadata": {},
   "outputs": [
    {
     "name": "stdout",
     "output_type": "stream",
     "text": [
      "download: s3://video-wav2lip/lessonVid.mp4 to sample_data/lessonVid.mp4\n",
      "download: s3://video-wav2lip/video.mp4 to sample_data/video.mp4 \n",
      "elon.mp4    lessonAudio.mp3  polly.mp3\tvideo.mp4\n",
      "image.jpeg  lessonVid.mp4    polly.wav\n"
     ]
    }
   ],
   "source": [
    "# Copy files over from S3\n",
    "!aws s3 cp s3://video-wav2lip/lessonVid.mp4 sample_data/\n",
    "!aws s3 cp s3://video-wav2lip/video.mp4 sample_data/\n",
    "!ls sample_data"
   ]
  },
  {
   "cell_type": "code",
   "execution_count": 8,
   "metadata": {
    "scrolled": true
   },
   "outputs": [
    {
     "name": "stdout",
     "output_type": "stream",
     "text": [
      "ffmpeg version 4.3.1 Copyright (c) 2000-2020 the FFmpeg developers\n",
      "  built with gcc 9.3.0 (crosstool-NG 1.24.0.133_b0863d8_dirty)\n",
      "  configuration: --prefix=/home/ec2-user/anaconda3/envs/pytorch_p36 --cc=/home/conda/feedstock_root/build_artifacts/ffmpeg_1609680890771/_build_env/bin/x86_64-conda-linux-gnu-cc --disable-doc --disable-openssl --enable-avresample --enable-gnutls --enable-gpl --enable-hardcoded-tables --enable-libfreetype --enable-libopenh264 --enable-libx264 --enable-pic --enable-pthreads --enable-shared --enable-static --enable-version3 --enable-zlib --enable-libmp3lame --pkg-config=/home/conda/feedstock_root/build_artifacts/ffmpeg_1609680890771/_build_env/bin/pkg-config\n",
      "  libavutil      56. 51.100 / 56. 51.100\n",
      "  libavcodec     58. 91.100 / 58. 91.100\n",
      "  libavformat    58. 45.100 / 58. 45.100\n",
      "  libavdevice    58. 10.100 / 58. 10.100\n",
      "  libavfilter     7. 85.100 /  7. 85.100\n",
      "  libavresample   4.  0.  0 /  4.  0.  0\n",
      "  libswscale      5.  7.100 /  5.  7.100\n",
      "  libswresample   3.  7.100 /  3.  7.100\n",
      "  libpostproc    55.  7.100 / 55.  7.100\n",
      "Input #0, mov,mp4,m4a,3gp,3g2,mj2, from 'sample_data/lessonVid.mp4':\n",
      "  Metadata:\n",
      "    major_brand     : mp42\n",
      "    minor_version   : 1\n",
      "    compatible_brands: isommp41mp42\n",
      "    creation_time   : 2021-07-07T19:22:15.000000Z\n",
      "  Duration: 00:01:00.00, start: 0.000000, bitrate: 490 kb/s\n",
      "    Stream #0:0(und): Video: h264 (High) (avc1 / 0x31637661), yuv420p(tv, bt709), 1280x720 [SAR 1:1 DAR 16:9], 358 kb/s, 29.97 fps, 29.97 tbr, 11988 tbn, 59.94 tbc (default)\n",
      "    Metadata:\n",
      "      creation_time   : 2021-07-07T19:22:15.000000Z\n",
      "      handler_name    : Core Media Video\n",
      "    Stream #0:1(eng): Audio: aac (LC) (mp4a / 0x6134706D), 44100 Hz, stereo, fltp, 128 kb/s (default)\n",
      "    Metadata:\n",
      "      creation_time   : 2021-07-07T19:22:15.000000Z\n",
      "      handler_name    : Core Media Audio\n",
      "Stream mapping:\n",
      "  Stream #0:1 -> #0:0 (aac (native) -> mp3 (libmp3lame))\n",
      "Press [q] to stop, [?] for help\n",
      "Output #0, mp3, to 'sample_data/lessonAudio.mp3':\n",
      "  Metadata:\n",
      "    major_brand     : mp42\n",
      "    minor_version   : 1\n",
      "    compatible_brands: isommp41mp42\n",
      "    TSSE            : Lavf58.45.100\n",
      "    Stream #0:0(eng): Audio: mp3 (libmp3lame), 44100 Hz, stereo, fltp (default)\n",
      "    Metadata:\n",
      "      creation_time   : 2021-07-07T19:22:15.000000Z\n",
      "      handler_name    : Core Media Audio\n",
      "      encoder         : Lavc58.91.100 libmp3lame\n",
      "size=     938kB time=00:01:00.00 bitrate= 128.1kbits/s speed=54.9x    \n",
      "video:0kB audio:938kB subtitle:0kB other streams:0kB global headers:0kB muxing overhead: 0.036440%\n"
     ]
    }
   ],
   "source": [
    "# Convert lesson video to audio\n",
    "!ffmpeg -i sample_data/lessonVid.mp4 sample_data/lessonAudio.mp3 -y"
   ]
  },
  {
   "cell_type": "code",
   "execution_count": 9,
   "metadata": {
    "scrolled": true
   },
   "outputs": [
    {
     "name": "stdout",
     "output_type": "stream",
     "text": [
      "Using cpu for inference.\n",
      "Reading video frames...\n",
      "Number of frames available for inference: 293\n",
      "Extracting raw audio...\n",
      "ffmpeg version 4.3.1 Copyright (c) 2000-2020 the FFmpeg developers\n",
      "  built with gcc 9.3.0 (crosstool-NG 1.24.0.133_b0863d8_dirty)\n",
      "  configuration: --prefix=/home/ec2-user/anaconda3/envs/pytorch_p36 --cc=/home/conda/feedstock_root/build_artifacts/ffmpeg_1609680890771/_build_env/bin/x86_64-conda-linux-gnu-cc --disable-doc --disable-openssl --enable-avresample --enable-gnutls --enable-gpl --enable-hardcoded-tables --enable-libfreetype --enable-libopenh264 --enable-libx264 --enable-pic --enable-pthreads --enable-shared --enable-static --enable-version3 --enable-zlib --enable-libmp3lame --pkg-config=/home/conda/feedstock_root/build_artifacts/ffmpeg_1609680890771/_build_env/bin/pkg-config\n",
      "  libavutil      56. 51.100 / 56. 51.100\n",
      "  libavcodec     58. 91.100 / 58. 91.100\n",
      "  libavformat    58. 45.100 / 58. 45.100\n",
      "  libavdevice    58. 10.100 / 58. 10.100\n",
      "  libavfilter     7. 85.100 /  7. 85.100\n",
      "  libavresample   4.  0.  0 /  4.  0.  0\n",
      "  libswscale      5.  7.100 /  5.  7.100\n",
      "  libswresample   3.  7.100 /  3.  7.100\n",
      "  libpostproc    55.  7.100 / 55.  7.100\n",
      "Input #0, mp3, from 'sample_data/lessonAudio.mp3':\n",
      "  Metadata:\n",
      "    major_brand     : mp42\n",
      "    minor_version   : 1\n",
      "    compatible_brands: isommp41mp42\n",
      "    encoder         : Lavf58.45.100\n",
      "  Duration: 00:01:00.03, start: 0.025057, bitrate: 128 kb/s\n",
      "    Stream #0:0: Audio: mp3, 44100 Hz, stereo, fltp, 128 kb/s\n",
      "    Metadata:\n",
      "      encoder         : Lavc58.91\n",
      "Stream mapping:\n",
      "  Stream #0:0 -> #0:0 (mp3 (mp3float) -> pcm_s16le (native))\n",
      "Press [q] to stop, [?] for help\n",
      "Output #0, wav, to 'temp/temp.wav':\n",
      "  Metadata:\n",
      "    major_brand     : mp42\n",
      "    minor_version   : 1\n",
      "    compatible_brands: isommp41mp42\n",
      "    ISFT            : Lavf58.45.100\n",
      "    Stream #0:0: Audio: pcm_s16le ([1][0][0][0] / 0x0001), 44100 Hz, stereo, s16, 1411 kb/s\n",
      "    Metadata:\n",
      "      encoder         : Lavc58.91.100 pcm_s16le\n",
      "size=   10336kB time=00:01:00.00 bitrate=1411.2kbits/s speed= 605x    \n",
      "video:0kB audio:10336kB subtitle:0kB other streams:0kB global headers:0kB muxing overhead: 0.000737%\n",
      "(80, 4801)\n",
      "Length of mel chunks: 1794\n",
      "  0%|                                                    | 0/57 [00:00<?, ?it/s]\n",
      "  0%|                                                    | 0/19 [00:00<?, ?it/s]\u001b[A\n",
      "  5%|██▎                                         | 1/19 [00:08<02:25,  8.07s/it]\u001b[A\n",
      " 11%|████▋                                       | 2/19 [00:13<01:55,  6.80s/it]\u001b[A\n",
      " 16%|██████▉                                     | 3/19 [00:19<01:41,  6.36s/it]\u001b[A\n",
      " 21%|█████████▎                                  | 4/19 [00:25<01:32,  6.19s/it]\u001b[A\n",
      " 26%|███████████▌                                | 5/19 [00:31<01:25,  6.07s/it]\u001b[A\n",
      " 32%|█████████████▉                              | 6/19 [00:37<01:18,  6.00s/it]\u001b[A\n",
      " 37%|████████████████▏                           | 7/19 [00:43<01:11,  5.92s/it]\u001b[A\n",
      " 42%|██████████████████▌                         | 8/19 [00:49<01:04,  5.89s/it]\u001b[A\n",
      " 47%|████████████████████▊                       | 9/19 [00:54<00:58,  5.86s/it]\u001b[A\n",
      " 53%|██████████████████████▋                    | 10/19 [01:00<00:52,  5.81s/it]\u001b[A\n",
      " 58%|████████████████████████▉                  | 11/19 [01:06<00:46,  5.79s/it]\u001b[A\n",
      " 63%|███████████████████████████▏               | 12/19 [01:12<00:40,  5.79s/it]\u001b[A\n",
      " 68%|█████████████████████████████▍             | 13/19 [01:17<00:34,  5.78s/it]\u001b[A\n",
      " 74%|███████████████████████████████▋           | 14/19 [01:23<00:28,  5.77s/it]\u001b[A\n",
      " 79%|█████████████████████████████████▉         | 15/19 [01:29<00:23,  5.77s/it]\u001b[A\n",
      " 84%|████████████████████████████████████▏      | 16/19 [01:35<00:17,  5.77s/it]\u001b[A\n",
      " 89%|██████████████████████████████████████▍    | 17/19 [01:40<00:11,  5.75s/it]\u001b[A\n",
      " 95%|████████████████████████████████████████▋  | 18/19 [01:46<00:05,  5.75s/it]\u001b[A\n",
      "100%|███████████████████████████████████████████| 19/19 [01:48<00:00,  5.70s/it]\u001b[A\n",
      "Load checkpoint from: checkpoints/wav2lip.pth\n",
      "Model loaded\n",
      "100%|███████████████████████████████████████████| 57/57 [03:44<00:00,  3.93s/it]\n",
      "ffmpeg version 4.3.1 Copyright (c) 2000-2020 the FFmpeg developers\n",
      "  built with gcc 9.3.0 (crosstool-NG 1.24.0.133_b0863d8_dirty)\n",
      "  configuration: --prefix=/home/ec2-user/anaconda3/envs/pytorch_p36 --cc=/home/conda/feedstock_root/build_artifacts/ffmpeg_1609680890771/_build_env/bin/x86_64-conda-linux-gnu-cc --disable-doc --disable-openssl --enable-avresample --enable-gnutls --enable-gpl --enable-hardcoded-tables --enable-libfreetype --enable-libopenh264 --enable-libx264 --enable-pic --enable-pthreads --enable-shared --enable-static --enable-version3 --enable-zlib --enable-libmp3lame --pkg-config=/home/conda/feedstock_root/build_artifacts/ffmpeg_1609680890771/_build_env/bin/pkg-config\n",
      "  libavutil      56. 51.100 / 56. 51.100\n",
      "  libavcodec     58. 91.100 / 58. 91.100\n",
      "  libavformat    58. 45.100 / 58. 45.100\n",
      "  libavdevice    58. 10.100 / 58. 10.100\n",
      "  libavfilter     7. 85.100 /  7. 85.100\n",
      "  libavresample   4.  0.  0 /  4.  0.  0\n",
      "  libswscale      5.  7.100 /  5.  7.100\n",
      "  libswresample   3.  7.100 /  3.  7.100\n",
      "  libpostproc    55.  7.100 / 55.  7.100\n",
      "\u001b[0;33mGuessed Channel Layout for Input Stream #0.0 : stereo\n",
      "\u001b[0mInput #0, wav, from 'temp/temp.wav':\n",
      "  Metadata:\n",
      "    encoder         : Lavf58.45.100\n",
      "  Duration: 00:01:00.00, bitrate: 1411 kb/s\n",
      "    Stream #0:0: Audio: pcm_s16le ([1][0][0][0] / 0x0001), 44100 Hz, stereo, s16, 1411 kb/s\n",
      "Input #1, avi, from 'temp/result.avi':\n",
      "  Metadata:\n",
      "    encoder         : Lavf58.61.100\n",
      "  Duration: 00:00:59.86, start: 0.000000, bitrate: 599 kb/s\n",
      "    Stream #1:0: Video: mpeg4 (Simple Profile) (DIVX / 0x58564944), yuv420p, 426x240 [SAR 1:1 DAR 71:40], 593 kb/s, 29.97 fps, 29.97 tbr, 29.97 tbn, 2997 tbc\n",
      "Stream mapping:\n",
      "  Stream #1:0 -> #0:0 (mpeg4 (native) -> h264 (libx264))\n",
      "  Stream #0:0 -> #0:1 (pcm_s16le (native) -> aac (native))\n",
      "Press [q] to stop, [?] for help\n",
      "\u001b[1;36m[libx264 @ 0x555878d325c0] \u001b[0m\u001b[0;33m-qscale is ignored, -crf is recommended.\n",
      "\u001b[0m\u001b[1;36m[libx264 @ 0x555878d325c0] \u001b[0musing SAR=1/1\n",
      "\u001b[1;36m[libx264 @ 0x555878d325c0] \u001b[0musing cpu capabilities: MMX2 SSE2Fast SSSE3 SSE4.2 AVX FMA3 BMI2 AVX2\n",
      "\u001b[1;36m[libx264 @ 0x555878d325c0] \u001b[0mprofile High, level 2.1, 4:2:0, 8-bit\n",
      "\u001b[1;36m[libx264 @ 0x555878d325c0] \u001b[0m264 - core 161 r3030M 8bd6d28 - H.264/MPEG-4 AVC codec - Copyleft 2003-2020 - http://www.videolan.org/x264.html - options: cabac=1 ref=3 deblock=1:0:0 analyse=0x3:0x113 me=hex subme=7 psy=1 psy_rd=1.00:0.00 mixed_ref=1 me_range=16 chroma_me=1 trellis=1 8x8dct=1 cqm=0 deadzone=21,11 fast_pskip=1 chroma_qp_offset=-2 threads=6 lookahead_threads=1 sliced_threads=0 nr=0 decimate=1 interlaced=0 bluray_compat=0 constrained_intra=0 bframes=3 b_pyramid=2 b_adapt=1 b_bias=0 direct=1 weightb=1 open_gop=0 weightp=2 keyint=250 keyint_min=25 scenecut=40 intra_refresh=0 rc_lookahead=40 rc=crf mbtree=1 crf=23.0 qcomp=0.60 qpmin=0 qpmax=69 qpstep=4 ip_ratio=1.40 aq=1:1.00\n",
      "Output #0, mp4, to 'results/result_voice.mp4':\n",
      "  Metadata:\n",
      "    encoder         : Lavf58.45.100\n",
      "    Stream #0:0: Video: h264 (libx264) (avc1 / 0x31637661), yuv420p(progressive), 426x240 [SAR 1:1 DAR 71:40], q=-1--1, 29.97 fps, 30k tbn, 29.97 tbc\n",
      "    Metadata:\n",
      "      encoder         : Lavc58.91.100 libx264\n",
      "    Side data:\n",
      "      cpb: bitrate max/min/avg: 0/0/0 buffer size: 0 vbv_delay: N/A\n",
      "    Stream #0:1: Audio: aac (LC) (mp4a / 0x6134706D), 44100 Hz, stereo, fltp, 128 kb/s\n",
      "    Metadata:\n",
      "      encoder         : Lavc58.91.100 aac\n",
      "frame= 1794 fps=112 q=-1.0 Lsize=    2663kB time=00:01:00.00 bitrate= 363.5kbits/s speed=3.75x    \n",
      "video:1663kB audio:944kB subtitle:0kB other streams:0kB global headers:0kB muxing overhead: 2.163911%\n",
      "\u001b[1;36m[libx264 @ 0x555878d325c0] \u001b[0mframe I:8     Avg QP:20.82  size: 10744\n",
      "\u001b[1;36m[libx264 @ 0x555878d325c0] \u001b[0mframe P:1422  Avg QP:24.01  size:  1086\n",
      "\u001b[1;36m[libx264 @ 0x555878d325c0] \u001b[0mframe B:364   Avg QP:30.40  size:   197\n",
      "\u001b[1;36m[libx264 @ 0x555878d325c0] \u001b[0mconsecutive B-frames: 66.8% 15.1% 10.4%  7.8%\n",
      "\u001b[1;36m[libx264 @ 0x555878d325c0] \u001b[0mmb I  I16..4:  1.1% 89.9%  9.0%\n",
      "\u001b[1;36m[libx264 @ 0x555878d325c0] \u001b[0mmb P  I16..4:  0.1%  0.8%  0.0%  P16..4: 32.1% 13.3%  7.7%  0.0%  0.0%    skip:46.0%\n",
      "\u001b[1;36m[libx264 @ 0x555878d325c0] \u001b[0mmb B  I16..4:  0.0%  0.1%  0.0%  B16..8: 27.9%  1.2%  0.2%  direct: 0.3%  skip:70.3%  L0:39.5% L1:56.5% BI: 4.1%\n",
      "\u001b[1;36m[libx264 @ 0x555878d325c0] \u001b[0m8x8 transform intra:88.6% inter:78.9%\n",
      "\u001b[1;36m[libx264 @ 0x555878d325c0] \u001b[0mcoded y,uvDC,uvAC intra: 82.2% 85.1% 42.0% inter: 12.9% 16.1% 0.7%\n",
      "\u001b[1;36m[libx264 @ 0x555878d325c0] \u001b[0mi16 v,h,dc,p: 45% 13% 22% 20%\n",
      "\u001b[1;36m[libx264 @ 0x555878d325c0] \u001b[0mi8 v,h,dc,ddl,ddr,vr,hd,vl,hu: 33% 17% 18%  3%  5%  7%  5%  8%  5%\n",
      "\u001b[1;36m[libx264 @ 0x555878d325c0] \u001b[0mi4 v,h,dc,ddl,ddr,vr,hd,vl,hu: 34% 17% 10%  5%  7%  9%  8%  8%  4%\n",
      "\u001b[1;36m[libx264 @ 0x555878d325c0] \u001b[0mi8c dc,h,v,p: 38% 18% 34% 10%\n",
      "\u001b[1;36m[libx264 @ 0x555878d325c0] \u001b[0mWeighted P-Frames: Y:0.0% UV:0.0%\n",
      "\u001b[1;36m[libx264 @ 0x555878d325c0] \u001b[0mref P L0: 70.6% 17.2%  9.1%  3.1%\n",
      "\u001b[1;36m[libx264 @ 0x555878d325c0] \u001b[0mref B L0: 91.5%  7.5%  1.1%\n",
      "\u001b[1;36m[libx264 @ 0x555878d325c0] \u001b[0mref B L1: 99.1%  0.9%\n",
      "\u001b[1;36m[libx264 @ 0x555878d325c0] \u001b[0mkb/s:227.44\n",
      "\u001b[1;36m[aac @ 0x555878d33000] \u001b[0mQavg: 471.827\n"
     ]
    },
    {
     "name": "stdout",
     "output_type": "stream",
     "text": [
      "\u001b[0m"
     ]
    }
   ],
   "source": [
    "# If there is an error here, no output file will be generated!\n",
    "!python inference.py --checkpoint_path checkpoints/wav2lip.pth --face \"sample_data/video.mp4\" --audio \"sample_data/lessonAudio.mp3\" --resize_factor 2"
   ]
  },
  {
   "cell_type": "code",
   "execution_count": 23,
   "metadata": {},
   "outputs": [
    {
     "name": "stdout",
     "output_type": "stream",
     "text": [
      "DONE\n"
     ]
    }
   ],
   "source": [
    "import os, subprocess\n",
    "\n",
    "# If the video generation failed\n",
    "if not os.path.isfile(\"/results/result_voice.mp4\"):\n",
    "    subprocess.run([\"python\", \"email-aws.py\", \"lesson\"])\n",
    "    print(\"DONE\")"
   ]
  },
  {
   "cell_type": "markdown",
   "metadata": {},
   "source": [
    "### Moviepy Section"
   ]
  },
  {
   "cell_type": "code",
   "execution_count": 10,
   "metadata": {
    "scrolled": true
   },
   "outputs": [
    {
     "name": "stdout",
     "output_type": "stream",
     "text": [
      "1280 720\n",
      "320 180\n"
     ]
    }
   ],
   "source": [
    "from moviepy.editor import *\n",
    "\n",
    "# Merge original video (lessonVid.mp4) with Wav2Lip result video (results/result_voice.mp4)\n",
    "clip1 = VideoFileClip(r'./sample_data/lessonVid.mp4')    # Use ./ instead of /\n",
    "clip2 = VideoFileClip(r'./results/result_voice.mp4')\n",
    "\n",
    "w1,h1 = clip1.size\n",
    "w2,h2 = clip2.size\n",
    "print(w1,h1)\n",
    "\n",
    "desired_w = 0.25 * w1\n",
    "resize_factor = desired_w / w2\n",
    "clip2 = clip2.resize(resize_factor)\n",
    "w_final,h_final = clip2.size\n",
    "print(w_final,h_final)"
   ]
  },
  {
   "cell_type": "code",
   "execution_count": 14,
   "metadata": {
    "scrolled": false
   },
   "outputs": [
    {
     "name": "stdout",
     "output_type": "stream",
     "text": [
      "A very specific bad thing happened.\n"
     ]
    }
   ],
   "source": [
    "composite_clip = CompositeVideoClip([clip1,\n",
    "                                 clip2.set_position((\"right\",\"bottom\"))\n",
    "                                 .set_start(0).crossfadein(1)])\n",
    "\n",
    "# For quick experimentation: Get only the first 30s\n",
    "# final_clip = trial_clip.subclip(t_end=(0,0,30))   \n",
    "\n",
    "# Use a temp audio file if audio is not working\n",
    "# It seems overriding and existing will result in second video not running correctly\n",
    "try:\n",
    "    composite_clip.write_videofile(r'./results/result_lesson.mp4', \n",
    "                         codec='libx264', \n",
    "                         audio_codec='aac', \n",
    "                         temp_audiofile='temp-audio.m4a', \n",
    "                         remove_temp=True\n",
    "                         )\n",
    "except Exception as e:\n",
    "    print(e)\n",
    "# final_clip.write_videofile(r'./results/result_voice.mp4')"
   ]
  },
  {
   "cell_type": "code",
   "execution_count": 15,
   "metadata": {
    "scrolled": true
   },
   "outputs": [
    {
     "name": "stdout",
     "output_type": "stream",
     "text": [
      "cybersecma@gmail.com\n",
      "results/result_lesson.mp4\n",
      "DONE\n"
     ]
    }
   ],
   "source": [
    "!python email-aws.py lesson"
   ]
  },
  {
   "cell_type": "markdown",
   "metadata": {},
   "source": [
    "Now, let's clean up our resources"
   ]
  },
  {
   "cell_type": "code",
   "execution_count": 10,
   "metadata": {
    "scrolled": true
   },
   "outputs": [],
   "source": [
    "# !rm results/result_voice.mp4"
   ]
  },
  {
   "cell_type": "code",
   "execution_count": 11,
   "metadata": {},
   "outputs": [],
   "source": [
    "# !rm results/result_lesson.mp4"
   ]
  },
  {
   "cell_type": "code",
   "execution_count": 12,
   "metadata": {},
   "outputs": [
    {
     "name": "stdout",
     "output_type": "stream",
     "text": [
      "delete: s3://video-wav2lip/video.mp4\r\n"
     ]
    }
   ],
   "source": [
    "!aws s3 rm s3://video-wav2lip/video.mp4 "
   ]
  },
  {
   "cell_type": "code",
   "execution_count": 13,
   "metadata": {},
   "outputs": [
    {
     "name": "stdout",
     "output_type": "stream",
     "text": [
      "delete: s3://video-wav2lip/lessonVid.mp4\r\n"
     ]
    }
   ],
   "source": [
    "!aws s3 rm s3://video-wav2lip/lessonVid.mp4 "
   ]
  }
 ],
 "metadata": {
  "accelerator": "GPU",
  "colab": {
   "collapsed_sections": [],
   "name": "Wav2Lip.ipynb",
   "provenance": [
    {
     "file_id": "1tZpDWXz49W6wDcTprANRGLo2D_EbD5J8",
     "timestamp": 1619967859029
    },
    {
     "file_id": "1NLUwupCBsB1HrpEmOIHeMgU63sus2LxP",
     "timestamp": 1597735440478
    }
   ],
   "toc_visible": true
  },
  "kernelspec": {
   "display_name": "conda_pytorch_p36",
   "language": "python",
   "name": "conda_pytorch_p36"
  },
  "language_info": {
   "codemirror_mode": {
    "name": "ipython",
    "version": 3
   },
   "file_extension": ".py",
   "mimetype": "text/x-python",
   "name": "python",
   "nbconvert_exporter": "python",
   "pygments_lexer": "ipython3",
   "version": "3.6.13"
  }
 },
 "nbformat": 4,
 "nbformat_minor": 1
}
