{
 "cells": [
  {
   "cell_type": "code",
   "execution_count": 1,
   "metadata": {
    "scrolled": true
   },
   "outputs": [
    {
     "name": "stdout",
     "output_type": "stream",
     "text": [
      "Requirement already satisfied: numpy in /home/ec2-user/anaconda3/envs/JupyterSystemEnv/lib/python3.6/site-packages (from -r requirements.txt (line 1)) (1.19.5)\r\n",
      "Requirement already satisfied: opencv-contrib-python in /home/ec2-user/anaconda3/envs/JupyterSystemEnv/lib/python3.6/site-packages (from -r requirements.txt (line 2)) (4.5.3.56)\r\n",
      "Requirement already satisfied: opencv-python-headless in /home/ec2-user/anaconda3/envs/JupyterSystemEnv/lib/python3.6/site-packages (from -r requirements.txt (line 3)) (4.5.3.56)\r\n",
      "Requirement already satisfied: torch in /home/ec2-user/anaconda3/envs/JupyterSystemEnv/lib/python3.6/site-packages (from -r requirements.txt (line 4)) (1.9.0)\r\n",
      "Requirement already satisfied: torchvision in /home/ec2-user/anaconda3/envs/JupyterSystemEnv/lib/python3.6/site-packages (from -r requirements.txt (line 5)) (0.10.0)\r\n",
      "Requirement already satisfied: tqdm in /home/ec2-user/anaconda3/envs/JupyterSystemEnv/lib/python3.6/site-packages (from -r requirements.txt (line 6)) (4.61.2)\r\n",
      "Requirement already satisfied: numba in /home/ec2-user/anaconda3/envs/JupyterSystemEnv/lib/python3.6/site-packages (from -r requirements.txt (line 7)) (0.53.1)\r\n",
      "Requirement already satisfied: scipy in /home/ec2-user/anaconda3/envs/JupyterSystemEnv/lib/python3.6/site-packages (from -r requirements.txt (line 8)) (1.5.4)\r\n",
      "Requirement already satisfied: moviepy in /home/ec2-user/anaconda3/envs/JupyterSystemEnv/lib/python3.6/site-packages (from -r requirements.txt (line 9)) (1.0.3)\r\n",
      "Requirement already satisfied: boto3 in /home/ec2-user/anaconda3/envs/JupyterSystemEnv/lib/python3.6/site-packages (from -r requirements.txt (line 10)) (1.17.99)\r\n",
      "Requirement already satisfied: dataclasses in /home/ec2-user/anaconda3/envs/JupyterSystemEnv/lib/python3.6/site-packages (from torch->-r requirements.txt (line 4)) (0.8)\r\n",
      "Requirement already satisfied: typing-extensions in /home/ec2-user/anaconda3/envs/JupyterSystemEnv/lib/python3.6/site-packages (from torch->-r requirements.txt (line 4)) (3.10.0.0)\r\n",
      "Requirement already satisfied: pillow>=5.3.0 in /home/ec2-user/anaconda3/envs/JupyterSystemEnv/lib/python3.6/site-packages (from torchvision->-r requirements.txt (line 5)) (8.3.1)\r\n",
      "Requirement already satisfied: setuptools in /home/ec2-user/anaconda3/envs/JupyterSystemEnv/lib/python3.6/site-packages (from numba->-r requirements.txt (line 7)) (49.6.0.post20210108)\r\n",
      "Requirement already satisfied: llvmlite<0.37,>=0.36.0rc1 in /home/ec2-user/anaconda3/envs/JupyterSystemEnv/lib/python3.6/site-packages (from numba->-r requirements.txt (line 7)) (0.36.0)\r\n",
      "Requirement already satisfied: requests<3.0,>=2.8.1 in /home/ec2-user/anaconda3/envs/JupyterSystemEnv/lib/python3.6/site-packages (from moviepy->-r requirements.txt (line 9)) (2.26.0)\r\n",
      "Requirement already satisfied: imageio-ffmpeg>=0.2.0 in /home/ec2-user/anaconda3/envs/JupyterSystemEnv/lib/python3.6/site-packages (from moviepy->-r requirements.txt (line 9)) (0.4.4)\r\n",
      "Requirement already satisfied: decorator<5.0,>=4.0.2 in /home/ec2-user/anaconda3/envs/JupyterSystemEnv/lib/python3.6/site-packages (from moviepy->-r requirements.txt (line 9)) (4.4.2)\r\n",
      "Requirement already satisfied: proglog<=1.0.0 in /home/ec2-user/anaconda3/envs/JupyterSystemEnv/lib/python3.6/site-packages (from moviepy->-r requirements.txt (line 9)) (0.1.9)\r\n",
      "Requirement already satisfied: imageio<3.0,>=2.5 in /home/ec2-user/anaconda3/envs/JupyterSystemEnv/lib/python3.6/site-packages (from moviepy->-r requirements.txt (line 9)) (2.9.0)\r\n",
      "Requirement already satisfied: idna<4,>=2.5 in /home/ec2-user/anaconda3/envs/JupyterSystemEnv/lib/python3.6/site-packages (from requests<3.0,>=2.8.1->moviepy->-r requirements.txt (line 9)) (3.1)\r\n",
      "Requirement already satisfied: certifi>=2017.4.17 in /home/ec2-user/anaconda3/envs/JupyterSystemEnv/lib/python3.6/site-packages (from requests<3.0,>=2.8.1->moviepy->-r requirements.txt (line 9)) (2021.5.30)\r\n",
      "Requirement already satisfied: charset-normalizer~=2.0.0 in /home/ec2-user/anaconda3/envs/JupyterSystemEnv/lib/python3.6/site-packages (from requests<3.0,>=2.8.1->moviepy->-r requirements.txt (line 9)) (2.0.0)\r\n",
      "Requirement already satisfied: urllib3<1.27,>=1.21.1 in /home/ec2-user/anaconda3/envs/JupyterSystemEnv/lib/python3.6/site-packages (from requests<3.0,>=2.8.1->moviepy->-r requirements.txt (line 9)) (1.26.5)\r\n",
      "Requirement already satisfied: s3transfer<0.5.0,>=0.4.0 in /home/ec2-user/anaconda3/envs/JupyterSystemEnv/lib/python3.6/site-packages (from boto3->-r requirements.txt (line 10)) (0.4.2)\r\n",
      "Requirement already satisfied: botocore<1.21.0,>=1.20.99 in /home/ec2-user/anaconda3/envs/JupyterSystemEnv/lib/python3.6/site-packages (from boto3->-r requirements.txt (line 10)) (1.20.106)\r\n",
      "Requirement already satisfied: jmespath<1.0.0,>=0.7.1 in /home/ec2-user/anaconda3/envs/JupyterSystemEnv/lib/python3.6/site-packages (from boto3->-r requirements.txt (line 10)) (0.10.0)\r\n",
      "Requirement already satisfied: python-dateutil<3.0.0,>=2.1 in /home/ec2-user/anaconda3/envs/JupyterSystemEnv/lib/python3.6/site-packages (from botocore<1.21.0,>=1.20.99->boto3->-r requirements.txt (line 10)) (2.8.1)\r\n",
      "Requirement already satisfied: six>=1.5 in /home/ec2-user/anaconda3/envs/JupyterSystemEnv/lib/python3.6/site-packages (from python-dateutil<3.0.0,>=2.1->botocore<1.21.0,>=1.20.99->boto3->-r requirements.txt (line 10)) (1.16.0)\r\n"
     ]
    }
   ],
   "source": [
    "!pip install -r requirements.txt"
   ]
  },
  {
   "cell_type": "code",
   "execution_count": 2,
   "metadata": {
    "scrolled": false
   },
   "outputs": [
    {
     "name": "stdout",
     "output_type": "stream",
     "text": [
      "Collecting package metadata (current_repodata.json): - \b\b\\ \b\b| \b\b/ \b\b- \b\b\\ \b\b| \b\b/ \b\b- \b\b\\ \b\b| \b\b/ \b\b- \b\b\\ \b\b| \b\b/ \b\b- \b\b\\ \b\b| \b\b/ \b\b- \b\b\\ \b\b| \b\b/ \b\b- \b\b\\ \b\b| \b\b/ \b\b- \b\b\\ \b\bdone\r\n",
      "Solving environment: / \b\b- \b\b\\ \b\b| \b\b/ \b\b- \b\b\\ \b\b| \b\b/ \b\b- \b\b\\ \b\b| \b\b/ \b\b- \b\b\\ \b\b| \b\b/ \b\b- \b\b\\ \b\b| \b\b/ \b\b- \b\b\\ \b\b| \b\b/ \b\b- \b\b\\ \b\b| \b\b/ \b\b- \b\b\\ \b\b| \b\b/ \b\b- \b\b\\ \b\b| \b\b/ \b\b- \b\b\\ \b\b| \b\b/ \b\b- \b\b\\ \b\b| \b\b/ \b\b- \b\b\\ \b\b| \b\b/ \b\b- \b\b\\ \b\b| \b\b/ \b\b- \b\b\\ \b\b| \b\b/ \b\b- \b\b\\ \b\b| \b\b/ \b\b- \b\b\\ \b\b| \b\b/ \b\b- \b\b\\ \b\b| \b\b/ \b\bdone\r\n",
      "\r\n",
      "\r\n",
      "==> WARNING: A newer version of conda exists. <==\r\n",
      "  current version: 4.8.4\r\n",
      "  latest version: 4.10.3\r\n",
      "\r\n",
      "Please update conda by running\r\n",
      "\r\n",
      "    $ conda update -n base -c defaults conda\r\n",
      "\r\n",
      "\r\n",
      "\r\n",
      "# All requested packages already installed.\r\n",
      "\r\n"
     ]
    }
   ],
   "source": [
    "# Install librosa (seems to come with ffmpeg as well):\n",
    "!conda install -c conda-forge librosa -y"
   ]
  },
  {
   "cell_type": "code",
   "execution_count": 3,
   "metadata": {
    "scrolled": false
   },
   "outputs": [
    {
     "name": "stdout",
     "output_type": "stream",
     "text": [
      "Collecting package metadata (current_repodata.json): - \b\b\\ \b\b| \b\b/ \b\b- \b\b\\ \b\b| \b\b/ \b\b- \b\b\\ \b\b| \b\b/ \b\b- \b\b\\ \b\b| \b\b/ \b\b- \b\b\\ \b\b| \b\b/ \b\b- \b\b\\ \b\b| \b\b/ \b\b- \b\b\\ \b\b| \b\b/ \b\b- \b\bdone\r\n",
      "Solving environment: | \b\b/ \b\b- \b\b\\ \b\b| \b\b/ \b\b- \b\b\\ \b\b| \b\b/ \b\b- \b\b\\ \b\b| \b\b/ \b\b- \b\b\\ \b\b| \b\b/ \b\b- \b\b\\ \b\b| \b\b/ \b\b- \b\b\\ \b\b| \b\b/ \b\b- \b\b\\ \b\b| \b\b/ \b\b- \b\b\\ \b\b| \b\b/ \b\b- \b\b\\ \b\b| \b\b/ \b\b- \b\b\\ \b\b| \b\b/ \b\b- \b\b\\ \b\b| \b\b/ \b\b- \b\b\\ \b\b| \b\b/ \b\b- \b\b\\ \b\b| \b\b/ \b\b- \b\b\\ \b\b| \b\b/ \b\bdone\r\n",
      "\r\n",
      "\r\n",
      "==> WARNING: A newer version of conda exists. <==\r\n",
      "  current version: 4.8.4\r\n",
      "  latest version: 4.10.3\r\n",
      "\r\n",
      "Please update conda by running\r\n",
      "\r\n",
      "    $ conda update -n base -c defaults conda\r\n",
      "\r\n",
      "\r\n",
      "\r\n",
      "# All requested packages already installed.\r\n",
      "\r\n"
     ]
    }
   ],
   "source": [
    "# Install ffmpeg:\n",
    "!conda install -c conda-forge ffmpeg -y"
   ]
  },
  {
   "cell_type": "code",
   "execution_count": 4,
   "metadata": {
    "scrolled": false
   },
   "outputs": [
    {
     "name": "stdout",
     "output_type": "stream",
     "text": [
      "download: s3://video-wav2lip/lessonVid.mp4 to sample_data/lessonVid.mp4\r\n",
      "fatal error: An error occurred (404) when calling the HeadObject operation: Key \"video.mp4\" does not exist\r\n",
      "elon.mp4  image.jpeg  lessonAudio.mp3  lessonVid.mp4  polly.mp3  polly.wav\r\n"
     ]
    }
   ],
   "source": [
    "# Copy files over from S3\n",
    "!aws s3 cp s3://video-wav2lip/lessonVid.mp4 sample_data/"
   ]
  },
  {
   "cell_type": "code",
   "execution_count": null,
   "metadata": {},
   "outputs": [],
   "source": [
    "!aws s3 cp s3://image-wav2lip/image.jpeg sample_data/"
   ]
  },
  {
   "cell_type": "code",
   "execution_count": null,
   "metadata": {},
   "outputs": [],
   "source": [
    "!aws s3 cp s3://video-wav2lip/video.mp4 sample_data/\n",
    "!ls sample_data"
   ]
  },
  {
   "cell_type": "code",
   "execution_count": 5,
   "metadata": {
    "scrolled": true
   },
   "outputs": [
    {
     "name": "stdout",
     "output_type": "stream",
     "text": [
      "ffmpeg version 4.3.1 Copyright (c) 2000-2020 the FFmpeg developers\r\n",
      "  built with gcc 9.3.0 (crosstool-NG 1.24.0.133_b0863d8_dirty)\r\n",
      "  configuration: --prefix=/home/ec2-user/anaconda3/envs/JupyterSystemEnv --cc=/home/conda/feedstock_root/build_artifacts/ffmpeg_1609680890771/_build_env/bin/x86_64-conda-linux-gnu-cc --disable-doc --disable-openssl --enable-avresample --enable-gnutls --enable-gpl --enable-hardcoded-tables --enable-libfreetype --enable-libopenh264 --enable-libx264 --enable-pic --enable-pthreads --enable-shared --enable-static --enable-version3 --enable-zlib --enable-libmp3lame --pkg-config=/home/conda/feedstock_root/build_artifacts/ffmpeg_1609680890771/_build_env/bin/pkg-config\r\n",
      "  libavutil      56. 51.100 / 56. 51.100\r\n",
      "  libavcodec     58. 91.100 / 58. 91.100\r\n",
      "  libavformat    58. 45.100 / 58. 45.100\r\n",
      "  libavdevice    58. 10.100 / 58. 10.100\r\n",
      "  libavfilter     7. 85.100 /  7. 85.100\r\n",
      "  libavresample   4.  0.  0 /  4.  0.  0\r\n",
      "  libswscale      5.  7.100 /  5.  7.100\r\n",
      "  libswresample   3.  7.100 /  3.  7.100\r\n",
      "  libpostproc    55.  7.100 / 55.  7.100\r\n",
      "Input #0, mov,mp4,m4a,3gp,3g2,mj2, from 'sample_data/lessonVid.mp4':\r\n",
      "  Metadata:\r\n",
      "    major_brand     : mp42\r\n",
      "    minor_version   : 1\r\n",
      "    compatible_brands: isommp41mp42\r\n",
      "    creation_time   : 2021-07-07T19:22:15.000000Z\r\n",
      "  Duration: 00:01:00.00, start: 0.000000, bitrate: 490 kb/s\r\n",
      "    Stream #0:0(und): Video: h264 (High) (avc1 / 0x31637661), yuv420p(tv, bt709), 1280x720 [SAR 1:1 DAR 16:9], 358 kb/s, 29.97 fps, 29.97 tbr, 11988 tbn, 59.94 tbc (default)\r\n",
      "    Metadata:\r\n",
      "      creation_time   : 2021-07-07T19:22:15.000000Z\r\n",
      "      handler_name    : Core Media Video\r\n",
      "    Stream #0:1(eng): Audio: aac (LC) (mp4a / 0x6134706D), 44100 Hz, stereo, fltp, 128 kb/s (default)\r\n",
      "    Metadata:\r\n",
      "      creation_time   : 2021-07-07T19:22:15.000000Z\r\n",
      "      handler_name    : Core Media Audio\r\n",
      "Stream mapping:\r\n",
      "  Stream #0:1 -> #0:0 (aac (native) -> mp3 (libmp3lame))\r\n",
      "Press [q] to stop, [?] for help\r\n",
      "Output #0, mp3, to 'sample_data/lessonAudio.mp3':\r\n",
      "  Metadata:\r\n",
      "    major_brand     : mp42\r\n",
      "    minor_version   : 1\r\n",
      "    compatible_brands: isommp41mp42\r\n",
      "    TSSE            : Lavf58.45.100\r\n",
      "    Stream #0:0(eng): Audio: mp3 (libmp3lame), 44100 Hz, stereo, fltp (default)\r\n",
      "    Metadata:\r\n",
      "      creation_time   : 2021-07-07T19:22:15.000000Z\r\n",
      "      handler_name    : Core Media Audio\r\n",
      "      encoder         : Lavc58.91.100 libmp3lame\r\n",
      "size=     938kB time=00:01:00.00 bitrate= 128.1kbits/s speed=54.8x    \r\n",
      "video:0kB audio:938kB subtitle:0kB other streams:0kB global headers:0kB muxing overhead: 0.036440%\r\n"
     ]
    }
   ],
   "source": [
    "# Convert lesson video to audio\n",
    "!ffmpeg -i sample_data/lessonVid.mp4 sample_data/lessonAudio.mp3 -y"
   ]
  },
  {
   "cell_type": "code",
   "execution_count": 6,
   "metadata": {},
   "outputs": [
    {
     "name": "stdout",
     "output_type": "stream",
     "text": [
      "ffmpeg version 4.3.1 Copyright (c) 2000-2020 the FFmpeg developers\r\n",
      "  built with gcc 9.3.0 (crosstool-NG 1.24.0.133_b0863d8_dirty)\r\n",
      "  configuration: --prefix=/home/ec2-user/anaconda3/envs/JupyterSystemEnv --cc=/home/conda/feedstock_root/build_artifacts/ffmpeg_1609680890771/_build_env/bin/x86_64-conda-linux-gnu-cc --disable-doc --disable-openssl --enable-avresample --enable-gnutls --enable-gpl --enable-hardcoded-tables --enable-libfreetype --enable-libopenh264 --enable-libx264 --enable-pic --enable-pthreads --enable-shared --enable-static --enable-version3 --enable-zlib --enable-libmp3lame --pkg-config=/home/conda/feedstock_root/build_artifacts/ffmpeg_1609680890771/_build_env/bin/pkg-config\r\n",
      "  libavutil      56. 51.100 / 56. 51.100\r\n",
      "  libavcodec     58. 91.100 / 58. 91.100\r\n",
      "  libavformat    58. 45.100 / 58. 45.100\r\n",
      "  libavdevice    58. 10.100 / 58. 10.100\r\n",
      "  libavfilter     7. 85.100 /  7. 85.100\r\n",
      "  libavresample   4.  0.  0 /  4.  0.  0\r\n",
      "  libswscale      5.  7.100 /  5.  7.100\r\n",
      "  libswresample   3.  7.100 /  3.  7.100\r\n",
      "  libpostproc    55.  7.100 / 55.  7.100\r\n",
      "Input #0, image2, from 'sample_data/image.jpeg':\r\n",
      "  Duration: 00:00:00.04, start: 0.000000, bitrate: 4408 kb/s\r\n",
      "    Stream #0:0: Video: mjpeg (Baseline), yuvj420p(pc, bt470bg/unknown/unknown), 387x387 [SAR 1:1 DAR 1:1], 25 fps, 25 tbr, 25 tbn, 25 tbc\r\n",
      "Stream mapping:\r\n",
      "  Stream #0:0 -> #0:0 (mjpeg (native) -> h264 (libx264))\r\n",
      "Press [q] to stop, [?] for help\r\n",
      "\u001b[1;34m[swscaler @ 0x5586beb87900] \u001b[0m\u001b[0;33mdeprecated pixel format used, make sure you did set range correctly\r\n",
      "\u001b[0m\u001b[1;36m[libx264 @ 0x5586be7fa800] \u001b[0musing SAR=3/4\r\n",
      "\u001b[1;36m[libx264 @ 0x5586be7fa800] \u001b[0musing cpu capabilities: MMX2 SSE2Fast SSSE3 SSE4.2 AVX FMA3 BMI2 AVX2\r\n",
      "\u001b[1;36m[libx264 @ 0x5586be7fa800] \u001b[0mprofile High, level 1.3, 4:2:0, 8-bit\r\n",
      "\u001b[1;36m[libx264 @ 0x5586be7fa800] \u001b[0m264 - core 161 r3030M 8bd6d28 - H.264/MPEG-4 AVC codec - Copyleft 2003-2020 - http://www.videolan.org/x264.html - options: cabac=1 ref=3 deblock=1:0:0 analyse=0x3:0x113 me=hex subme=7 psy=1 psy_rd=1.00:0.00 mixed_ref=1 me_range=16 chroma_me=1 trellis=1 8x8dct=1 cqm=0 deadzone=21,11 fast_pskip=1 chroma_qp_offset=-2 threads=6 lookahead_threads=1 sliced_threads=0 nr=0 decimate=1 interlaced=0 bluray_compat=0 constrained_intra=0 bframes=3 b_pyramid=2 b_adapt=1 b_bias=0 direct=1 weightb=1 open_gop=0 weightp=2 keyint=250 keyint_min=25 scenecut=40 intra_refresh=0 rc_lookahead=40 rc=crf mbtree=1 crf=23.0 qcomp=0.60 qpmin=0 qpmax=69 qpstep=4 ip_ratio=1.40 aq=1:1.00\r\n",
      "Output #0, mp4, to 'sample_data/video.mp4':\r\n",
      "  Metadata:\r\n",
      "    encoder         : Lavf58.45.100\r\n",
      "    Stream #0:0: Video: h264 (libx264) (avc1 / 0x31637661), yuv420p, 320x240 [SAR 3:4 DAR 1:1], q=-1--1, 25 fps, 12800 tbn, 25 tbc\r\n",
      "    Metadata:\r\n",
      "      encoder         : Lavc58.91.100 libx264\r\n",
      "    Side data:\r\n",
      "      cpb: bitrate max/min/avg: 0/0/0 buffer size: 0 vbv_delay: N/A\r\n",
      "frame=   75 fps=0.0 q=-1.0 Lsize=      14kB time=00:00:02.88 bitrate=  39.2kbits/s speed=20.6x    \r\n",
      "video:12kB audio:0kB subtitle:0kB other streams:0kB global headers:0kB muxing overhead: 14.268342%\r\n",
      "\u001b[1;36m[libx264 @ 0x5586be7fa800] \u001b[0mframe I:1     Avg QP:18.29  size: 10189\r\n",
      "\u001b[1;36m[libx264 @ 0x5586be7fa800] \u001b[0mframe P:19    Avg QP:20.33  size:    35\r\n",
      "\u001b[1;36m[libx264 @ 0x5586be7fa800] \u001b[0mframe B:55    Avg QP:28.35  size:    14\r\n",
      "\u001b[1;36m[libx264 @ 0x5586be7fa800] \u001b[0mconsecutive B-frames:  1.3%  2.7%  0.0% 96.0%\r\n",
      "\u001b[1;36m[libx264 @ 0x5586be7fa800] \u001b[0mmb I  I16..4:  5.7% 65.3% 29.0%\r\n",
      "\u001b[1;36m[libx264 @ 0x5586be7fa800] \u001b[0mmb P  I16..4:  0.0%  0.0%  0.0%  P16..4:  1.5%  0.2%  0.1%  0.0%  0.0%    skip:98.2%\r\n",
      "\u001b[1;36m[libx264 @ 0x5586be7fa800] \u001b[0mmb B  I16..4:  0.0%  0.0%  0.0%  B16..8:  0.2%  0.0%  0.0%  direct: 0.0%  skip:99.8%  L0: 2.9% L1:97.1% BI: 0.0%\r\n",
      "\u001b[1;36m[libx264 @ 0x5586be7fa800] \u001b[0m8x8 transform intra:65.3% inter:100.0%\r\n",
      "\u001b[1;36m[libx264 @ 0x5586be7fa800] \u001b[0mcoded y,uvDC,uvAC intra: 90.2% 94.0% 85.0% inter: 0.0% 0.3% 0.0%\r\n",
      "\u001b[1;36m[libx264 @ 0x5586be7fa800] \u001b[0mi16 v,h,dc,p: 29%  6%  0% 65%\r\n",
      "\u001b[1;36m[libx264 @ 0x5586be7fa800] \u001b[0mi8 v,h,dc,ddl,ddr,vr,hd,vl,hu: 20% 29%  7%  6%  6%  7%  9%  6% 10%\r\n",
      "\u001b[1;36m[libx264 @ 0x5586be7fa800] \u001b[0mi4 v,h,dc,ddl,ddr,vr,hd,vl,hu: 16% 21%  7%  8%  9%  9% 10%  9% 11%\r\n",
      "\u001b[1;36m[libx264 @ 0x5586be7fa800] \u001b[0mi8c dc,h,v,p: 34% 34% 20% 12%\r\n",
      "\u001b[1;36m[libx264 @ 0x5586be7fa800] \u001b[0mWeighted P-Frames: Y:0.0% UV:0.0%\r\n",
      "\u001b[1;36m[libx264 @ 0x5586be7fa800] \u001b[0mref P L0: 92.3%  1.0%  6.7%\r\n",
      "\u001b[1;36m[libx264 @ 0x5586be7fa800] \u001b[0mref B L1: 93.9%  6.1%\r\n",
      "\u001b[1;36m[libx264 @ 0x5586be7fa800] \u001b[0mkb/s:31.05\r\n"
     ]
    }
   ],
   "source": [
    "# Convert image to 3-second video (if there is one)\n",
    "!ffmpeg -loop 1 -i sample_data/image.jpeg -c:v libx264 -t 3 -pix_fmt yuv420p -vf scale=320:240 sample_data/video.mp4 -y"
   ]
  },
  {
   "cell_type": "code",
   "execution_count": 7,
   "metadata": {
    "scrolled": true
   },
   "outputs": [
    {
     "name": "stdout",
     "output_type": "stream",
     "text": [
      "Using cpu for inference.\r\n",
      "Reading video frames...\r\n",
      "Number of frames available for inference: 75\r\n",
      "Extracting raw audio...\r\n",
      "ffmpeg version 4.3.1 Copyright (c) 2000-2020 the FFmpeg developers\r\n",
      "  built with gcc 9.3.0 (crosstool-NG 1.24.0.133_b0863d8_dirty)\r\n",
      "  configuration: --prefix=/home/ec2-user/anaconda3/envs/JupyterSystemEnv --cc=/home/conda/feedstock_root/build_artifacts/ffmpeg_1609680890771/_build_env/bin/x86_64-conda-linux-gnu-cc --disable-doc --disable-openssl --enable-avresample --enable-gnutls --enable-gpl --enable-hardcoded-tables --enable-libfreetype --enable-libopenh264 --enable-libx264 --enable-pic --enable-pthreads --enable-shared --enable-static --enable-version3 --enable-zlib --enable-libmp3lame --pkg-config=/home/conda/feedstock_root/build_artifacts/ffmpeg_1609680890771/_build_env/bin/pkg-config\r\n",
      "  libavutil      56. 51.100 / 56. 51.100\r\n",
      "  libavcodec     58. 91.100 / 58. 91.100\r\n",
      "  libavformat    58. 45.100 / 58. 45.100\r\n",
      "  libavdevice    58. 10.100 / 58. 10.100\r\n",
      "  libavfilter     7. 85.100 /  7. 85.100\r\n",
      "  libavresample   4.  0.  0 /  4.  0.  0\r\n",
      "  libswscale      5.  7.100 /  5.  7.100\r\n",
      "  libswresample   3.  7.100 /  3.  7.100\r\n",
      "  libpostproc    55.  7.100 / 55.  7.100\r\n",
      "Input #0, mp3, from 'sample_data/lessonAudio.mp3':\r\n",
      "  Metadata:\r\n",
      "    major_brand     : mp42\r\n",
      "    minor_version   : 1\r\n",
      "    compatible_brands: isommp41mp42\r\n",
      "    encoder         : Lavf58.45.100\r\n",
      "  Duration: 00:01:00.03, start: 0.025057, bitrate: 128 kb/s\r\n",
      "    Stream #0:0: Audio: mp3, 44100 Hz, stereo, fltp, 128 kb/s\r\n",
      "    Metadata:\r\n",
      "      encoder         : Lavc58.91\r\n",
      "Stream mapping:\r\n",
      "  Stream #0:0 -> #0:0 (mp3 (mp3float) -> pcm_s16le (native))\r\n",
      "Press [q] to stop, [?] for help\r\n",
      "Output #0, wav, to 'temp/temp.wav':\r\n",
      "  Metadata:\r\n",
      "    major_brand     : mp42\r\n",
      "    minor_version   : 1\r\n",
      "    compatible_brands: isommp41mp42\r\n",
      "    ISFT            : Lavf58.45.100\r\n",
      "    Stream #0:0: Audio: pcm_s16le ([1][0][0][0] / 0x0001), 44100 Hz, stereo, s16, 1411 kb/s\r\n",
      "    Metadata:\r\n",
      "      encoder         : Lavc58.91.100 pcm_s16le\r\n",
      "size=   10336kB time=00:01:00.00 bitrate=1411.2kbits/s speed= 588x    \r\n",
      "video:0kB audio:10336kB subtitle:0kB other streams:0kB global headers:0kB muxing overhead: 0.000737%\r\n",
      "(80, 4801)\r\n",
      "Length of mel chunks: 1497\r\n",
      "  0%|                                                    | 0/47 [00:00<?, ?it/s]\r\n",
      "  0%|                                                     | 0/5 [00:00<?, ?it/s]\u001b[A/home/ec2-user/anaconda3/envs/JupyterSystemEnv/lib/python3.6/site-packages/torch/nn/functional.py:718: UserWarning: Named tensors and all their associated APIs are an experimental feature and subject to change. Please do not use them for anything important until they are released as stable. (Triggered internally at  /pytorch/c10/core/TensorImpl.h:1156.)\r\n",
      "  return torch.max_pool2d(input, kernel_size, stride, padding, dilation, ceil_mode)\r\n",
      "\r\n",
      " 20%|█████████                                    | 1/5 [00:01<00:04,  1.15s/it]\u001b[A\r\n",
      " 40%|██████████████████                           | 2/5 [00:02<00:03,  1.13s/it]\u001b[A\r\n",
      " 60%|███████████████████████████                  | 3/5 [00:03<00:02,  1.12s/it]\u001b[A\r\n",
      " 80%|████████████████████████████████████         | 4/5 [00:04<00:01,  1.12s/it]\u001b[A\r\n",
      "100%|█████████████████████████████████████████████| 5/5 [00:05<00:00,  1.05s/it]\r\n",
      "Load checkpoint from: checkpoints/wav2lip.pth\r\n",
      "Model loaded\r\n",
      "100%|███████████████████████████████████████████| 47/47 [01:25<00:00,  1.82s/it]\r\n",
      "ffmpeg version 4.3.1 Copyright (c) 2000-2020 the FFmpeg developers\r\n",
      "  built with gcc 9.3.0 (crosstool-NG 1.24.0.133_b0863d8_dirty)\r\n",
      "  configuration: --prefix=/home/ec2-user/anaconda3/envs/JupyterSystemEnv --cc=/home/conda/feedstock_root/build_artifacts/ffmpeg_1609680890771/_build_env/bin/x86_64-conda-linux-gnu-cc --disable-doc --disable-openssl --enable-avresample --enable-gnutls --enable-gpl --enable-hardcoded-tables --enable-libfreetype --enable-libopenh264 --enable-libx264 --enable-pic --enable-pthreads --enable-shared --enable-static --enable-version3 --enable-zlib --enable-libmp3lame --pkg-config=/home/conda/feedstock_root/build_artifacts/ffmpeg_1609680890771/_build_env/bin/pkg-config\r\n",
      "  libavutil      56. 51.100 / 56. 51.100\r\n",
      "  libavcodec     58. 91.100 / 58. 91.100\r\n",
      "  libavformat    58. 45.100 / 58. 45.100\r\n",
      "  libavdevice    58. 10.100 / 58. 10.100\r\n",
      "  libavfilter     7. 85.100 /  7. 85.100\r\n",
      "  libavresample   4.  0.  0 /  4.  0.  0\r\n",
      "  libswscale      5.  7.100 /  5.  7.100\r\n",
      "  libswresample   3.  7.100 /  3.  7.100\r\n",
      "  libpostproc    55.  7.100 / 55.  7.100\r\n",
      "\u001b[0;33mGuessed Channel Layout for Input Stream #0.0 : stereo\r\n",
      "\u001b[0mInput #0, wav, from 'temp/temp.wav':\r\n",
      "  Metadata:\r\n",
      "    encoder         : Lavf58.45.100\r\n",
      "  Duration: 00:01:00.00, bitrate: 1411 kb/s\r\n",
      "    Stream #0:0: Audio: pcm_s16le ([1][0][0][0] / 0x0001), 44100 Hz, stereo, s16, 1411 kb/s\r\n",
      "Input #1, avi, from 'temp/result.avi':\r\n",
      "  Metadata:\r\n",
      "    encoder         : Lavf58.61.100\r\n",
      "  Duration: 00:00:59.88, start: 0.000000, bitrate: 83 kb/s\r\n",
      "    Stream #1:0: Video: mpeg4 (Simple Profile) (DIVX / 0x58564944), yuv420p, 160x120 [SAR 1:1 DAR 4:3], 78 kb/s, 25 fps, 25 tbr, 25 tbn, 25 tbc\r\n",
      "Stream mapping:\r\n",
      "  Stream #1:0 -> #0:0 (mpeg4 (native) -> h264 (libx264))\r\n",
      "  Stream #0:0 -> #0:1 (pcm_s16le (native) -> aac (native))\r\n",
      "Press [q] to stop, [?] for help\r\n",
      "\u001b[1;36m[libx264 @ 0x5654b78161c0] \u001b[0m\u001b[0;33m-qscale is ignored, -crf is recommended.\r\n",
      "\u001b[0m\u001b[1;36m[libx264 @ 0x5654b78161c0] \u001b[0musing SAR=1/1\r\n",
      "\u001b[1;36m[libx264 @ 0x5654b78161c0] \u001b[0musing cpu capabilities: MMX2 SSE2Fast SSSE3 SSE4.2 AVX FMA3 BMI2 AVX2\r\n",
      "\u001b[1;36m[libx264 @ 0x5654b78161c0] \u001b[0mprofile High, level 1.1, 4:2:0, 8-bit\r\n",
      "\u001b[1;36m[libx264 @ 0x5654b78161c0] \u001b[0m264 - core 161 r3030M 8bd6d28 - H.264/MPEG-4 AVC codec - Copyleft 2003-2020 - http://www.videolan.org/x264.html - options: cabac=1 ref=3 deblock=1:0:0 analyse=0x3:0x113 me=hex subme=7 psy=1 psy_rd=1.00:0.00 mixed_ref=1 me_range=16 chroma_me=1 trellis=1 8x8dct=1 cqm=0 deadzone=21,11 fast_pskip=1 chroma_qp_offset=-2 threads=4 lookahead_threads=1 sliced_threads=0 nr=0 decimate=1 interlaced=0 bluray_compat=0 constrained_intra=0 bframes=3 b_pyramid=2 b_adapt=1 b_bias=0 direct=1 weightb=1 open_gop=0 weightp=2 keyint=250 keyint_min=25 scenecut=40 intra_refresh=0 rc_lookahead=40 rc=crf mbtree=1 crf=23.0 qcomp=0.60 qpmin=0 qpmax=69 qpstep=4 ip_ratio=1.40 aq=1:1.00\r\n",
      "Output #0, mp4, to 'results/result_voice.mp4':\r\n",
      "  Metadata:\r\n",
      "    encoder         : Lavf58.45.100\r\n",
      "    Stream #0:0: Video: h264 (libx264) (avc1 / 0x31637661), yuv420p(progressive), 160x120 [SAR 1:1 DAR 4:3], q=-1--1, 25 fps, 12800 tbn, 25 tbc\r\n",
      "    Metadata:\r\n",
      "      encoder         : Lavc58.91.100 libx264\r\n",
      "    Side data:\r\n",
      "      cpb: bitrate max/min/avg: 0/0/0 buffer size: 0 vbv_delay: N/A\r\n",
      "    Stream #0:1: Audio: aac (LC) (mp4a / 0x6134706D), 44100 Hz, stereo, fltp, 128 kb/s\r\n",
      "    Metadata:\r\n",
      "      encoder         : Lavc58.91.100 aac\r\n",
      "frame= 1497 fps=1292 q=-1.0 Lsize=    1123kB time=00:01:00.00 bitrate= 153.4kbits/s speed=51.8x    \r\n",
      "video:133kB audio:944kB subtitle:0kB other streams:0kB global headers:0kB muxing overhead: 4.319527%\r\n",
      "\u001b[1;36m[libx264 @ 0x5654b78161c0] \u001b[0mframe I:6     Avg QP:18.10  size:  3540\r\n",
      "\u001b[1;36m[libx264 @ 0x5654b78161c0] \u001b[0mframe P:901   Avg QP:21.86  size:   105\r\n",
      "\u001b[1;36m[libx264 @ 0x5654b78161c0] \u001b[0mframe B:590   Avg QP:30.44  size:    34\r\n",
      "\u001b[1;36m[libx264 @ 0x5654b78161c0] \u001b[0mconsecutive B-frames: 40.6% 15.5% 15.0% 28.9%\r\n",
      "\u001b[1;36m[libx264 @ 0x5654b78161c0] \u001b[0mmb I  I16..4:  1.2% 85.4% 13.3%\r\n",
      "\u001b[1;36m[libx264 @ 0x5654b78161c0] \u001b[0mmb P  I16..4:  0.0%  0.1%  0.0%  P16..4:  8.9%  3.7%  2.7%  0.0%  0.0%    skip:84.6%\r\n",
      "\u001b[1;36m[libx264 @ 0x5654b78161c0] \u001b[0mmb B  I16..4:  0.0%  0.0%  0.0%  B16..8:  6.4%  0.9%  0.2%  direct: 0.4%  skip:92.1%  L0:49.2% L1:45.8% BI: 4.9%\r\n",
      "\u001b[1;36m[libx264 @ 0x5654b78161c0] \u001b[0m8x8 transform intra:86.0% inter:77.9%\r\n",
      "\u001b[1;36m[libx264 @ 0x5654b78161c0] \u001b[0mcoded y,uvDC,uvAC intra: 93.2% 95.2% 79.1% inter: 3.9% 4.4% 0.3%\r\n",
      "\u001b[1;36m[libx264 @ 0x5654b78161c0] \u001b[0mi16 v,h,dc,p: 10%  0% 70% 20%\r\n",
      "\u001b[1;36m[libx264 @ 0x5654b78161c0] \u001b[0mi8 v,h,dc,ddl,ddr,vr,hd,vl,hu: 24% 26% 11%  5%  4%  8%  6%  6%  9%\r\n",
      "\u001b[1;36m[libx264 @ 0x5654b78161c0] \u001b[0mi4 v,h,dc,ddl,ddr,vr,hd,vl,hu: 23% 26%  6%  5%  9%  9%  8%  6%  8%\r\n",
      "\u001b[1;36m[libx264 @ 0x5654b78161c0] \u001b[0mi8c dc,h,v,p: 38% 23% 30%  9%\r\n",
      "\u001b[1;36m[libx264 @ 0x5654b78161c0] \u001b[0mWeighted P-Frames: Y:0.0% UV:0.0%\r\n",
      "\u001b[1;36m[libx264 @ 0x5654b78161c0] \u001b[0mref P L0: 66.1% 13.4% 13.3%  7.2%\r\n",
      "\u001b[1;36m[libx264 @ 0x5654b78161c0] \u001b[0mref B L0: 79.6% 15.4%  5.0%\r\n",
      "\u001b[1;36m[libx264 @ 0x5654b78161c0] \u001b[0mref B L1: 96.7%  3.3%\r\n",
      "\u001b[1;36m[libx264 @ 0x5654b78161c0] \u001b[0mkb/s:18.14\r\n",
      "\u001b[1;36m[aac @ 0x5654b7817480] \u001b[0mQavg: 471.827\r\n",
      "\u001b[0m"
     ]
    }
   ],
   "source": [
    "# If there is an error here, no output file will be generated!\n",
    "!python inference.py --checkpoint_path checkpoints/wav2lip.pth --face \"sample_data/video.mp4\" --audio \"sample_data/lessonAudio.mp3\" --resize_factor 2"
   ]
  },
  {
   "cell_type": "code",
   "execution_count": 8,
   "metadata": {},
   "outputs": [],
   "source": [
    "# import os\n",
    "# from email_aws import send_email \n",
    "\n",
    "# # If the video generation failed, call send email\n",
    "# if not os.path.isfile(\"/results/result_voice.mp4\"):\n",
    "#     send_email(error=True)"
   ]
  },
  {
   "cell_type": "markdown",
   "metadata": {},
   "source": [
    "### Moviepy Section"
   ]
  },
  {
   "cell_type": "code",
   "execution_count": 9,
   "metadata": {},
   "outputs": [
    {
     "name": "stdout",
     "output_type": "stream",
     "text": [
      "Moviepy - Building video ./results/result_lesson.mp4.\n",
      "MoviePy - Writing audio in temp-audio.m4a\n"
     ]
    },
    {
     "name": "stderr",
     "output_type": "stream",
     "text": [
      "                                                                               \r"
     ]
    },
    {
     "name": "stdout",
     "output_type": "stream",
     "text": [
      "MoviePy - Done.\n",
      "Moviepy - Writing video ./results/result_lesson.mp4\n",
      "\n"
     ]
    },
    {
     "name": "stderr",
     "output_type": "stream",
     "text": [
      "                                                                               \r"
     ]
    },
    {
     "name": "stdout",
     "output_type": "stream",
     "text": [
      "Moviepy - Done !\n",
      "Moviepy - video ready ./results/result_lesson.mp4\n",
      "EMAIL SENT\n"
     ]
    }
   ],
   "source": [
    "from helpers.moviepy_merge import merge_videos\n",
    "from helpers.email_aws import send_email\n",
    "\n",
    "merged_videos = merge_videos(\"./sample_data/lessonVid.mp4\", \n",
    "                             \"./results/result_voice.mp4\",\n",
    "                             \"./results/result_lesson.mp4\")\n",
    "send_email(is_lesson=True) if merged_videos else send_email(error=True)"
   ]
  },
  {
   "cell_type": "markdown",
   "metadata": {},
   "source": [
    "### Clean Up\n",
    "\n",
    "1. Remove Wav2Lip generated video\n",
    "2. Remove Moviepy merged video\n",
    "3. Remove user video, lessonAudio and email files\n",
    "4. Remove user-uploaded face video from Amazon S3\n",
    "5. Remove user-uploaded lesson video from Amazon S3"
   ]
  },
  {
   "cell_type": "code",
   "execution_count": 10,
   "metadata": {
    "scrolled": true
   },
   "outputs": [],
   "source": [
    "!rm results/result_voice.mp4"
   ]
  },
  {
   "cell_type": "code",
   "execution_count": 11,
   "metadata": {},
   "outputs": [],
   "source": [
    "!rm results/result_lesson.mp4"
   ]
  },
  {
   "cell_type": "code",
   "execution_count": 12,
   "metadata": {},
   "outputs": [
    {
     "name": "stdout",
     "output_type": "stream",
     "text": [
      "rm: cannot remove ‘sample_data/audio.mp3’: No such file or directory\r\n"
     ]
    }
   ],
   "source": [
    "!rm sample_data/video.mp4\n",
    "!rm sample_data/audio.mp3\n",
    "!rm email.txt"
   ]
  },
  {
   "cell_type": "code",
   "execution_count": 13,
   "metadata": {},
   "outputs": [
    {
     "name": "stdout",
     "output_type": "stream",
     "text": [
      "delete: s3://video-wav2lip/video.mp4\r\n"
     ]
    }
   ],
   "source": [
    "!aws s3 rm s3://video-wav2lip/video.mp4 "
   ]
  },
  {
   "cell_type": "code",
   "execution_count": 14,
   "metadata": {
    "scrolled": true
   },
   "outputs": [
    {
     "name": "stdout",
     "output_type": "stream",
     "text": [
      "delete: s3://video-wav2lip/lessonVid.mp4\r\n"
     ]
    }
   ],
   "source": [
    "!aws s3 rm s3://video-wav2lip/lessonVid.mp4 "
   ]
  },
  {
   "cell_type": "code",
   "execution_count": null,
   "metadata": {},
   "outputs": [],
   "source": [
    "!aws s3 rm s3://image-wav2lip/image.jpeg"
   ]
  }
 ],
 "metadata": {
  "accelerator": "GPU",
  "colab": {
   "collapsed_sections": [],
   "name": "Wav2Lip.ipynb",
   "provenance": [
    {
     "file_id": "1tZpDWXz49W6wDcTprANRGLo2D_EbD5J8",
     "timestamp": 1619967859029
    },
    {
     "file_id": "1NLUwupCBsB1HrpEmOIHeMgU63sus2LxP",
     "timestamp": 1597735440478
    }
   ],
   "toc_visible": true
  },
  "kernelspec": {
   "display_name": "conda_python3",
   "language": "python",
   "name": "conda_python3"
  },
  "language_info": {
   "codemirror_mode": {
    "name": "ipython",
    "version": 3
   },
   "file_extension": ".py",
   "mimetype": "text/x-python",
   "name": "python",
   "nbconvert_exporter": "python",
   "pygments_lexer": "ipython3",
   "version": "3.6.13"
  }
 },
 "nbformat": 4,
 "nbformat_minor": 1
}
