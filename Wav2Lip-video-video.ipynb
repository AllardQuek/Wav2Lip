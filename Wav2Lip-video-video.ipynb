{
 "cells": [
  {
   "cell_type": "code",
   "execution_count": 1,
   "metadata": {
    "scrolled": true
   },
   "outputs": [
    {
     "name": "stdout",
     "output_type": "stream",
     "text": [
      "Requirement already satisfied: numpy in /home/ec2-user/anaconda3/envs/JupyterSystemEnv/lib/python3.6/site-packages (from -r requirements.txt (line 1)) (1.19.5)\r\n",
      "Requirement already satisfied: opencv-contrib-python in /home/ec2-user/anaconda3/envs/JupyterSystemEnv/lib/python3.6/site-packages (from -r requirements.txt (line 2)) (4.5.2.54)\r\n",
      "Requirement already satisfied: opencv-python-headless in /home/ec2-user/anaconda3/envs/JupyterSystemEnv/lib/python3.6/site-packages (from -r requirements.txt (line 3)) (4.5.2.54)\r\n",
      "Requirement already satisfied: torch in /home/ec2-user/anaconda3/envs/JupyterSystemEnv/lib/python3.6/site-packages (from -r requirements.txt (line 4)) (1.9.0)\r\n",
      "Requirement already satisfied: torchvision in /home/ec2-user/anaconda3/envs/JupyterSystemEnv/lib/python3.6/site-packages (from -r requirements.txt (line 5)) (0.10.0)\r\n",
      "Requirement already satisfied: tqdm in /home/ec2-user/anaconda3/envs/JupyterSystemEnv/lib/python3.6/site-packages (from -r requirements.txt (line 6)) (4.61.1)\r\n",
      "Requirement already satisfied: numba in /home/ec2-user/anaconda3/envs/JupyterSystemEnv/lib/python3.6/site-packages (from -r requirements.txt (line 7)) (0.53.1)\r\n",
      "Requirement already satisfied: scipy in /home/ec2-user/anaconda3/envs/JupyterSystemEnv/lib/python3.6/site-packages (from -r requirements.txt (line 8)) (1.5.3)\r\n",
      "Requirement already satisfied: moviepy in /home/ec2-user/anaconda3/envs/JupyterSystemEnv/lib/python3.6/site-packages (from -r requirements.txt (line 9)) (1.0.3)\r\n",
      "Requirement already satisfied: dataclasses in /home/ec2-user/anaconda3/envs/JupyterSystemEnv/lib/python3.6/site-packages (from torch->-r requirements.txt (line 4)) (0.8)\r\n",
      "Requirement already satisfied: typing-extensions in /home/ec2-user/anaconda3/envs/JupyterSystemEnv/lib/python3.6/site-packages (from torch->-r requirements.txt (line 4)) (3.7.4.3)\r\n",
      "Requirement already satisfied: pillow>=5.3.0 in /home/ec2-user/anaconda3/envs/JupyterSystemEnv/lib/python3.6/site-packages (from torchvision->-r requirements.txt (line 5)) (8.2.0)\r\n",
      "Requirement already satisfied: llvmlite<0.37,>=0.36.0rc1 in /home/ec2-user/anaconda3/envs/JupyterSystemEnv/lib/python3.6/site-packages (from numba->-r requirements.txt (line 7)) (0.36.0)\r\n",
      "Requirement already satisfied: setuptools in /home/ec2-user/anaconda3/envs/JupyterSystemEnv/lib/python3.6/site-packages (from numba->-r requirements.txt (line 7)) (49.6.0.post20210108)\r\n",
      "Requirement already satisfied: imageio<3.0,>=2.5 in /home/ec2-user/anaconda3/envs/JupyterSystemEnv/lib/python3.6/site-packages (from moviepy->-r requirements.txt (line 9)) (2.9.0)\r\n",
      "Requirement already satisfied: imageio-ffmpeg>=0.2.0 in /home/ec2-user/anaconda3/envs/JupyterSystemEnv/lib/python3.6/site-packages (from moviepy->-r requirements.txt (line 9)) (0.4.4)\r\n",
      "Requirement already satisfied: requests<3.0,>=2.8.1 in /home/ec2-user/anaconda3/envs/JupyterSystemEnv/lib/python3.6/site-packages (from moviepy->-r requirements.txt (line 9)) (2.25.1)\r\n",
      "Requirement already satisfied: decorator<5.0,>=4.0.2 in /home/ec2-user/anaconda3/envs/JupyterSystemEnv/lib/python3.6/site-packages (from moviepy->-r requirements.txt (line 9)) (4.4.2)\r\n",
      "Requirement already satisfied: proglog<=1.0.0 in /home/ec2-user/anaconda3/envs/JupyterSystemEnv/lib/python3.6/site-packages (from moviepy->-r requirements.txt (line 9)) (0.1.9)\r\n",
      "Requirement already satisfied: chardet<5,>=3.0.2 in /home/ec2-user/anaconda3/envs/JupyterSystemEnv/lib/python3.6/site-packages (from requests<3.0,>=2.8.1->moviepy->-r requirements.txt (line 9)) (4.0.0)\r\n",
      "Requirement already satisfied: idna<3,>=2.5 in /home/ec2-user/anaconda3/envs/JupyterSystemEnv/lib/python3.6/site-packages (from requests<3.0,>=2.8.1->moviepy->-r requirements.txt (line 9)) (2.10)\r\n",
      "Requirement already satisfied: urllib3<1.27,>=1.21.1 in /home/ec2-user/anaconda3/envs/JupyterSystemEnv/lib/python3.6/site-packages (from requests<3.0,>=2.8.1->moviepy->-r requirements.txt (line 9)) (1.26.4)\r\n",
      "Requirement already satisfied: certifi>=2017.4.17 in /home/ec2-user/anaconda3/envs/JupyterSystemEnv/lib/python3.6/site-packages (from requests<3.0,>=2.8.1->moviepy->-r requirements.txt (line 9)) (2021.5.30)\r\n"
     ]
    }
   ],
   "source": [
    "!pip install -r requirements.txt"
   ]
  },
  {
   "cell_type": "code",
   "execution_count": 2,
   "metadata": {
    "scrolled": false
   },
   "outputs": [
    {
     "name": "stdout",
     "output_type": "stream",
     "text": [
      "Collecting package metadata (current_repodata.json): - \b\b\\ \b\b| \b\b/ \b\b- \b\b\\ \b\b| \b\b/ \b\b- \b\b\\ \b\b| \b\b/ \b\b- \b\b\\ \b\b| \b\b/ \b\b- \b\b\\ \b\b| \b\b/ \b\b- \b\b\\ \b\b| \b\b/ \b\b- \b\b\\ \b\b| \b\bdone\r\n",
      "Solving environment: - \b\b\\ \b\b| \b\b/ \b\b- \b\b\\ \b\b| \b\b/ \b\b- \b\b\\ \b\b| \b\b/ \b\b- \b\b\\ \b\b| \b\b/ \b\b- \b\b\\ \b\b| \b\b/ \b\b- \b\b\\ \b\b| \b\b/ \b\b- \b\b\\ \b\b| \b\b/ \b\b- \b\b\\ \b\b| \b\b/ \b\b- \b\b\\ \b\b| \b\b/ \b\b- \b\b\\ \b\b| \b\b/ \b\b- \b\b\\ \b\b| \b\b/ \b\b- \b\b\\ \b\b| \b\b/ \b\b- \b\b\\ \b\b| \b\b/ \b\b- \b\b\\ \b\b| \b\b/ \b\b- \b\b\\ \b\b| \b\b/ \b\b- \b\b\\ \b\b| \b\b/ \b\bdone\r\n",
      "\r\n",
      "\r\n",
      "==> WARNING: A newer version of conda exists. <==\r\n",
      "  current version: 4.8.4\r\n",
      "  latest version: 4.10.1\r\n",
      "\r\n",
      "Please update conda by running\r\n",
      "\r\n",
      "    $ conda update -n base -c defaults conda\r\n",
      "\r\n",
      "\r\n",
      "\r\n",
      "# All requested packages already installed.\r\n",
      "\r\n"
     ]
    }
   ],
   "source": [
    "# Install librosa (seems to come with ffmpeg as well):\n",
    "!conda install -c conda-forge librosa -y"
   ]
  },
  {
   "cell_type": "code",
   "execution_count": 3,
   "metadata": {
    "scrolled": false
   },
   "outputs": [],
   "source": [
    "# Install ffmpeg:\n",
    "# !conda install -c conda-forge ffmpeg -y"
   ]
  },
  {
   "cell_type": "code",
   "execution_count": 4,
   "metadata": {},
   "outputs": [
    {
     "name": "stdout",
     "output_type": "stream",
     "text": [
      "fatal error: An error occurred (404) when calling the HeadObject operation: Key \"lessonVid.mp4\" does not exist\r\n",
      "download: s3://video-wav2lip/video.mp4 to sample_data/video.mp4   \r\n",
      "audio.mp3  image.jpeg\t    lessonVid.mp4  polly.wav\r\n",
      "elon.mp4   lessonAudio.mp3  polly.mp3\t   video.mp4\r\n"
     ]
    }
   ],
   "source": [
    "# Copy files over from S3\n",
    "!aws s3 cp s3://video-wav2lip/lessonVid.mp4 sample_data/\n",
    "!aws s3 cp s3://video-wav2lip/video.mp4 sample_data/\n",
    "!ls sample_data"
   ]
  },
  {
   "cell_type": "code",
   "execution_count": 5,
   "metadata": {
    "scrolled": true
   },
   "outputs": [
    {
     "name": "stdout",
     "output_type": "stream",
     "text": [
      "ffmpeg version 4.3.1 Copyright (c) 2000-2020 the FFmpeg developers\r\n",
      "  built with gcc 9.3.0 (crosstool-NG 1.24.0.133_b0863d8_dirty)\r\n",
      "  configuration: --prefix=/home/ec2-user/anaconda3/envs/JupyterSystemEnv --cc=/home/conda/feedstock_root/build_artifacts/ffmpeg_1609680890771/_build_env/bin/x86_64-conda-linux-gnu-cc --disable-doc --disable-openssl --enable-avresample --enable-gnutls --enable-gpl --enable-hardcoded-tables --enable-libfreetype --enable-libopenh264 --enable-libx264 --enable-pic --enable-pthreads --enable-shared --enable-static --enable-version3 --enable-zlib --enable-libmp3lame --pkg-config=/home/conda/feedstock_root/build_artifacts/ffmpeg_1609680890771/_build_env/bin/pkg-config\r\n",
      "  libavutil      56. 51.100 / 56. 51.100\r\n",
      "  libavcodec     58. 91.100 / 58. 91.100\r\n",
      "  libavformat    58. 45.100 / 58. 45.100\r\n",
      "  libavdevice    58. 10.100 / 58. 10.100\r\n",
      "  libavfilter     7. 85.100 /  7. 85.100\r\n",
      "  libavresample   4.  0.  0 /  4.  0.  0\r\n",
      "  libswscale      5.  7.100 /  5.  7.100\r\n",
      "  libswresample   3.  7.100 /  3.  7.100\r\n",
      "  libpostproc    55.  7.100 / 55.  7.100\r\n",
      "Input #0, mov,mp4,m4a,3gp,3g2,mj2, from 'sample_data/lessonVid.mp4':\r\n",
      "  Metadata:\r\n",
      "    major_brand     : mp42\r\n",
      "    minor_version   : 0\r\n",
      "    compatible_brands: isommp42\r\n",
      "    creation_time   : 2021-06-09T10:10:25.000000Z\r\n",
      "  Duration: 00:03:34.90, start: 0.000000, bitrate: 400 kb/s\r\n",
      "    Stream #0:0(und): Video: h264 (High) (avc1 / 0x31637661), yuv420p(tv, bt709), 1280x720 [SAR 1:1 DAR 16:9], 265 kb/s, 29.97 fps, 29.97 tbr, 11988 tbn, 59.94 tbc (default)\r\n",
      "    Metadata:\r\n",
      "      creation_time   : 2021-06-09T10:10:25.000000Z\r\n",
      "      handler_name    : ISO Media file produced by Google Inc. Created on: 06/09/2021.\r\n",
      "    Stream #0:1(eng): Audio: aac (LC) (mp4a / 0x6134706D), 44100 Hz, stereo, fltp, 128 kb/s (default)\r\n",
      "    Metadata:\r\n",
      "      creation_time   : 2021-06-09T10:10:25.000000Z\r\n",
      "      handler_name    : ISO Media file produced by Google Inc. Created on: 06/09/2021.\r\n",
      "Stream mapping:\r\n",
      "  Stream #0:1 -> #0:0 (aac (native) -> mp3 (libmp3lame))\r\n",
      "Press [q] to stop, [?] for help\r\n",
      "Output #0, mp3, to 'sample_data/lessonAudio.mp3':\r\n",
      "  Metadata:\r\n",
      "    major_brand     : mp42\r\n",
      "    minor_version   : 0\r\n",
      "    compatible_brands: isommp42\r\n",
      "    TSSE            : Lavf58.45.100\r\n",
      "    Stream #0:0(eng): Audio: mp3 (libmp3lame), 44100 Hz, stereo, fltp (default)\r\n",
      "    Metadata:\r\n",
      "      creation_time   : 2021-06-09T10:10:25.000000Z\r\n",
      "      handler_name    : ISO Media file produced by Google Inc. Created on: 06/09/2021.\r\n",
      "      encoder         : Lavc58.91.100 libmp3lame\r\n",
      "size=    3359kB time=00:03:34.91 bitrate= 128.0kbits/s speed=53.2x    \r\n",
      "video:0kB audio:3358kB subtitle:0kB other streams:0kB global headers:0kB muxing overhead: 0.010061%\r\n"
     ]
    }
   ],
   "source": [
    "# Convert lesson video to audio\n",
    "!ffmpeg -i sample_data/lessonVid.mp4 sample_data/lessonAudio.mp3 -y"
   ]
  },
  {
   "cell_type": "code",
   "execution_count": 6,
   "metadata": {
    "scrolled": true
   },
   "outputs": [
    {
     "name": "stdout",
     "output_type": "stream",
     "text": [
      "Using cpu for inference.\r\n",
      "Reading video frames...\r\n",
      "Number of frames available for inference: 449\r\n",
      "Extracting raw audio...\r\n",
      "ffmpeg version 4.3.1 Copyright (c) 2000-2020 the FFmpeg developers\r\n",
      "  built with gcc 9.3.0 (crosstool-NG 1.24.0.133_b0863d8_dirty)\r\n",
      "  configuration: --prefix=/home/ec2-user/anaconda3/envs/JupyterSystemEnv --cc=/home/conda/feedstock_root/build_artifacts/ffmpeg_1609680890771/_build_env/bin/x86_64-conda-linux-gnu-cc --disable-doc --disable-openssl --enable-avresample --enable-gnutls --enable-gpl --enable-hardcoded-tables --enable-libfreetype --enable-libopenh264 --enable-libx264 --enable-pic --enable-pthreads --enable-shared --enable-static --enable-version3 --enable-zlib --enable-libmp3lame --pkg-config=/home/conda/feedstock_root/build_artifacts/ffmpeg_1609680890771/_build_env/bin/pkg-config\r\n",
      "  libavutil      56. 51.100 / 56. 51.100\r\n",
      "  libavcodec     58. 91.100 / 58. 91.100\r\n",
      "  libavformat    58. 45.100 / 58. 45.100\r\n",
      "  libavdevice    58. 10.100 / 58. 10.100\r\n",
      "  libavfilter     7. 85.100 /  7. 85.100\r\n",
      "  libavresample   4.  0.  0 /  4.  0.  0\r\n",
      "  libswscale      5.  7.100 /  5.  7.100\r\n",
      "  libswresample   3.  7.100 /  3.  7.100\r\n",
      "  libpostproc    55.  7.100 / 55.  7.100\r\n",
      "Input #0, mp3, from 'sample_data/lessonAudio.mp3':\r\n",
      "  Metadata:\r\n",
      "    major_brand     : mp42\r\n",
      "    minor_version   : 0\r\n",
      "    compatible_brands: isommp42\r\n",
      "    encoder         : Lavf58.45.100\r\n",
      "  Duration: 00:03:34.94, start: 0.025057, bitrate: 128 kb/s\r\n",
      "    Stream #0:0: Audio: mp3, 44100 Hz, stereo, fltp, 128 kb/s\r\n",
      "    Metadata:\r\n",
      "      encoder         : Lavc58.91\r\n",
      "Stream mapping:\r\n",
      "  Stream #0:0 -> #0:0 (mp3 (mp3float) -> pcm_s16le (native))\r\n",
      "Press [q] to stop, [?] for help\r\n",
      "Output #0, wav, to 'temp/temp.wav':\r\n",
      "  Metadata:\r\n",
      "    major_brand     : mp42\r\n",
      "    minor_version   : 0\r\n",
      "    compatible_brands: isommp42\r\n",
      "    ISFT            : Lavf58.45.100\r\n",
      "    Stream #0:0: Audio: pcm_s16le ([1][0][0][0] / 0x0001), 44100 Hz, stereo, s16, 1411 kb/s\r\n",
      "    Metadata:\r\n",
      "      encoder         : Lavc58.91.100 pcm_s16le\r\n",
      "size=   37020kB time=00:03:34.90 bitrate=1411.2kbits/s speed= 602x    \r\n",
      "video:0kB audio:37020kB subtitle:0kB other streams:0kB global headers:0kB muxing overhead: 0.000206%\r\n",
      "(80, 17193)\r\n",
      "Length of mel chunks: 5362\r\n",
      "  0%|                                                   | 0/168 [00:00<?, ?it/s]\r\n",
      "  0%|                                                    | 0/29 [00:00<?, ?it/s]\u001b[A/home/ec2-user/anaconda3/envs/JupyterSystemEnv/lib/python3.6/site-packages/torch/nn/functional.py:718: UserWarning: Named tensors and all their associated APIs are an experimental feature and subject to change. Please do not use them for anything important until they are released as stable. (Triggered internally at  /pytorch/c10/core/TensorImpl.h:1156.)\r\n",
      "  return torch.max_pool2d(input, kernel_size, stride, padding, dilation, ceil_mode)\r\n",
      "\r\n",
      "  3%|█▌                                          | 1/29 [00:05<02:42,  5.82s/it]\u001b[A\r\n",
      "  7%|███                                         | 2/29 [00:12<02:48,  6.25s/it]\u001b[A\r\n",
      " 10%|████▌                                       | 3/29 [00:18<02:38,  6.09s/it]\u001b[A\r\n",
      " 14%|██████                                      | 4/29 [00:23<02:28,  5.93s/it]\u001b[A\r\n",
      " 17%|███████▌                                    | 5/29 [00:29<02:20,  5.84s/it]\u001b[A\r\n",
      " 21%|█████████                                   | 6/29 [00:35<02:12,  5.78s/it]\u001b[A\r\n",
      " 24%|██████████▌                                 | 7/29 [00:40<02:06,  5.74s/it]\u001b[A\r\n",
      " 28%|████████████▏                               | 8/29 [00:46<02:00,  5.72s/it]\u001b[A\r\n",
      " 31%|█████████████▋                              | 9/29 [00:52<01:54,  5.71s/it]\u001b[A\r\n",
      " 34%|██████████████▊                            | 10/29 [00:58<01:48,  5.71s/it]\u001b[A\r\n",
      " 38%|████████████████▎                          | 11/29 [01:03<01:43,  5.73s/it]\u001b[A\r\n",
      " 41%|█████████████████▊                         | 12/29 [01:09<01:37,  5.73s/it]\u001b[A\r\n",
      " 45%|███████████████████▎                       | 13/29 [01:15<01:31,  5.73s/it]\u001b[A\r\n",
      " 48%|████████████████████▊                      | 14/29 [01:21<01:28,  5.91s/it]\u001b[A\r\n",
      " 52%|██████████████████████▏                    | 15/29 [01:34<01:53,  8.08s/it]\u001b[A\r\n",
      " 55%|███████████████████████▋                   | 16/29 [02:00<02:52, 13.27s/it]\u001b[A\r\n",
      " 59%|█████████████████████████▏                 | 17/29 [02:25<03:23, 16.94s/it]\u001b[A\r\n",
      " 62%|██████████████████████████▋                | 18/29 [02:50<03:34, 19.47s/it]\u001b[A\r\n",
      " 66%|████████████████████████████▏              | 19/29 [03:19<03:42, 22.26s/it]\u001b[A\r\n",
      " 69%|█████████████████████████████▋             | 20/29 [03:45<03:30, 23.39s/it]\u001b[A\r\n",
      " 72%|███████████████████████████████▏           | 21/29 [04:11<03:11, 23.99s/it]\u001b[A\r\n",
      " 76%|████████████████████████████████▌          | 22/29 [04:36<02:50, 24.41s/it]\u001b[A\r\n",
      " 79%|██████████████████████████████████         | 23/29 [05:01<02:28, 24.71s/it]\u001b[A\r\n",
      " 83%|███████████████████████████████████▌       | 24/29 [05:09<01:37, 19.54s/it]\u001b[A\r\n",
      " 86%|█████████████████████████████████████      | 25/29 [05:14<01:01, 15.38s/it]\u001b[A\r\n",
      " 90%|██████████████████████████████████████▌    | 26/29 [05:20<00:37, 12.47s/it]\u001b[A\r\n",
      " 93%|████████████████████████████████████████   | 27/29 [05:26<00:20, 10.44s/it]\u001b[A\r\n",
      " 97%|█████████████████████████████████████████▌ | 28/29 [05:32<00:09,  9.01s/it]\u001b[A\r\n",
      "100%|███████████████████████████████████████████| 29/29 [05:32<00:00, 11.46s/it]\r\n",
      "Load checkpoint from: checkpoints/wav2lip.pth\r\n",
      "Model loaded\r\n",
      "100%|█████████████████████████████████████████| 168/168 [21:28<00:00,  7.67s/it]\r\n",
      "ffmpeg version 4.3.1 Copyright (c) 2000-2020 the FFmpeg developers\r\n",
      "  built with gcc 9.3.0 (crosstool-NG 1.24.0.133_b0863d8_dirty)\r\n",
      "  configuration: --prefix=/home/ec2-user/anaconda3/envs/JupyterSystemEnv --cc=/home/conda/feedstock_root/build_artifacts/ffmpeg_1609680890771/_build_env/bin/x86_64-conda-linux-gnu-cc --disable-doc --disable-openssl --enable-avresample --enable-gnutls --enable-gpl --enable-hardcoded-tables --enable-libfreetype --enable-libopenh264 --enable-libx264 --enable-pic --enable-pthreads --enable-shared --enable-static --enable-version3 --enable-zlib --enable-libmp3lame --pkg-config=/home/conda/feedstock_root/build_artifacts/ffmpeg_1609680890771/_build_env/bin/pkg-config\r\n",
      "  libavutil      56. 51.100 / 56. 51.100\r\n",
      "  libavcodec     58. 91.100 / 58. 91.100\r\n",
      "  libavformat    58. 45.100 / 58. 45.100\r\n",
      "  libavdevice    58. 10.100 / 58. 10.100\r\n",
      "  libavfilter     7. 85.100 /  7. 85.100\r\n",
      "  libavresample   4.  0.  0 /  4.  0.  0\r\n",
      "  libswscale      5.  7.100 /  5.  7.100\r\n",
      "  libswresample   3.  7.100 /  3.  7.100\r\n",
      "  libpostproc    55.  7.100 / 55.  7.100\r\n",
      "\u001b[0;33mGuessed Channel Layout for Input Stream #0.0 : stereo\r\n",
      "\u001b[0mInput #0, wav, from 'temp/temp.wav':\r\n",
      "  Metadata:\r\n",
      "    encoder         : Lavf58.45.100\r\n",
      "  Duration: 00:03:34.90, bitrate: 1411 kb/s\r\n",
      "    Stream #0:0: Audio: pcm_s16le ([1][0][0][0] / 0x0001), 44100 Hz, stereo, s16, 1411 kb/s\r\n",
      "Input #1, avi, from 'temp/result.avi':\r\n",
      "  Metadata:\r\n",
      "    encoder         : Lavf58.61.100\r\n",
      "  Duration: 00:03:34.77, start: 0.000000, bitrate: 270 kb/s\r\n",
      "    Stream #1:0: Video: mpeg4 (Simple Profile) (DIVX / 0x58564944), yuv420p, 426x240 [SAR 1:1 DAR 71:40], 265 kb/s, 24.97 fps, 25 tbr, 24.97 tbn, 12483 tbc\r\n",
      "Stream mapping:\r\n",
      "  Stream #1:0 -> #0:0 (mpeg4 (native) -> h264 (libx264))\r\n",
      "  Stream #0:0 -> #0:1 (pcm_s16le (native) -> aac (native))\r\n",
      "Press [q] to stop, [?] for help\r\n",
      "\u001b[1;36m[libx264 @ 0x561da369b000] \u001b[0m\u001b[0;33m-qscale is ignored, -crf is recommended.\r\n",
      "\u001b[0m\u001b[1;36m[libx264 @ 0x561da369b000] \u001b[0musing SAR=1/1\r\n",
      "\u001b[1;36m[libx264 @ 0x561da369b000] \u001b[0musing cpu capabilities: MMX2 SSE2Fast SSSE3 SSE4.2 AVX FMA3 BMI2 AVX2\r\n",
      "\u001b[1;36m[libx264 @ 0x561da369b000] \u001b[0mprofile High, level 2.1, 4:2:0, 8-bit\r\n",
      "\u001b[1;36m[libx264 @ 0x561da369b000] \u001b[0m264 - core 161 r3030M 8bd6d28 - H.264/MPEG-4 AVC codec - Copyleft 2003-2020 - http://www.videolan.org/x264.html - options: cabac=1 ref=3 deblock=1:0:0 analyse=0x3:0x113 me=hex subme=7 psy=1 psy_rd=1.00:0.00 mixed_ref=1 me_range=16 chroma_me=1 trellis=1 8x8dct=1 cqm=0 deadzone=21,11 fast_pskip=1 chroma_qp_offset=-2 threads=6 lookahead_threads=1 sliced_threads=0 nr=0 decimate=1 interlaced=0 bluray_compat=0 constrained_intra=0 bframes=3 b_pyramid=2 b_adapt=1 b_bias=0 direct=1 weightb=1 open_gop=0 weightp=2 keyint=250 keyint_min=25 scenecut=40 intra_refresh=0 rc_lookahead=40 rc=crf mbtree=1 crf=23.0 qcomp=0.60 qpmin=0 qpmax=69 qpstep=4 ip_ratio=1.40 aq=1:1.00\r\n",
      "Output #0, mp4, to 'results/result_voice.mp4':\r\n",
      "  Metadata:\r\n",
      "    encoder         : Lavf58.45.100\r\n",
      "    Stream #0:0: Video: h264 (libx264) (avc1 / 0x31637661), yuv420p(progressive), 426x240 [SAR 1:1 DAR 71:40], q=-1--1, 25 fps, 12800 tbn, 25 tbc\r\n",
      "    Metadata:\r\n",
      "      encoder         : Lavc58.91.100 libx264\r\n",
      "    Side data:\r\n",
      "      cpb: bitrate max/min/avg: 0/0/0 buffer size: 0 vbv_delay: N/A\r\n",
      "    Stream #0:1: Audio: aac (LC) (mp4a / 0x6134706D), 44100 Hz, stereo, fltp, 128 kb/s\r\n",
      "    Metadata:\r\n",
      "      encoder         : Lavc58.91.100 aac\r\n",
      "frame= 5369 fps=147 q=-1.0 Lsize=    6404kB time=00:03:34.90 bitrate= 244.1kbits/s dup=7 drop=0 speed=5.89x    \r\n",
      "video:2869kB audio:3372kB subtitle:0kB other streams:0kB global headers:0kB muxing overhead: 2.617402%\r\n",
      "\u001b[1;36m[libx264 @ 0x561da369b000] \u001b[0mframe I:22    Avg QP:16.86  size:  7814\r\n",
      "\u001b[1;36m[libx264 @ 0x561da369b000] \u001b[0mframe P:3275  Avg QP:21.65  size:   736\r\n",
      "\u001b[1;36m[libx264 @ 0x561da369b000] \u001b[0mframe B:2072  Avg QP:24.34  size:   171\r\n",
      "\u001b[1;36m[libx264 @ 0x561da369b000] \u001b[0mconsecutive B-frames: 40.6% 20.3% 10.7% 28.4%\r\n",
      "\u001b[1;36m[libx264 @ 0x561da369b000] \u001b[0mmb I  I16..4:  9.9% 77.2% 12.9%\r\n",
      "\u001b[1;36m[libx264 @ 0x561da369b000] \u001b[0mmb P  I16..4:  0.5%  2.7%  0.0%  P16..4: 19.7%  8.1%  4.8%  0.0%  0.0%    skip:64.1%\r\n",
      "\u001b[1;36m[libx264 @ 0x561da369b000] \u001b[0mmb B  I16..4:  0.2%  0.9%  0.0%  B16..8: 21.7%  1.2%  0.1%  direct: 0.2%  skip:75.7%  L0:46.0% L1:50.6% BI: 3.4%\r\n",
      "\u001b[1;36m[libx264 @ 0x561da369b000] \u001b[0m8x8 transform intra:81.7% inter:75.2%\r\n",
      "\u001b[1;36m[libx264 @ 0x561da369b000] \u001b[0mcoded y,uvDC,uvAC intra: 41.4% 34.7% 8.8% inter: 5.3% 5.8% 0.1%\r\n",
      "\u001b[1;36m[libx264 @ 0x561da369b000] \u001b[0mi16 v,h,dc,p: 29% 29% 34%  8%\r\n",
      "\u001b[1;36m[libx264 @ 0x561da369b000] \u001b[0mi8 v,h,dc,ddl,ddr,vr,hd,vl,hu: 23% 19% 48%  1%  1%  1%  2%  2%  2%\r\n",
      "\u001b[1;36m[libx264 @ 0x561da369b000] \u001b[0mi4 v,h,dc,ddl,ddr,vr,hd,vl,hu: 39% 19% 14%  4%  6%  6%  5%  5%  3%\r\n",
      "\u001b[1;36m[libx264 @ 0x561da369b000] \u001b[0mi8c dc,h,v,p: 53% 18% 26%  3%\r\n",
      "\u001b[1;36m[libx264 @ 0x561da369b000] \u001b[0mWeighted P-Frames: Y:0.0% UV:0.0%\r\n",
      "\u001b[1;36m[libx264 @ 0x561da369b000] \u001b[0mref P L0: 71.6% 11.4% 12.2%  4.9%\r\n",
      "\u001b[1;36m[libx264 @ 0x561da369b000] \u001b[0mref B L0: 83.0% 13.7%  3.2%\r\n",
      "\u001b[1;36m[libx264 @ 0x561da369b000] \u001b[0mref B L1: 97.7%  2.3%\r\n",
      "\u001b[1;36m[libx264 @ 0x561da369b000] \u001b[0mkb/s:109.40\r\n",
      "\u001b[1;36m[aac @ 0x561da3697240] \u001b[0mQavg: 246.720\r\n",
      "\u001b[0m"
     ]
    }
   ],
   "source": [
    "!python inference.py --checkpoint_path checkpoints/wav2lip.pth --face \"sample_data/video.mp4\" --audio \"sample_data/lessonAudio.mp3\" --resize_factor 2"
   ]
  },
  {
   "cell_type": "code",
   "execution_count": 7,
   "metadata": {
    "scrolled": true
   },
   "outputs": [
    {
     "name": "stdout",
     "output_type": "stream",
     "text": [
      "1280 720\n",
      "320 180\n"
     ]
    }
   ],
   "source": [
    "from moviepy.editor import *\n",
    "\n",
    "# Merge original video (lessonVid.mp4) with Wav2Lip result video (results/result_voice.mp4)\n",
    "clip1 = VideoFileClip(r'./sample_data/lessonVid.mp4')    # Use ./ instead of /\n",
    "clip2 = VideoFileClip(r'./results/result_voice.mp4')\n",
    "\n",
    "w1,h1 = clip1.size\n",
    "w2,h2 = clip2.size\n",
    "print(w1,h1)\n",
    "\n",
    "desired_w = 0.25 * w1\n",
    "resize_factor = desired_w / w2\n",
    "clip2 = clip2.resize(resize_factor)\n",
    "w_final,h_final = clip2.size\n",
    "print(w_final,h_final)"
   ]
  },
  {
   "cell_type": "code",
   "execution_count": 8,
   "metadata": {
    "scrolled": false
   },
   "outputs": [
    {
     "name": "stderr",
     "output_type": "stream",
     "text": [
      "chunk:   1%|▊                                                                | 55/4739 [00:00<00:08, 546.80it/s, now=None]"
     ]
    },
    {
     "name": "stdout",
     "output_type": "stream",
     "text": [
      "Moviepy - Building video ./results/result_lesson.mp4.\n",
      "MoviePy - Writing audio in temp-audio.m4a\n"
     ]
    },
    {
     "name": "stderr",
     "output_type": "stream",
     "text": [
      "t:   0%|                                                                       | 4/6442 [00:00<04:11, 25.62it/s, now=None]"
     ]
    },
    {
     "name": "stdout",
     "output_type": "stream",
     "text": [
      "MoviePy - Done.\n",
      "Moviepy - Writing video ./results/result_lesson.mp4\n",
      "\n"
     ]
    },
    {
     "name": "stderr",
     "output_type": "stream",
     "text": [
      "                                                                                                                          \r"
     ]
    },
    {
     "name": "stdout",
     "output_type": "stream",
     "text": [
      "Moviepy - Done !\n",
      "Moviepy - video ready ./results/result_lesson.mp4\n"
     ]
    }
   ],
   "source": [
    "composite_clip = CompositeVideoClip([clip1,\n",
    "                                 clip2.set_position((\"right\",\"bottom\"))\n",
    "                                 .set_start(0).crossfadein(1)])\n",
    "\n",
    "# For quick experimentation: Get only the first 30s\n",
    "# final_clip = trial_clip.subclip(t_end=(0,0,30))   \n",
    "\n",
    "# Use a temp audio file if audio is not working\n",
    "# It seems overriding and existing will result in second video not running correctly\n",
    "composite_clip.write_videofile(r'./results/result_lesson.mp4', \n",
    "                     codec='libx264', \n",
    "                     audio_codec='aac', \n",
    "                     temp_audiofile='temp-audio.m4a', \n",
    "                     remove_temp=True\n",
    "                     )\n",
    "# final_clip.write_videofile(r'./results/result_voice.mp4')"
   ]
  },
  {
   "cell_type": "code",
   "execution_count": 9,
   "metadata": {
    "scrolled": true
   },
   "outputs": [
    {
     "name": "stdout",
     "output_type": "stream",
     "text": [
      "cybersecma@gmail.com\r\n",
      "results/result_lesson.mp4\r\n",
      "DONE\r\n"
     ]
    }
   ],
   "source": [
    "!python email-aws.py lesson"
   ]
  },
  {
   "cell_type": "markdown",
   "metadata": {},
   "source": [
    "Now, let's clean up our resources"
   ]
  },
  {
   "cell_type": "code",
   "execution_count": 10,
   "metadata": {
    "scrolled": true
   },
   "outputs": [],
   "source": [
    "!rm results/result_voice.mp4"
   ]
  },
  {
   "cell_type": "code",
   "execution_count": 11,
   "metadata": {},
   "outputs": [],
   "source": [
    "!rm results/result_lesson.mp4"
   ]
  },
  {
   "cell_type": "code",
   "execution_count": 12,
   "metadata": {},
   "outputs": [
    {
     "name": "stdout",
     "output_type": "stream",
     "text": [
      "delete: s3://video-wav2lip/video.mp4\r\n"
     ]
    }
   ],
   "source": [
    "!aws s3 rm s3://video-wav2lip/video.mp4 "
   ]
  },
  {
   "cell_type": "code",
   "execution_count": 13,
   "metadata": {},
   "outputs": [
    {
     "name": "stdout",
     "output_type": "stream",
     "text": [
      "delete: s3://video-wav2lip/lessonVid.mp4\r\n"
     ]
    }
   ],
   "source": [
    "!aws s3 rm s3://video-wav2lip/lessonVid.mp4 "
   ]
  }
 ],
 "metadata": {
  "accelerator": "GPU",
  "colab": {
   "collapsed_sections": [],
   "name": "Wav2Lip.ipynb",
   "provenance": [
    {
     "file_id": "1tZpDWXz49W6wDcTprANRGLo2D_EbD5J8",
     "timestamp": 1619967859029
    },
    {
     "file_id": "1NLUwupCBsB1HrpEmOIHeMgU63sus2LxP",
     "timestamp": 1597735440478
    }
   ],
   "toc_visible": true
  },
  "kernelspec": {
   "display_name": "conda_pytorch_p36",
   "language": "python",
   "name": "conda_pytorch_p36"
  },
  "language_info": {
   "codemirror_mode": {
    "name": "ipython",
    "version": 3
   },
   "file_extension": ".py",
   "mimetype": "text/x-python",
   "name": "python",
   "nbconvert_exporter": "python",
   "pygments_lexer": "ipython3",
   "version": "3.6.13"
  }
 },
 "nbformat": 4,
 "nbformat_minor": 1
}
