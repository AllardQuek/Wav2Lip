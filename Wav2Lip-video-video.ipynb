{
 "cells": [
  {
   "cell_type": "code",
   "execution_count": null,
   "metadata": {
    "scrolled": true
   },
   "outputs": [],
   "source": [
    "!pip install -r requirements.txt"
   ]
  },
  {
   "cell_type": "code",
   "execution_count": null,
   "metadata": {
    "scrolled": false
   },
   "outputs": [],
   "source": [
    "# Install librosa (seems to come with ffmpeg as well):\n",
    "!conda install -c conda-forge librosa -y"
   ]
  },
  {
   "cell_type": "code",
   "execution_count": null,
   "metadata": {
    "scrolled": false
   },
   "outputs": [],
   "source": [
    "# Install ffmpeg:\n",
    "!conda install -c conda-forge ffmpeg -y"
   ]
  },
  {
   "cell_type": "code",
   "execution_count": null,
   "metadata": {},
   "outputs": [],
   "source": [
    "# Copy files over from S3\n",
    "!aws s3 cp s3://video-wav2lip/lessonVid.mp4 sample_data/\n",
    "!aws s3 cp s3://video-wav2lip/video.mp4 sample_data/\n",
    "!ls sample_data"
   ]
  },
  {
   "cell_type": "code",
   "execution_count": null,
   "metadata": {
    "scrolled": true
   },
   "outputs": [],
   "source": [
    "# Convert lesson video to audio\n",
    "!ffmpeg -i sample_data/lessonVid.mp4 sample_data/lessonAudio.mp3 -y"
   ]
  },
  {
   "cell_type": "code",
   "execution_count": null,
   "metadata": {
    "scrolled": true
   },
   "outputs": [],
   "source": [
    "# If there is an error here, no output file will be generated!\n",
    "!python inference.py --checkpoint_path checkpoints/wav2lip.pth --face \"sample_data/video.mp4\" --audio \"sample_data/lessonAudio.mp3\" --resize_factor 2"
   ]
  },
  {
   "cell_type": "code",
   "execution_count": null,
   "metadata": {},
   "outputs": [],
   "source": [
    "# import os\n",
    "# from email_aws import send_email \n",
    "\n",
    "# # If the video generation failed, call send email\n",
    "# if not os.path.isfile(\"/results/result_voice.mp4\"):\n",
    "#     send_email(error=True)"
   ]
  },
  {
   "cell_type": "markdown",
   "metadata": {},
   "source": [
    "### Moviepy Section"
   ]
  },
  {
   "cell_type": "code",
   "execution_count": null,
   "metadata": {},
   "outputs": [],
   "source": [
    "from helpers.moviepy_merge import merge_videos\n",
    "from helpers.email_aws import send_email\n",
    "\n",
    "merged_videos = merge_videos(\"./results/result_voice.mp4\", \n",
    "                             \"./sample_data/lessonVid.mp4\", \n",
    "                             \"./results/result_lesson.mp4\")\n",
    "send_email(is_lesson=True) if merged_videos else send_email(error=True)"
   ]
  },
  {
   "cell_type": "markdown",
   "metadata": {},
   "source": [
    "### Clean Up\n",
    "\n",
    "1. Remove Wav2Lip generated video\n",
    "2. Remove Moviepy merged video\n",
    "3. Remove user video, lessonAudio and email files\n",
    "4. Remove user-uploaded face video from Amazon S3\n",
    "5. Remove user-uploaded lesson video from Amazon S3"
   ]
  },
  {
   "cell_type": "code",
   "execution_count": null,
   "metadata": {
    "scrolled": true
   },
   "outputs": [],
   "source": [
    "!rm results/result_voice.mp4"
   ]
  },
  {
   "cell_type": "code",
   "execution_count": null,
   "metadata": {},
   "outputs": [],
   "source": [
    "!rm results/result_lesson.mp4"
   ]
  },
  {
   "cell_type": "code",
   "execution_count": null,
   "metadata": {},
   "outputs": [],
   "source": [
    "!rm sample_data/video.mp4\n",
    "!rm sample_data/audio.mp3\n",
    "!rm email.txt"
   ]
  },
  {
   "cell_type": "code",
   "execution_count": null,
   "metadata": {},
   "outputs": [],
   "source": [
    "!aws s3 rm s3://video-wav2lip/video.mp4 "
   ]
  },
  {
   "cell_type": "code",
   "execution_count": null,
   "metadata": {},
   "outputs": [],
   "source": [
    "!aws s3 rm s3://video-wav2lip/lessonVid.mp4 "
   ]
  }
 ],
 "metadata": {
  "accelerator": "GPU",
  "colab": {
   "collapsed_sections": [],
   "name": "Wav2Lip.ipynb",
   "provenance": [
    {
     "file_id": "1tZpDWXz49W6wDcTprANRGLo2D_EbD5J8",
     "timestamp": 1619967859029
    },
    {
     "file_id": "1NLUwupCBsB1HrpEmOIHeMgU63sus2LxP",
     "timestamp": 1597735440478
    }
   ],
   "toc_visible": true
  },
  "kernelspec": {
   "display_name": "Python 3",
   "language": "python",
   "name": "python3"
  },
  "language_info": {
   "codemirror_mode": {
    "name": "ipython",
    "version": 3
   },
   "file_extension": ".py",
   "mimetype": "text/x-python",
   "name": "python",
   "nbconvert_exporter": "python",
   "pygments_lexer": "ipython3",
   "version": "3.9.1"
  }
 },
 "nbformat": 4,
 "nbformat_minor": 1
}
