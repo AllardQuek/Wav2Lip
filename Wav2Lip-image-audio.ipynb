{
 "cells": [
  {
   "cell_type": "code",
   "execution_count": 1,
   "metadata": {},
   "outputs": [],
   "source": [
    "# !pip install -r requirements.txt\n",
    "# !pip install scipy\n",
    "# !conda install -c conda-forge librosa -y"
   ]
  },
  {
   "cell_type": "code",
   "execution_count": 2,
   "metadata": {},
   "outputs": [
    {
     "name": "stdout",
     "output_type": "stream",
     "text": [
      "download: s3://image-wav2lip/image.jpeg to sample_data/image.jpeg \r\n",
      "download: s3://audio-wav2lip/audio.mp3 to sample_data/audio.mp3   \r\n",
      "audio.mp3  image.jpeg\t    lessonVid.mp4  polly.wav\r\n",
      "elon.mp4   lessonAudio.mp3  polly.mp3\r\n"
     ]
    }
   ],
   "source": [
    "# Copy files over from S3\n",
    "!aws s3 cp s3://image-wav2lip/image.jpeg sample_data/\n",
    "!aws s3 cp s3://audio-wav2lip/audio.mp3 sample_data/\n",
    "!ls sample_data"
   ]
  },
  {
   "cell_type": "code",
   "execution_count": 3,
   "metadata": {},
   "outputs": [],
   "source": [
    "# To install ffmpeg:\n",
    "# !conda install -c conda-forge ffmpeg -y"
   ]
  },
  {
   "cell_type": "code",
   "execution_count": 4,
   "metadata": {
    "scrolled": true
   },
   "outputs": [
    {
     "name": "stdout",
     "output_type": "stream",
     "text": [
      "ffmpeg version 4.3.1 Copyright (c) 2000-2020 the FFmpeg developers\r\n",
      "  built with gcc 9.3.0 (crosstool-NG 1.24.0.133_b0863d8_dirty)\r\n",
      "  configuration: --prefix=/home/ec2-user/anaconda3/envs/JupyterSystemEnv --cc=/home/conda/feedstock_root/build_artifacts/ffmpeg_1609680890771/_build_env/bin/x86_64-conda-linux-gnu-cc --disable-doc --disable-openssl --enable-avresample --enable-gnutls --enable-gpl --enable-hardcoded-tables --enable-libfreetype --enable-libopenh264 --enable-libx264 --enable-pic --enable-pthreads --enable-shared --enable-static --enable-version3 --enable-zlib --enable-libmp3lame --pkg-config=/home/conda/feedstock_root/build_artifacts/ffmpeg_1609680890771/_build_env/bin/pkg-config\r\n",
      "  libavutil      56. 51.100 / 56. 51.100\r\n",
      "  libavcodec     58. 91.100 / 58. 91.100\r\n",
      "  libavformat    58. 45.100 / 58. 45.100\r\n",
      "  libavdevice    58. 10.100 / 58. 10.100\r\n",
      "  libavfilter     7. 85.100 /  7. 85.100\r\n",
      "  libavresample   4.  0.  0 /  4.  0.  0\r\n",
      "  libswscale      5.  7.100 /  5.  7.100\r\n",
      "  libswresample   3.  7.100 /  3.  7.100\r\n",
      "  libpostproc    55.  7.100 / 55.  7.100\r\n",
      "Input #0, image2, from 'sample_data/image.jpeg':\r\n",
      "  Duration: 00:00:00.04, start: 0.000000, bitrate: 4408 kb/s\r\n",
      "    Stream #0:0: Video: mjpeg (Baseline), yuvj420p(pc, bt470bg/unknown/unknown), 387x387 [SAR 1:1 DAR 1:1], 25 fps, 25 tbr, 25 tbn, 25 tbc\r\n",
      "Stream mapping:\r\n",
      "  Stream #0:0 -> #0:0 (mjpeg (native) -> h264 (libx264))\r\n",
      "Press [q] to stop, [?] for help\r\n",
      "\u001b[1;34m[swscaler @ 0x556ec1c68900] \u001b[0m\u001b[0;33mdeprecated pixel format used, make sure you did set range correctly\r\n",
      "\u001b[0m\u001b[1;36m[libx264 @ 0x556ec18db800] \u001b[0musing SAR=3/4\r\n",
      "\u001b[1;36m[libx264 @ 0x556ec18db800] \u001b[0musing cpu capabilities: MMX2 SSE2Fast SSSE3 SSE4.2 AVX FMA3 BMI2 AVX2\r\n",
      "\u001b[1;36m[libx264 @ 0x556ec18db800] \u001b[0mprofile High, level 1.3, 4:2:0, 8-bit\r\n",
      "\u001b[1;36m[libx264 @ 0x556ec18db800] \u001b[0m264 - core 161 r3030M 8bd6d28 - H.264/MPEG-4 AVC codec - Copyleft 2003-2020 - http://www.videolan.org/x264.html - options: cabac=1 ref=3 deblock=1:0:0 analyse=0x3:0x113 me=hex subme=7 psy=1 psy_rd=1.00:0.00 mixed_ref=1 me_range=16 chroma_me=1 trellis=1 8x8dct=1 cqm=0 deadzone=21,11 fast_pskip=1 chroma_qp_offset=-2 threads=6 lookahead_threads=1 sliced_threads=0 nr=0 decimate=1 interlaced=0 bluray_compat=0 constrained_intra=0 bframes=3 b_pyramid=2 b_adapt=1 b_bias=0 direct=1 weightb=1 open_gop=0 weightp=2 keyint=250 keyint_min=25 scenecut=40 intra_refresh=0 rc_lookahead=40 rc=crf mbtree=1 crf=23.0 qcomp=0.60 qpmin=0 qpmax=69 qpstep=4 ip_ratio=1.40 aq=1:1.00\r\n",
      "Output #0, mp4, to 'sample_data/video.mp4':\r\n",
      "  Metadata:\r\n",
      "    encoder         : Lavf58.45.100\r\n",
      "    Stream #0:0: Video: h264 (libx264) (avc1 / 0x31637661), yuv420p, 320x240 [SAR 3:4 DAR 1:1], q=-1--1, 25 fps, 12800 tbn, 25 tbc\r\n",
      "    Metadata:\r\n",
      "      encoder         : Lavc58.91.100 libx264\r\n",
      "    Side data:\r\n",
      "      cpb: bitrate max/min/avg: 0/0/0 buffer size: 0 vbv_delay: N/A\r\n",
      "frame=   75 fps=0.0 q=-1.0 Lsize=      14kB time=00:00:02.88 bitrate=  39.2kbits/s speed=20.9x    \r\n",
      "video:12kB audio:0kB subtitle:0kB other streams:0kB global headers:0kB muxing overhead: 14.268342%\r\n",
      "\u001b[1;36m[libx264 @ 0x556ec18db800] \u001b[0mframe I:1     Avg QP:18.29  size: 10189\r\n",
      "\u001b[1;36m[libx264 @ 0x556ec18db800] \u001b[0mframe P:19    Avg QP:20.33  size:    35\r\n",
      "\u001b[1;36m[libx264 @ 0x556ec18db800] \u001b[0mframe B:55    Avg QP:28.35  size:    14\r\n",
      "\u001b[1;36m[libx264 @ 0x556ec18db800] \u001b[0mconsecutive B-frames:  1.3%  2.7%  0.0% 96.0%\r\n",
      "\u001b[1;36m[libx264 @ 0x556ec18db800] \u001b[0mmb I  I16..4:  5.7% 65.3% 29.0%\r\n",
      "\u001b[1;36m[libx264 @ 0x556ec18db800] \u001b[0mmb P  I16..4:  0.0%  0.0%  0.0%  P16..4:  1.5%  0.2%  0.1%  0.0%  0.0%    skip:98.2%\r\n",
      "\u001b[1;36m[libx264 @ 0x556ec18db800] \u001b[0mmb B  I16..4:  0.0%  0.0%  0.0%  B16..8:  0.2%  0.0%  0.0%  direct: 0.0%  skip:99.8%  L0: 2.9% L1:97.1% BI: 0.0%\r\n",
      "\u001b[1;36m[libx264 @ 0x556ec18db800] \u001b[0m8x8 transform intra:65.3% inter:100.0%\r\n",
      "\u001b[1;36m[libx264 @ 0x556ec18db800] \u001b[0mcoded y,uvDC,uvAC intra: 90.2% 94.0% 85.0% inter: 0.0% 0.3% 0.0%\r\n",
      "\u001b[1;36m[libx264 @ 0x556ec18db800] \u001b[0mi16 v,h,dc,p: 29%  6%  0% 65%\r\n",
      "\u001b[1;36m[libx264 @ 0x556ec18db800] \u001b[0mi8 v,h,dc,ddl,ddr,vr,hd,vl,hu: 20% 29%  7%  6%  6%  7%  9%  6% 10%\r\n",
      "\u001b[1;36m[libx264 @ 0x556ec18db800] \u001b[0mi4 v,h,dc,ddl,ddr,vr,hd,vl,hu: 16% 21%  7%  8%  9%  9% 10%  9% 11%\r\n",
      "\u001b[1;36m[libx264 @ 0x556ec18db800] \u001b[0mi8c dc,h,v,p: 34% 34% 20% 12%\r\n",
      "\u001b[1;36m[libx264 @ 0x556ec18db800] \u001b[0mWeighted P-Frames: Y:0.0% UV:0.0%\r\n",
      "\u001b[1;36m[libx264 @ 0x556ec18db800] \u001b[0mref P L0: 92.3%  1.0%  6.7%\r\n",
      "\u001b[1;36m[libx264 @ 0x556ec18db800] \u001b[0mref B L1: 93.9%  6.1%\r\n",
      "\u001b[1;36m[libx264 @ 0x556ec18db800] \u001b[0mkb/s:31.05\r\n"
     ]
    }
   ],
   "source": [
    "# Convert image to 3-second video\n",
    "!ffmpeg -loop 1 -i sample_data/image.jpeg -c:v libx264 -t 3 -pix_fmt yuv420p -vf scale=320:240 sample_data/video.mp4 -y"
   ]
  },
  {
   "cell_type": "code",
   "execution_count": 5,
   "metadata": {
    "scrolled": true
   },
   "outputs": [
    {
     "name": "stdout",
     "output_type": "stream",
     "text": [
      "Using cpu for inference.\r\n",
      "Reading video frames...\r\n",
      "Number of frames available for inference: 75\r\n",
      "Extracting raw audio...\r\n",
      "ffmpeg version 4.3.1 Copyright (c) 2000-2020 the FFmpeg developers\r\n",
      "  built with gcc 9.3.0 (crosstool-NG 1.24.0.133_b0863d8_dirty)\r\n",
      "  configuration: --prefix=/home/ec2-user/anaconda3/envs/JupyterSystemEnv --cc=/home/conda/feedstock_root/build_artifacts/ffmpeg_1609680890771/_build_env/bin/x86_64-conda-linux-gnu-cc --disable-doc --disable-openssl --enable-avresample --enable-gnutls --enable-gpl --enable-hardcoded-tables --enable-libfreetype --enable-libopenh264 --enable-libx264 --enable-pic --enable-pthreads --enable-shared --enable-static --enable-version3 --enable-zlib --enable-libmp3lame --pkg-config=/home/conda/feedstock_root/build_artifacts/ffmpeg_1609680890771/_build_env/bin/pkg-config\r\n",
      "  libavutil      56. 51.100 / 56. 51.100\r\n",
      "  libavcodec     58. 91.100 / 58. 91.100\r\n",
      "  libavformat    58. 45.100 / 58. 45.100\r\n",
      "  libavdevice    58. 10.100 / 58. 10.100\r\n",
      "  libavfilter     7. 85.100 /  7. 85.100\r\n",
      "  libavresample   4.  0.  0 /  4.  0.  0\r\n",
      "  libswscale      5.  7.100 /  5.  7.100\r\n",
      "  libswresample   3.  7.100 /  3.  7.100\r\n",
      "  libpostproc    55.  7.100 / 55.  7.100\r\n",
      "\u001b[0;35m[mp3 @ 0x558dd572ddc0] \u001b[0m\u001b[0;33mEstimating duration from bitrate, this may be inaccurate\r\n",
      "\u001b[0mInput #0, mp3, from 'sample_data/audio.mp3':\r\n",
      "  Metadata:\r\n",
      "    encoder         : Lavf58.45.100\r\n",
      "  Duration: 00:00:36.14, start: 0.000000, bitrate: 48 kb/s\r\n",
      "    Stream #0:0: Audio: mp3, 24000 Hz, mono, fltp, 48 kb/s\r\n",
      "Stream mapping:\r\n",
      "  Stream #0:0 -> #0:0 (mp3 (mp3float) -> pcm_s16le (native))\r\n",
      "Press [q] to stop, [?] for help\r\n",
      "Output #0, wav, to 'temp/temp.wav':\r\n",
      "  Metadata:\r\n",
      "    ISFT            : Lavf58.45.100\r\n",
      "    Stream #0:0: Audio: pcm_s16le ([1][0][0][0] / 0x0001), 24000 Hz, mono, s16, 384 kb/s\r\n",
      "    Metadata:\r\n",
      "      encoder         : Lavc58.91.100 pcm_s16le\r\n",
      "\u001b[0;36m[mp3float @ 0x558dd572fbc0] \u001b[0moverread, skip -6 enddists: -3 -3\r\n",
      "\u001b[0;36m[mp3float @ 0x558dd572fbc0] \u001b[0moverread, skip -6 enddists: -2 -2\r\n",
      "\u001b[0;36m[mp3float @ 0x558dd572fbc0] \u001b[0moverread, skip -6 enddists: -5 -5\r\n",
      "\u001b[0;36m[mp3float @ 0x558dd572fbc0] \u001b[0moverread, skip -5 enddists: -1 -1\r\n",
      "\u001b[0;36m[mp3float @ 0x558dd572fbc0] \u001b[0moverread, skip -6 enddists: -1 -1\r\n",
      "\u001b[0;36m[mp3float @ 0x558dd572fbc0] \u001b[0moverread, skip -6 enddists: -2 -2\r\n",
      "size=    1694kB time=00:00:36.14 bitrate= 384.0kbits/s speed=1.1e+03x    \r\n",
      "video:0kB audio:1694kB subtitle:0kB other streams:0kB global headers:0kB muxing overhead: 0.004496%\r\n",
      "(80, 2892)\r\n",
      "Length of mel chunks: 901\r\n",
      "  0%|                                                    | 0/29 [00:00<?, ?it/s]\r\n",
      "  0%|                                                     | 0/5 [00:00<?, ?it/s]\u001b[A/home/ec2-user/anaconda3/envs/JupyterSystemEnv/lib/python3.6/site-packages/torch/nn/functional.py:718: UserWarning: Named tensors and all their associated APIs are an experimental feature and subject to change. Please do not use them for anything important until they are released as stable. (Triggered internally at  /pytorch/c10/core/TensorImpl.h:1156.)\r\n",
      "  return torch.max_pool2d(input, kernel_size, stride, padding, dilation, ceil_mode)\r\n",
      "\r\n",
      " 20%|█████████                                    | 1/5 [00:01<00:04,  1.17s/it]\u001b[A\r\n",
      " 40%|██████████████████                           | 2/5 [00:02<00:03,  1.15s/it]\u001b[A\r\n",
      " 60%|███████████████████████████                  | 3/5 [00:03<00:02,  1.14s/it]\u001b[A\r\n",
      " 80%|████████████████████████████████████         | 4/5 [00:04<00:01,  1.14s/it]\u001b[A\r\n",
      "100%|█████████████████████████████████████████████| 5/5 [00:05<00:00,  1.07s/it]\r\n",
      "Load checkpoint from: checkpoints/wav2lip.pth\r\n",
      "Model loaded\r\n",
      "100%|███████████████████████████████████████████| 29/29 [00:52<00:00,  1.83s/it]\r\n",
      "ffmpeg version 4.3.1 Copyright (c) 2000-2020 the FFmpeg developers\r\n",
      "  built with gcc 9.3.0 (crosstool-NG 1.24.0.133_b0863d8_dirty)\r\n",
      "  configuration: --prefix=/home/ec2-user/anaconda3/envs/JupyterSystemEnv --cc=/home/conda/feedstock_root/build_artifacts/ffmpeg_1609680890771/_build_env/bin/x86_64-conda-linux-gnu-cc --disable-doc --disable-openssl --enable-avresample --enable-gnutls --enable-gpl --enable-hardcoded-tables --enable-libfreetype --enable-libopenh264 --enable-libx264 --enable-pic --enable-pthreads --enable-shared --enable-static --enable-version3 --enable-zlib --enable-libmp3lame --pkg-config=/home/conda/feedstock_root/build_artifacts/ffmpeg_1609680890771/_build_env/bin/pkg-config\r\n",
      "  libavutil      56. 51.100 / 56. 51.100\r\n",
      "  libavcodec     58. 91.100 / 58. 91.100\r\n",
      "  libavformat    58. 45.100 / 58. 45.100\r\n",
      "  libavdevice    58. 10.100 / 58. 10.100\r\n",
      "  libavfilter     7. 85.100 /  7. 85.100\r\n",
      "  libavresample   4.  0.  0 /  4.  0.  0\r\n",
      "  libswscale      5.  7.100 /  5.  7.100\r\n",
      "  libswresample   3.  7.100 /  3.  7.100\r\n",
      "  libpostproc    55.  7.100 / 55.  7.100\r\n",
      "\u001b[0;33mGuessed Channel Layout for Input Stream #0.0 : mono\r\n",
      "\u001b[0mInput #0, wav, from 'temp/temp.wav':\r\n",
      "  Metadata:\r\n",
      "    encoder         : Lavf58.45.100\r\n",
      "  Duration: 00:00:36.14, bitrate: 384 kb/s\r\n",
      "    Stream #0:0: Audio: pcm_s16le ([1][0][0][0] / 0x0001), 24000 Hz, mono, s16, 384 kb/s\r\n",
      "Input #1, avi, from 'temp/result.avi':\r\n",
      "  Metadata:\r\n",
      "    encoder         : Lavf58.61.100\r\n",
      "  Duration: 00:00:36.04, start: 0.000000, bitrate: 88 kb/s\r\n",
      "    Stream #1:0: Video: mpeg4 (Simple Profile) (DIVX / 0x58564944), yuv420p, 160x120 [SAR 1:1 DAR 4:3], 82 kb/s, 25 fps, 25 tbr, 25 tbn, 25 tbc\r\n",
      "Stream mapping:\r\n",
      "  Stream #1:0 -> #0:0 (mpeg4 (native) -> h264 (libx264))\r\n",
      "  Stream #0:0 -> #0:1 (pcm_s16le (native) -> aac (native))\r\n",
      "Press [q] to stop, [?] for help\r\n",
      "\u001b[1;36m[libx264 @ 0x55f72c016200] \u001b[0m\u001b[0;33m-qscale is ignored, -crf is recommended.\r\n",
      "\u001b[0m\u001b[1;36m[libx264 @ 0x55f72c016200] \u001b[0musing SAR=1/1\r\n",
      "\u001b[1;36m[libx264 @ 0x55f72c016200] \u001b[0musing cpu capabilities: MMX2 SSE2Fast SSSE3 SSE4.2 AVX FMA3 BMI2 AVX2\r\n",
      "\u001b[1;36m[libx264 @ 0x55f72c016200] \u001b[0mprofile High, level 1.1, 4:2:0, 8-bit\r\n",
      "\u001b[1;36m[libx264 @ 0x55f72c016200] \u001b[0m264 - core 161 r3030M 8bd6d28 - H.264/MPEG-4 AVC codec - Copyleft 2003-2020 - http://www.videolan.org/x264.html - options: cabac=1 ref=3 deblock=1:0:0 analyse=0x3:0x113 me=hex subme=7 psy=1 psy_rd=1.00:0.00 mixed_ref=1 me_range=16 chroma_me=1 trellis=1 8x8dct=1 cqm=0 deadzone=21,11 fast_pskip=1 chroma_qp_offset=-2 threads=4 lookahead_threads=1 sliced_threads=0 nr=0 decimate=1 interlaced=0 bluray_compat=0 constrained_intra=0 bframes=3 b_pyramid=2 b_adapt=1 b_bias=0 direct=1 weightb=1 open_gop=0 weightp=2 keyint=250 keyint_min=25 scenecut=40 intra_refresh=0 rc_lookahead=40 rc=crf mbtree=1 crf=23.0 qcomp=0.60 qpmin=0 qpmax=69 qpstep=4 ip_ratio=1.40 aq=1:1.00\r\n",
      "Output #0, mp4, to 'results/result_voice.mp4':\r\n",
      "  Metadata:\r\n",
      "    encoder         : Lavf58.45.100\r\n",
      "    Stream #0:0: Video: h264 (libx264) (avc1 / 0x31637661), yuv420p(progressive), 160x120 [SAR 1:1 DAR 4:3], q=-1--1, 25 fps, 12800 tbn, 25 tbc\r\n",
      "    Metadata:\r\n",
      "      encoder         : Lavc58.91.100 libx264\r\n",
      "    Side data:\r\n",
      "      cpb: bitrate max/min/avg: 0/0/0 buffer size: 0 vbv_delay: N/A\r\n",
      "    Stream #0:1: Audio: aac (LC) (mp4a / 0x6134706D), 24000 Hz, mono, fltp, 69 kb/s\r\n",
      "    Metadata:\r\n",
      "      encoder         : Lavc58.91.100 aac\r\n",
      "frame=  901 fps=0.0 q=-1.0 Lsize=     421kB time=00:00:36.18 bitrate=  95.3kbits/s speed=89.3x    \r\n",
      "video:90kB audio:310kB subtitle:0kB other streams:0kB global headers:0kB muxing overhead: 5.192691%\r\n",
      "\u001b[1;36m[libx264 @ 0x55f72c016200] \u001b[0mframe I:4     Avg QP:18.35  size:  3497\r\n",
      "\u001b[1;36m[libx264 @ 0x55f72c016200] \u001b[0mframe P:562   Avg QP:22.09  size:   117\r\n",
      "\u001b[1;36m[libx264 @ 0x55f72c016200] \u001b[0mframe B:335   Avg QP:30.47  size:    36\r\n",
      "\u001b[1;36m[libx264 @ 0x55f72c016200] \u001b[0mconsecutive B-frames: 43.0% 17.8% 14.0% 25.3%\r\n",
      "\u001b[1;36m[libx264 @ 0x55f72c016200] \u001b[0mmb I  I16..4:  0.6% 85.3% 14.1%\r\n",
      "\u001b[1;36m[libx264 @ 0x55f72c016200] \u001b[0mmb P  I16..4:  0.0%  0.1%  0.0%  P16..4:  9.3%  4.3%  2.9%  0.0%  0.0%    skip:83.4%\r\n",
      "\u001b[1;36m[libx264 @ 0x55f72c016200] \u001b[0mmb B  I16..4:  0.0%  0.0%  0.0%  B16..8:  6.5%  1.0%  0.2%  direct: 0.4%  skip:91.9%  L0:47.6% L1:45.9% BI: 6.5%\r\n",
      "\u001b[1;36m[libx264 @ 0x55f72c016200] \u001b[0m8x8 transform intra:86.2% inter:78.6%\r\n",
      "\u001b[1;36m[libx264 @ 0x55f72c016200] \u001b[0mcoded y,uvDC,uvAC intra: 94.4% 96.3% 81.1% inter: 4.4% 4.9% 0.3%\r\n",
      "\u001b[1;36m[libx264 @ 0x55f72c016200] \u001b[0mi16 v,h,dc,p:  0%  0% 100%  0%\r\n",
      "\u001b[1;36m[libx264 @ 0x55f72c016200] \u001b[0mi8 v,h,dc,ddl,ddr,vr,hd,vl,hu: 23% 28% 11%  6%  4%  8%  6%  5%  9%\r\n",
      "\u001b[1;36m[libx264 @ 0x55f72c016200] \u001b[0mi4 v,h,dc,ddl,ddr,vr,hd,vl,hu: 22% 24%  6%  6% 11%  9%  9%  6%  8%\r\n",
      "\u001b[1;36m[libx264 @ 0x55f72c016200] \u001b[0mi8c dc,h,v,p: 37% 25% 28% 10%\r\n",
      "\u001b[1;36m[libx264 @ 0x55f72c016200] \u001b[0mWeighted P-Frames: Y:0.0% UV:0.0%\r\n",
      "\u001b[1;36m[libx264 @ 0x55f72c016200] \u001b[0mref P L0: 65.8% 14.0% 12.1%  8.1%\r\n",
      "\u001b[1;36m[libx264 @ 0x55f72c016200] \u001b[0mref B L0: 82.0% 15.2%  2.8%\r\n",
      "\u001b[1;36m[libx264 @ 0x55f72c016200] \u001b[0mref B L1: 96.7%  3.3%\r\n",
      "\u001b[1;36m[libx264 @ 0x55f72c016200] \u001b[0mkb/s:20.31\r\n",
      "\u001b[1;36m[aac @ 0x55f72c0174c0] \u001b[0mQavg: 4575.139\r\n",
      "\u001b[0m"
     ]
    }
   ],
   "source": [
    "!python inference.py --checkpoint_path checkpoints/wav2lip.pth --face \"sample_data/video.mp4\" --audio \"sample_data/audio.mp3\" --resize_factor 2"
   ]
  },
  {
   "cell_type": "code",
   "execution_count": 6,
   "metadata": {
    "scrolled": true
   },
   "outputs": [],
   "source": [
    "# !aws s3 cp results/result_voice.mp4 s3://wav2lip-results/result.mp4"
   ]
  },
  {
   "cell_type": "code",
   "execution_count": 7,
   "metadata": {},
   "outputs": [
    {
     "name": "stdout",
     "output_type": "stream",
     "text": [
      "cybersecma@gmail.com\r\n",
      "results/result_voice.mp4\r\n",
      "DONE\r\n"
     ]
    }
   ],
   "source": [
    "!python email-aws.py"
   ]
  },
  {
   "cell_type": "markdown",
   "metadata": {},
   "source": [
    "Now, let's clean up our resources"
   ]
  },
  {
   "cell_type": "code",
   "execution_count": 8,
   "metadata": {},
   "outputs": [],
   "source": [
    "!rm results/result_voice.mp4"
   ]
  },
  {
   "cell_type": "code",
   "execution_count": 9,
   "metadata": {},
   "outputs": [
    {
     "name": "stdout",
     "output_type": "stream",
     "text": [
      "delete: s3://video-wav2lip/video.mp4\r\n"
     ]
    }
   ],
   "source": [
    "!aws s3 rm s3://video-wav2lip/video.mp4 "
   ]
  },
  {
   "cell_type": "code",
   "execution_count": 10,
   "metadata": {},
   "outputs": [
    {
     "name": "stdout",
     "output_type": "stream",
     "text": [
      "delete: s3://video-wav2lip/audio.mp3\r\n"
     ]
    }
   ],
   "source": [
    "!aws s3 rm s3://video-wav2lip/audio.mp3 "
   ]
  }
 ],
 "metadata": {
  "accelerator": "GPU",
  "colab": {
   "collapsed_sections": [],
   "name": "Wav2Lip.ipynb",
   "provenance": [
    {
     "file_id": "1tZpDWXz49W6wDcTprANRGLo2D_EbD5J8",
     "timestamp": 1619967859029
    },
    {
     "file_id": "1NLUwupCBsB1HrpEmOIHeMgU63sus2LxP",
     "timestamp": 1597735440478
    }
   ],
   "toc_visible": true
  },
  "kernelspec": {
   "display_name": "conda_pytorch_p36",
   "language": "python",
   "name": "conda_pytorch_p36"
  },
  "language_info": {
   "codemirror_mode": {
    "name": "ipython",
    "version": 3
   },
   "file_extension": ".py",
   "mimetype": "text/x-python",
   "name": "python",
   "nbconvert_exporter": "python",
   "pygments_lexer": "ipython3",
   "version": "3.6.13"
  }
 },
 "nbformat": 4,
 "nbformat_minor": 1
}
