{
 "cells": [
  {
   "cell_type": "code",
   "execution_count": 1,
   "metadata": {},
   "outputs": [],
   "source": [
    "# !pip install -r requirements.txt\n",
    "# !pip install scipy\n",
    "# !conda install -c conda-forge librosa -y"
   ]
  },
  {
   "cell_type": "code",
   "execution_count": 2,
   "metadata": {},
   "outputs": [
    {
     "name": "stdout",
     "output_type": "stream",
     "text": [
      "download: s3://image-wav2lip/image.jpeg to sample_data/image.jpeg \n",
      "download: s3://audio-wav2lip/audio.mp3 to sample_data/audio.mp3   \n",
      "audio.mp3  elon.mp4  image.jpeg  polly.mp3  polly.wav\n"
     ]
    }
   ],
   "source": [
    "# Copy files over from S3\n",
    "!aws s3 cp s3://image-wav2lip/image.jpeg sample_data/\n",
    "!aws s3 cp s3://audio-wav2lip/audio.mp3 sample_data/\n",
    "!ls sample_data"
   ]
  },
  {
   "cell_type": "code",
   "execution_count": 3,
   "metadata": {},
   "outputs": [],
   "source": [
    "# To install ffmpeg:\n",
    "# !conda install -c conda-forge ffmpeg -y"
   ]
  },
  {
   "cell_type": "code",
   "execution_count": 3,
   "metadata": {
    "scrolled": true
   },
   "outputs": [
    {
     "name": "stdout",
     "output_type": "stream",
     "text": [
      "ffmpeg version 4.3.1 Copyright (c) 2000-2020 the FFmpeg developers\n",
      "  built with gcc 9.3.0 (crosstool-NG 1.24.0.133_b0863d8_dirty)\n",
      "  configuration: --prefix=/home/ec2-user/anaconda3/envs/pytorch_p36 --cc=/home/conda/feedstock_root/build_artifacts/ffmpeg_1609680890771/_build_env/bin/x86_64-conda-linux-gnu-cc --disable-doc --disable-openssl --enable-avresample --enable-gnutls --enable-gpl --enable-hardcoded-tables --enable-libfreetype --enable-libopenh264 --enable-libx264 --enable-pic --enable-pthreads --enable-shared --enable-static --enable-version3 --enable-zlib --enable-libmp3lame --pkg-config=/home/conda/feedstock_root/build_artifacts/ffmpeg_1609680890771/_build_env/bin/pkg-config\n",
      "  libavutil      56. 51.100 / 56. 51.100\n",
      "  libavcodec     58. 91.100 / 58. 91.100\n",
      "  libavformat    58. 45.100 / 58. 45.100\n",
      "  libavdevice    58. 10.100 / 58. 10.100\n",
      "  libavfilter     7. 85.100 /  7. 85.100\n",
      "  libavresample   4.  0.  0 /  4.  0.  0\n",
      "  libswscale      5.  7.100 /  5.  7.100\n",
      "  libswresample   3.  7.100 /  3.  7.100\n",
      "  libpostproc    55.  7.100 / 55.  7.100\n",
      "Input #0, image2, from 'sample_data/image.jpeg':\n",
      "  Duration: 00:00:00.04, start: 0.000000, bitrate: 4408 kb/s\n",
      "    Stream #0:0: Video: mjpeg (Baseline), yuvj420p(pc, bt470bg/unknown/unknown), 387x387 [SAR 1:1 DAR 1:1], 25 fps, 25 tbr, 25 tbn, 25 tbc\n",
      "Stream mapping:\n",
      "  Stream #0:0 -> #0:0 (mjpeg (native) -> h264 (libx264))\n",
      "Press [q] to stop, [?] for help\n",
      "\u001b[1;34m[swscaler @ 0x5566921d0300] \u001b[0m\u001b[0;33mdeprecated pixel format used, make sure you did set range correctly\n",
      "\u001b[0m\u001b[1;36m[libx264 @ 0x556691e39080] \u001b[0musing SAR=3/4\n",
      "\u001b[1;36m[libx264 @ 0x556691e39080] \u001b[0musing cpu capabilities: MMX2 SSE2Fast SSSE3 SSE4.2 AVX FMA3 BMI2 AVX2\n",
      "\u001b[1;36m[libx264 @ 0x556691e39080] \u001b[0mprofile High, level 1.3, 4:2:0, 8-bit\n",
      "\u001b[1;36m[libx264 @ 0x556691e39080] \u001b[0m264 - core 161 r3030M 8bd6d28 - H.264/MPEG-4 AVC codec - Copyleft 2003-2020 - http://www.videolan.org/x264.html - options: cabac=1 ref=3 deblock=1:0:0 analyse=0x3:0x113 me=hex subme=7 psy=1 psy_rd=1.00:0.00 mixed_ref=1 me_range=16 chroma_me=1 trellis=1 8x8dct=1 cqm=0 deadzone=21,11 fast_pskip=1 chroma_qp_offset=-2 threads=6 lookahead_threads=1 sliced_threads=0 nr=0 decimate=1 interlaced=0 bluray_compat=0 constrained_intra=0 bframes=3 b_pyramid=2 b_adapt=1 b_bias=0 direct=1 weightb=1 open_gop=0 weightp=2 keyint=250 keyint_min=25 scenecut=40 intra_refresh=0 rc_lookahead=40 rc=crf mbtree=1 crf=23.0 qcomp=0.60 qpmin=0 qpmax=69 qpstep=4 ip_ratio=1.40 aq=1:1.00\n",
      "Output #0, mp4, to 'sample_data/video.mp4':\n",
      "  Metadata:\n",
      "    encoder         : Lavf58.45.100\n",
      "    Stream #0:0: Video: h264 (libx264) (avc1 / 0x31637661), yuv420p, 320x240 [SAR 3:4 DAR 1:1], q=-1--1, 25 fps, 12800 tbn, 25 tbc\n",
      "    Metadata:\n",
      "      encoder         : Lavc58.91.100 libx264\n",
      "    Side data:\n",
      "      cpb: bitrate max/min/avg: 0/0/0 buffer size: 0 vbv_delay: N/A\n",
      "frame=   75 fps=0.0 q=-1.0 Lsize=      14kB time=00:00:02.88 bitrate=  39.2kbits/s speed=20.7x    \n",
      "video:12kB audio:0kB subtitle:0kB other streams:0kB global headers:0kB muxing overhead: 14.268342%\n",
      "\u001b[1;36m[libx264 @ 0x556691e39080] \u001b[0mframe I:1     Avg QP:18.29  size: 10189\n",
      "\u001b[1;36m[libx264 @ 0x556691e39080] \u001b[0mframe P:19    Avg QP:20.33  size:    35\n",
      "\u001b[1;36m[libx264 @ 0x556691e39080] \u001b[0mframe B:55    Avg QP:28.35  size:    14\n",
      "\u001b[1;36m[libx264 @ 0x556691e39080] \u001b[0mconsecutive B-frames:  1.3%  2.7%  0.0% 96.0%\n",
      "\u001b[1;36m[libx264 @ 0x556691e39080] \u001b[0mmb I  I16..4:  5.7% 65.3% 29.0%\n",
      "\u001b[1;36m[libx264 @ 0x556691e39080] \u001b[0mmb P  I16..4:  0.0%  0.0%  0.0%  P16..4:  1.5%  0.2%  0.1%  0.0%  0.0%    skip:98.2%\n",
      "\u001b[1;36m[libx264 @ 0x556691e39080] \u001b[0mmb B  I16..4:  0.0%  0.0%  0.0%  B16..8:  0.2%  0.0%  0.0%  direct: 0.0%  skip:99.8%  L0: 2.9% L1:97.1% BI: 0.0%\n",
      "\u001b[1;36m[libx264 @ 0x556691e39080] \u001b[0m8x8 transform intra:65.3% inter:100.0%\n",
      "\u001b[1;36m[libx264 @ 0x556691e39080] \u001b[0mcoded y,uvDC,uvAC intra: 90.2% 94.0% 85.0% inter: 0.0% 0.3% 0.0%\n",
      "\u001b[1;36m[libx264 @ 0x556691e39080] \u001b[0mi16 v,h,dc,p: 29%  6%  0% 65%\n",
      "\u001b[1;36m[libx264 @ 0x556691e39080] \u001b[0mi8 v,h,dc,ddl,ddr,vr,hd,vl,hu: 20% 29%  7%  6%  6%  7%  9%  6% 10%\n",
      "\u001b[1;36m[libx264 @ 0x556691e39080] \u001b[0mi4 v,h,dc,ddl,ddr,vr,hd,vl,hu: 16% 21%  7%  8%  9%  9% 10%  9% 11%\n",
      "\u001b[1;36m[libx264 @ 0x556691e39080] \u001b[0mi8c dc,h,v,p: 34% 34% 20% 12%\n",
      "\u001b[1;36m[libx264 @ 0x556691e39080] \u001b[0mWeighted P-Frames: Y:0.0% UV:0.0%\n",
      "\u001b[1;36m[libx264 @ 0x556691e39080] \u001b[0mref P L0: 92.3%  1.0%  6.7%\n",
      "\u001b[1;36m[libx264 @ 0x556691e39080] \u001b[0mref B L1: 93.9%  6.1%\n",
      "\u001b[1;36m[libx264 @ 0x556691e39080] \u001b[0mkb/s:31.05\n"
     ]
    }
   ],
   "source": [
    "# Convert image to 3-second video\n",
    "!ffmpeg -loop 1 -i sample_data/image.jpeg -c:v libx264 -t 3 -pix_fmt yuv420p -vf scale=320:240 sample_data/video.mp4 -y"
   ]
  },
  {
   "cell_type": "code",
   "execution_count": 5,
   "metadata": {
    "scrolled": true
   },
   "outputs": [
    {
     "name": "stdout",
     "output_type": "stream",
     "text": [
      "Using cpu for inference.\r\n",
      "Reading video frames...\r\n",
      "Number of frames available for inference: 75\r\n",
      "Extracting raw audio...\r\n",
      "ffmpeg version 4.3.1 Copyright (c) 2000-2020 the FFmpeg developers\r\n",
      "  built with gcc 9.3.0 (crosstool-NG 1.24.0.133_b0863d8_dirty)\r\n",
      "  configuration: --prefix=/home/ec2-user/anaconda3/envs/JupyterSystemEnv --cc=/home/conda/feedstock_root/build_artifacts/ffmpeg_1609680890771/_build_env/bin/x86_64-conda-linux-gnu-cc --disable-doc --disable-openssl --enable-avresample --enable-gnutls --enable-gpl --enable-hardcoded-tables --enable-libfreetype --enable-libopenh264 --enable-libx264 --enable-pic --enable-pthreads --enable-shared --enable-static --enable-version3 --enable-zlib --enable-libmp3lame --pkg-config=/home/conda/feedstock_root/build_artifacts/ffmpeg_1609680890771/_build_env/bin/pkg-config\r\n",
      "  libavutil      56. 51.100 / 56. 51.100\r\n",
      "  libavcodec     58. 91.100 / 58. 91.100\r\n",
      "  libavformat    58. 45.100 / 58. 45.100\r\n",
      "  libavdevice    58. 10.100 / 58. 10.100\r\n",
      "  libavfilter     7. 85.100 /  7. 85.100\r\n",
      "  libavresample   4.  0.  0 /  4.  0.  0\r\n",
      "  libswscale      5.  7.100 /  5.  7.100\r\n",
      "  libswresample   3.  7.100 /  3.  7.100\r\n",
      "  libpostproc    55.  7.100 / 55.  7.100\r\n",
      "\u001b[0;35m[mp3 @ 0x56471121edc0] \u001b[0m\u001b[0;33mEstimating duration from bitrate, this may be inaccurate\r\n",
      "\u001b[0mInput #0, mp3, from 'sample_data/audio.mp3':\r\n",
      "  Metadata:\r\n",
      "    encoder         : Lavf58.45.100\r\n",
      "  Duration: 00:00:17.40, start: 0.000000, bitrate: 48 kb/s\r\n",
      "    Stream #0:0: Audio: mp3, 24000 Hz, mono, fltp, 48 kb/s\r\n",
      "Stream mapping:\r\n",
      "  Stream #0:0 -> #0:0 (mp3 (mp3float) -> pcm_s16le (native))\r\n",
      "Press [q] to stop, [?] for help\r\n",
      "Output #0, wav, to 'temp/temp.wav':\r\n",
      "  Metadata:\r\n",
      "    ISFT            : Lavf58.45.100\r\n",
      "    Stream #0:0: Audio: pcm_s16le ([1][0][0][0] / 0x0001), 24000 Hz, mono, s16, 384 kb/s\r\n",
      "    Metadata:\r\n",
      "      encoder         : Lavc58.91.100 pcm_s16le\r\n",
      "\u001b[0;36m[mp3float @ 0x564711220bc0] \u001b[0moverread, skip -5 enddists: -3 -3\r\n",
      "size=     816kB time=00:00:17.40 bitrate= 384.0kbits/s speed=1.07e+03x    \r\n",
      "video:0kB audio:816kB subtitle:0kB other streams:0kB global headers:0kB muxing overhead: 0.009339%\r\n",
      "(80, 1393)\r\n",
      "Length of mel chunks: 432\r\n",
      "  0%|                                                    | 0/14 [00:00<?, ?it/s]\r\n",
      "  0%|                                                     | 0/5 [00:00<?, ?it/s]\u001b[A/home/ec2-user/anaconda3/envs/JupyterSystemEnv/lib/python3.6/site-packages/torch/nn/functional.py:718: UserWarning: Named tensors and all their associated APIs are an experimental feature and subject to change. Please do not use them for anything important until they are released as stable. (Triggered internally at  /pytorch/c10/core/TensorImpl.h:1156.)\r\n",
      "  return torch.max_pool2d(input, kernel_size, stride, padding, dilation, ceil_mode)\r\n",
      "\r\n",
      " 20%|█████████                                    | 1/5 [00:01<00:04,  1.24s/it]\u001b[A\r\n",
      " 40%|██████████████████                           | 2/5 [00:02<00:03,  1.20s/it]\u001b[A\r\n",
      " 60%|███████████████████████████                  | 3/5 [00:03<00:02,  1.19s/it]\u001b[A\r\n",
      " 80%|████████████████████████████████████         | 4/5 [00:04<00:01,  1.20s/it]\u001b[A\r\n",
      "100%|█████████████████████████████████████████████| 5/5 [00:05<00:00,  1.12s/it]\r\n",
      "Load checkpoint from: checkpoints/wav2lip.pth\r\n",
      "Model loaded\r\n",
      "100%|███████████████████████████████████████████| 14/14 [00:33<00:00,  2.36s/it]\r\n",
      "ffmpeg version 4.3.1 Copyright (c) 2000-2020 the FFmpeg developers\r\n",
      "  built with gcc 9.3.0 (crosstool-NG 1.24.0.133_b0863d8_dirty)\r\n",
      "  configuration: --prefix=/home/ec2-user/anaconda3/envs/JupyterSystemEnv --cc=/home/conda/feedstock_root/build_artifacts/ffmpeg_1609680890771/_build_env/bin/x86_64-conda-linux-gnu-cc --disable-doc --disable-openssl --enable-avresample --enable-gnutls --enable-gpl --enable-hardcoded-tables --enable-libfreetype --enable-libopenh264 --enable-libx264 --enable-pic --enable-pthreads --enable-shared --enable-static --enable-version3 --enable-zlib --enable-libmp3lame --pkg-config=/home/conda/feedstock_root/build_artifacts/ffmpeg_1609680890771/_build_env/bin/pkg-config\r\n",
      "  libavutil      56. 51.100 / 56. 51.100\r\n",
      "  libavcodec     58. 91.100 / 58. 91.100\r\n",
      "  libavformat    58. 45.100 / 58. 45.100\r\n",
      "  libavdevice    58. 10.100 / 58. 10.100\r\n",
      "  libavfilter     7. 85.100 /  7. 85.100\r\n",
      "  libavresample   4.  0.  0 /  4.  0.  0\r\n",
      "  libswscale      5.  7.100 /  5.  7.100\r\n",
      "  libswresample   3.  7.100 /  3.  7.100\r\n",
      "  libpostproc    55.  7.100 / 55.  7.100\r\n",
      "\u001b[0;33mGuessed Channel Layout for Input Stream #0.0 : mono\r\n",
      "\u001b[0mInput #0, wav, from 'temp/temp.wav':\r\n",
      "  Metadata:\r\n",
      "    encoder         : Lavf58.45.100\r\n",
      "  Duration: 00:00:17.40, bitrate: 384 kb/s\r\n",
      "    Stream #0:0: Audio: pcm_s16le ([1][0][0][0] / 0x0001), 24000 Hz, mono, s16, 384 kb/s\r\n",
      "Input #1, avi, from 'temp/result.avi':\r\n",
      "  Metadata:\r\n",
      "    encoder         : Lavf58.61.100\r\n",
      "  Duration: 00:00:17.28, start: 0.000000, bitrate: 86 kb/s\r\n",
      "    Stream #1:0: Video: mpeg4 (Simple Profile) (DIVX / 0x58564944), yuv420p, 160x120 [SAR 1:1 DAR 4:3], 79 kb/s, 25 fps, 25 tbr, 25 tbn, 25 tbc\r\n",
      "Stream mapping:\r\n",
      "  Stream #1:0 -> #0:0 (mpeg4 (native) -> h264 (libx264))\r\n",
      "  Stream #0:0 -> #0:1 (pcm_s16le (native) -> aac (native))\r\n",
      "Press [q] to stop, [?] for help\r\n",
      "\u001b[1;36m[libx264 @ 0x56314288cf00] \u001b[0m\u001b[0;33m-qscale is ignored, -crf is recommended.\r\n",
      "\u001b[0m\u001b[1;36m[libx264 @ 0x56314288cf00] \u001b[0musing SAR=1/1\r\n",
      "\u001b[1;36m[libx264 @ 0x56314288cf00] \u001b[0musing cpu capabilities: MMX2 SSE2Fast SSSE3 SSE4.2 AVX FMA3 BMI2 AVX2\r\n",
      "\u001b[1;36m[libx264 @ 0x56314288cf00] \u001b[0mprofile High, level 1.1, 4:2:0, 8-bit\r\n",
      "\u001b[1;36m[libx264 @ 0x56314288cf00] \u001b[0m264 - core 161 r3030M 8bd6d28 - H.264/MPEG-4 AVC codec - Copyleft 2003-2020 - http://www.videolan.org/x264.html - options: cabac=1 ref=3 deblock=1:0:0 analyse=0x3:0x113 me=hex subme=7 psy=1 psy_rd=1.00:0.00 mixed_ref=1 me_range=16 chroma_me=1 trellis=1 8x8dct=1 cqm=0 deadzone=21,11 fast_pskip=1 chroma_qp_offset=-2 threads=4 lookahead_threads=1 sliced_threads=0 nr=0 decimate=1 interlaced=0 bluray_compat=0 constrained_intra=0 bframes=3 b_pyramid=2 b_adapt=1 b_bias=0 direct=1 weightb=1 open_gop=0 weightp=2 keyint=250 keyint_min=25 scenecut=40 intra_refresh=0 rc_lookahead=40 rc=crf mbtree=1 crf=23.0 qcomp=0.60 qpmin=0 qpmax=69 qpstep=4 ip_ratio=1.40 aq=1:1.00\r\n",
      "Output #0, mp4, to 'results/result_voice.mp4':\r\n",
      "  Metadata:\r\n",
      "    encoder         : Lavf58.45.100\r\n",
      "    Stream #0:0: Video: h264 (libx264) (avc1 / 0x31637661), yuv420p(progressive), 160x120 [SAR 1:1 DAR 4:3], q=-1--1, 25 fps, 12800 tbn, 25 tbc\r\n",
      "    Metadata:\r\n",
      "      encoder         : Lavc58.91.100 libx264\r\n",
      "    Side data:\r\n",
      "      cpb: bitrate max/min/avg: 0/0/0 buffer size: 0 vbv_delay: N/A\r\n",
      "    Stream #0:1: Audio: aac (LC) (mp4a / 0x6134706D), 24000 Hz, mono, fltp, 69 kb/s\r\n",
      "    Metadata:\r\n",
      "      encoder         : Lavc58.91.100 aac\r\n",
      "frame=  432 fps=0.0 q=-1.0 Lsize=     204kB time=00:00:17.40 bitrate=  95.8kbits/s speed=80.6x    \r\n",
      "video:43kB audio:151kB subtitle:0kB other streams:0kB global headers:0kB muxing overhead: 5.431066%\r\n",
      "\u001b[1;36m[libx264 @ 0x56314288cf00] \u001b[0mframe I:2     Avg QP:19.36  size:  3292\r\n",
      "\u001b[1;36m[libx264 @ 0x56314288cf00] \u001b[0mframe P:285   Avg QP:21.99  size:   111\r\n",
      "\u001b[1;36m[libx264 @ 0x56314288cf00] \u001b[0mframe B:145   Avg QP:30.44  size:    32\r\n",
      "\u001b[1;36m[libx264 @ 0x56314288cf00] \u001b[0mconsecutive B-frames: 49.1% 15.7%  8.3% 26.9%\r\n",
      "\u001b[1;36m[libx264 @ 0x56314288cf00] \u001b[0mmb I  I16..4:  0.6% 85.6% 13.8%\r\n",
      "\u001b[1;36m[libx264 @ 0x56314288cf00] \u001b[0mmb P  I16..4:  0.0%  0.1%  0.0%  P16..4:  9.4%  4.0%  2.8%  0.0%  0.0%    skip:83.8%\r\n",
      "\u001b[1;36m[libx264 @ 0x56314288cf00] \u001b[0mmb B  I16..4:  0.0%  0.0%  0.0%  B16..8:  6.1%  0.8%  0.2%  direct: 0.4%  skip:92.6%  L0:41.1% L1:52.1% BI: 6.8%\r\n",
      "\u001b[1;36m[libx264 @ 0x56314288cf00] \u001b[0m8x8 transform intra:86.2% inter:76.5%\r\n",
      "\u001b[1;36m[libx264 @ 0x56314288cf00] \u001b[0mcoded y,uvDC,uvAC intra: 93.1% 95.4% 78.2% inter: 4.3% 5.0% 0.3%\r\n",
      "\u001b[1;36m[libx264 @ 0x56314288cf00] \u001b[0mi16 v,h,dc,p:  0%  0% 100%  0%\r\n",
      "\u001b[1;36m[libx264 @ 0x56314288cf00] \u001b[0mi8 v,h,dc,ddl,ddr,vr,hd,vl,hu: 24% 26% 12%  6%  4%  8%  6%  5%  9%\r\n",
      "\u001b[1;36m[libx264 @ 0x56314288cf00] \u001b[0mi4 v,h,dc,ddl,ddr,vr,hd,vl,hu: 23% 26%  6%  7%  8%  9%  7%  8%  7%\r\n",
      "\u001b[1;36m[libx264 @ 0x56314288cf00] \u001b[0mi8c dc,h,v,p: 40% 24% 26% 10%\r\n",
      "\u001b[1;36m[libx264 @ 0x56314288cf00] \u001b[0mWeighted P-Frames: Y:0.0% UV:0.0%\r\n",
      "\u001b[1;36m[libx264 @ 0x56314288cf00] \u001b[0mref P L0: 67.6% 13.8% 12.1%  6.5%\r\n",
      "\u001b[1;36m[libx264 @ 0x56314288cf00] \u001b[0mref B L0: 80.1% 16.2%  3.6%\r\n",
      "\u001b[1;36m[libx264 @ 0x56314288cf00] \u001b[0mref B L1: 96.0%  4.0%\r\n",
      "\u001b[1;36m[libx264 @ 0x56314288cf00] \u001b[0mkb/s:19.84\r\n",
      "\u001b[1;36m[aac @ 0x56314288e1c0] \u001b[0mQavg: 5836.925\r\n",
      "\u001b[0m"
     ]
    }
   ],
   "source": [
    "!python inference.py --checkpoint_path checkpoints/wav2lip.pth --face \"sample_data/video.mp4\" --audio \"sample_data/audio.mp3\" --resize_factor 2"
   ]
  },
  {
   "cell_type": "code",
   "execution_count": 6,
   "metadata": {
    "scrolled": true
   },
   "outputs": [],
   "source": [
    "# !aws s3 cp results/result_voice.mp4 s3://wav2lip-results/result.mp4"
   ]
  },
  {
   "cell_type": "code",
   "execution_count": 7,
   "metadata": {},
   "outputs": [
    {
     "name": "stdout",
     "output_type": "stream",
     "text": [
      "cybersecma@gmail.com\r\n",
      "DONE\r\n"
     ]
    }
   ],
   "source": [
    "!python email-aws.py"
   ]
  },
  {
   "cell_type": "markdown",
   "metadata": {},
   "source": [
    "Now, let's clean up our resources"
   ]
  },
  {
   "cell_type": "code",
   "execution_count": 8,
   "metadata": {},
   "outputs": [
    {
     "name": "stdout",
     "output_type": "stream",
     "text": [
      "rm: cannot remove ‘results/result_voice.mp4s’: No such file or directory\r\n"
     ]
    }
   ],
   "source": [
    "!rm results/result_voice.mp4"
   ]
  },
  {
   "cell_type": "code",
   "execution_count": 9,
   "metadata": {},
   "outputs": [
    {
     "name": "stdout",
     "output_type": "stream",
     "text": [
      "delete: s3://video-wav2lip/video.mp4\r\n"
     ]
    }
   ],
   "source": [
    "!aws s3 rm s3://video-wav2lip/video.mp4 "
   ]
  },
  {
   "cell_type": "code",
   "execution_count": 10,
   "metadata": {},
   "outputs": [
    {
     "name": "stdout",
     "output_type": "stream",
     "text": [
      "delete: s3://video-wav2lip/audio.mp3\r\n"
     ]
    }
   ],
   "source": [
    "!aws s3 rm s3://video-wav2lip/audio.mp3 "
   ]
  }
 ],
 "metadata": {
  "accelerator": "GPU",
  "colab": {
   "collapsed_sections": [],
   "name": "Wav2Lip.ipynb",
   "provenance": [
    {
     "file_id": "1tZpDWXz49W6wDcTprANRGLo2D_EbD5J8",
     "timestamp": 1619967859029
    },
    {
     "file_id": "1NLUwupCBsB1HrpEmOIHeMgU63sus2LxP",
     "timestamp": 1597735440478
    }
   ],
   "toc_visible": true
  },
  "kernelspec": {
   "display_name": "conda_pytorch_p36",
   "language": "python",
   "name": "conda_pytorch_p36"
  },
  "language_info": {
   "codemirror_mode": {
    "name": "ipython",
    "version": 3
   },
   "file_extension": ".py",
   "mimetype": "text/x-python",
   "name": "python",
   "nbconvert_exporter": "python",
   "pygments_lexer": "ipython3",
   "version": "3.6.13"
  }
 },
 "nbformat": 4,
 "nbformat_minor": 1
}
