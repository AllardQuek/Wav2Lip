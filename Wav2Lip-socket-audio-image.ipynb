{
 "cells": [
  {
   "cell_type": "code",
   "execution_count": 1,
   "metadata": {},
   "outputs": [
    {
     "name": "stdout",
     "output_type": "stream",
     "text": [
      "Starting...\n"
     ]
    }
   ],
   "source": [
    "print(\"Starting...\")"
   ]
  },
  {
   "cell_type": "code",
   "execution_count": 2,
   "metadata": {},
   "outputs": [
    {
     "name": "stdout",
     "output_type": "stream",
     "text": [
      "download: s3://video-wav2lip/video.mp4 to sample_data/video.mp4   \r\n",
      "download: s3://audio-wav2lip/audio.mp3 to sample_data/audio.mp3   \r\n",
      "audio.mp3  elon.mp4  polly.mp3\tseth.jpeg  video.mp4\r\n"
     ]
    }
   ],
   "source": [
    "# Copy files over from S3\n",
    "!aws s3 cp s3://video-wav2lip/video.mp4 sample_data/\n",
    "!aws s3 cp s3://audio-wav2lip/audio.mp3 sample_data/\n",
    "!ls sample_data"
   ]
  },
  {
   "cell_type": "code",
   "execution_count": 3,
   "metadata": {},
   "outputs": [],
   "source": [
    "# To install ffmpeg:\n",
    "# !conda install -c conda-forge ffmpeg -y"
   ]
  },
  {
   "cell_type": "code",
   "execution_count": 4,
   "metadata": {},
   "outputs": [
    {
     "name": "stdout",
     "output_type": "stream",
     "text": [
      "ffmpeg version 4.3.1 Copyright (c) 2000-2020 the FFmpeg developers\r\n",
      "  built with gcc 9.3.0 (crosstool-NG 1.24.0.133_b0863d8_dirty)\r\n",
      "  configuration: --prefix=/home/ec2-user/anaconda3/envs/JupyterSystemEnv --cc=/home/conda/feedstock_root/build_artifacts/ffmpeg_1609680890771/_build_env/bin/x86_64-conda-linux-gnu-cc --disable-doc --disable-openssl --enable-avresample --enable-gnutls --enable-gpl --enable-hardcoded-tables --enable-libfreetype --enable-libopenh264 --enable-libx264 --enable-pic --enable-pthreads --enable-shared --enable-static --enable-version3 --enable-zlib --enable-libmp3lame --pkg-config=/home/conda/feedstock_root/build_artifacts/ffmpeg_1609680890771/_build_env/bin/pkg-config\r\n",
      "  libavutil      56. 51.100 / 56. 51.100\r\n",
      "  libavcodec     58. 91.100 / 58. 91.100\r\n",
      "  libavformat    58. 45.100 / 58. 45.100\r\n",
      "  libavdevice    58. 10.100 / 58. 10.100\r\n",
      "  libavfilter     7. 85.100 /  7. 85.100\r\n",
      "  libavresample   4.  0.  0 /  4.  0.  0\r\n",
      "  libswscale      5.  7.100 /  5.  7.100\r\n",
      "  libswresample   3.  7.100 /  3.  7.100\r\n",
      "  libpostproc    55.  7.100 / 55.  7.100\r\n",
      "Input #0, image2, from 'sample_data/seth.jpeg':\r\n",
      "  Duration: 00:00:00.04, start: 0.000000, bitrate: 4408 kb/s\r\n",
      "    Stream #0:0: Video: mjpeg (Baseline), yuvj420p(pc, bt470bg/unknown/unknown), 387x387 [SAR 1:1 DAR 1:1], 25 fps, 25 tbr, 25 tbn, 25 tbc\r\n",
      "Stream mapping:\r\n",
      "  Stream #0:0 -> #0:0 (mjpeg (native) -> h264 (libx264))\r\n",
      "Press [q] to stop, [?] for help\r\n",
      "\u001b[1;34m[swscaler @ 0x55dedf00d900] \u001b[0m\u001b[0;33mdeprecated pixel format used, make sure you did set range correctly\r\n",
      "\u001b[0m\u001b[1;36m[libx264 @ 0x55dedec80800] \u001b[0musing SAR=3/4\r\n",
      "\u001b[1;36m[libx264 @ 0x55dedec80800] \u001b[0musing cpu capabilities: MMX2 SSE2Fast SSSE3 SSE4.2 AVX FMA3 BMI2 AVX2\r\n",
      "\u001b[1;36m[libx264 @ 0x55dedec80800] \u001b[0mprofile High, level 1.3, 4:2:0, 8-bit\r\n",
      "\u001b[1;36m[libx264 @ 0x55dedec80800] \u001b[0m264 - core 161 r3030M 8bd6d28 - H.264/MPEG-4 AVC codec - Copyleft 2003-2020 - http://www.videolan.org/x264.html - options: cabac=1 ref=3 deblock=1:0:0 analyse=0x3:0x113 me=hex subme=7 psy=1 psy_rd=1.00:0.00 mixed_ref=1 me_range=16 chroma_me=1 trellis=1 8x8dct=1 cqm=0 deadzone=21,11 fast_pskip=1 chroma_qp_offset=-2 threads=3 lookahead_threads=1 sliced_threads=0 nr=0 decimate=1 interlaced=0 bluray_compat=0 constrained_intra=0 bframes=3 b_pyramid=2 b_adapt=1 b_bias=0 direct=1 weightb=1 open_gop=0 weightp=2 keyint=250 keyint_min=25 scenecut=40 intra_refresh=0 rc_lookahead=40 rc=crf mbtree=1 crf=23.0 qcomp=0.60 qpmin=0 qpmax=69 qpstep=4 ip_ratio=1.40 aq=1:1.00\r\n",
      "Output #0, mp4, to 'sample_data/video.mp4':\r\n",
      "  Metadata:\r\n",
      "    encoder         : Lavf58.45.100\r\n",
      "    Stream #0:0: Video: h264 (libx264) (avc1 / 0x31637661), yuv420p, 320x240 [SAR 3:4 DAR 1:1], q=-1--1, 25 fps, 12800 tbn, 25 tbc\r\n",
      "    Metadata:\r\n",
      "      encoder         : Lavc58.91.100 libx264\r\n",
      "    Side data:\r\n",
      "      cpb: bitrate max/min/avg: 0/0/0 buffer size: 0 vbv_delay: N/A\r\n",
      "frame=   75 fps=0.0 q=-1.0 Lsize=      14kB time=00:00:02.88 bitrate=  39.2kbits/s speed=17.1x    \r\n",
      "video:12kB audio:0kB subtitle:0kB other streams:0kB global headers:0kB muxing overhead: 14.268342%\r\n",
      "\u001b[1;36m[libx264 @ 0x55dedec80800] \u001b[0mframe I:1     Avg QP:18.29  size: 10189\r\n",
      "\u001b[1;36m[libx264 @ 0x55dedec80800] \u001b[0mframe P:19    Avg QP:20.33  size:    35\r\n",
      "\u001b[1;36m[libx264 @ 0x55dedec80800] \u001b[0mframe B:55    Avg QP:28.35  size:    14\r\n",
      "\u001b[1;36m[libx264 @ 0x55dedec80800] \u001b[0mconsecutive B-frames:  1.3%  2.7%  0.0% 96.0%\r\n",
      "\u001b[1;36m[libx264 @ 0x55dedec80800] \u001b[0mmb I  I16..4:  5.7% 65.3% 29.0%\r\n",
      "\u001b[1;36m[libx264 @ 0x55dedec80800] \u001b[0mmb P  I16..4:  0.0%  0.0%  0.0%  P16..4:  1.5%  0.2%  0.1%  0.0%  0.0%    skip:98.2%\r\n",
      "\u001b[1;36m[libx264 @ 0x55dedec80800] \u001b[0mmb B  I16..4:  0.0%  0.0%  0.0%  B16..8:  0.2%  0.0%  0.0%  direct: 0.0%  skip:99.8%  L0: 2.9% L1:97.1% BI: 0.0%\r\n",
      "\u001b[1;36m[libx264 @ 0x55dedec80800] \u001b[0m8x8 transform intra:65.3% inter:100.0%\r\n",
      "\u001b[1;36m[libx264 @ 0x55dedec80800] \u001b[0mcoded y,uvDC,uvAC intra: 90.2% 94.0% 85.0% inter: 0.0% 0.3% 0.0%\r\n",
      "\u001b[1;36m[libx264 @ 0x55dedec80800] \u001b[0mi16 v,h,dc,p: 29%  6%  0% 65%\r\n",
      "\u001b[1;36m[libx264 @ 0x55dedec80800] \u001b[0mi8 v,h,dc,ddl,ddr,vr,hd,vl,hu: 20% 29%  7%  6%  6%  7%  9%  6% 10%\r\n",
      "\u001b[1;36m[libx264 @ 0x55dedec80800] \u001b[0mi4 v,h,dc,ddl,ddr,vr,hd,vl,hu: 16% 21%  7%  8%  9%  9% 10%  9% 11%\r\n",
      "\u001b[1;36m[libx264 @ 0x55dedec80800] \u001b[0mi8c dc,h,v,p: 34% 34% 20% 12%\r\n",
      "\u001b[1;36m[libx264 @ 0x55dedec80800] \u001b[0mWeighted P-Frames: Y:0.0% UV:0.0%\r\n",
      "\u001b[1;36m[libx264 @ 0x55dedec80800] \u001b[0mref P L0: 92.3%  1.0%  6.7%\r\n",
      "\u001b[1;36m[libx264 @ 0x55dedec80800] \u001b[0mref B L1: 93.9%  6.1%\r\n",
      "\u001b[1;36m[libx264 @ 0x55dedec80800] \u001b[0mkb/s:31.05\r\n"
     ]
    }
   ],
   "source": [
    "# Convert image to 3-second video\n",
    "!ffmpeg -loop 1 -i sample_data/seth.jpeg -c:v libx264 -t 3 -pix_fmt yuv420p -vf scale=320:240 sample_data/video.mp4 -y"
   ]
  },
  {
   "cell_type": "code",
   "execution_count": 5,
   "metadata": {},
   "outputs": [
    {
     "name": "stdout",
     "output_type": "stream",
     "text": [
      "Traceback (most recent call last):\r\n",
      "  File \"inference.py\", line 3, in <module>\r\n",
      "    import scipy, cv2, os, sys, argparse, audio\r\n",
      "ModuleNotFoundError: No module named 'scipy'\r\n"
     ]
    }
   ],
   "source": [
    "!python inference.py --checkpoint_path checkpoints/wav2lip.pth --face \"sample_data/video.mp4\" --audio \"sample_data/audio.mp3\" --resize_factor 2"
   ]
  },
  {
   "cell_type": "code",
   "execution_count": 6,
   "metadata": {
    "scrolled": true
   },
   "outputs": [
    {
     "name": "stdout",
     "output_type": "stream",
     "text": [
      "upload: results/result_voice.mp4 to s3://wav2lip-results/result.mp4\r\n"
     ]
    }
   ],
   "source": [
    "!aws s3 cp results/result_voice.mp4 s3://wav2lip-results/result.mp4"
   ]
  }
 ],
 "metadata": {
  "accelerator": "GPU",
  "colab": {
   "collapsed_sections": [],
   "name": "Wav2Lip.ipynb",
   "provenance": [
    {
     "file_id": "1tZpDWXz49W6wDcTprANRGLo2D_EbD5J8",
     "timestamp": 1619967859029
    },
    {
     "file_id": "1NLUwupCBsB1HrpEmOIHeMgU63sus2LxP",
     "timestamp": 1597735440478
    }
   ],
   "toc_visible": true
  },
  "kernelspec": {
   "display_name": "conda_pytorch_p36",
   "language": "python",
   "name": "conda_pytorch_p36"
  },
  "language_info": {
   "codemirror_mode": {
    "name": "ipython",
    "version": 3
   },
   "file_extension": ".py",
   "mimetype": "text/x-python",
   "name": "python",
   "nbconvert_exporter": "python",
   "pygments_lexer": "ipython3",
   "version": "3.6.13"
  }
 },
 "nbformat": 4,
 "nbformat_minor": 1
}
